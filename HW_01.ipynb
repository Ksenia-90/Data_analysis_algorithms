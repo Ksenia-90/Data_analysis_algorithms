{
  "cells": [
    {
      "cell_type": "markdown",
      "metadata": {
        "id": "view-in-github",
        "colab_type": "text"
      },
      "source": [
        "<a href=\"https://colab.research.google.com/github/Ksenia-90/Data_analysis_algorithms/blob/lesson_8/HW_01.ipynb\" target=\"_parent\"><img src=\"https://colab.research.google.com/assets/colab-badge.svg\" alt=\"Open In Colab\"/></a>"
      ]
    },
    {
      "cell_type": "code",
      "execution_count": null,
      "metadata": {
        "id": "NIgn3wNHXYft"
      },
      "outputs": [],
      "source": [
        "import torch\n"
      ]
    },
    {
      "cell_type": "code",
      "execution_count": null,
      "metadata": {
        "id": "Dqafc7UeXYfy"
      },
      "outputs": [],
      "source": [
        "# Создайте случайный FloatTensor размера 3x4x5"
      ]
    },
    {
      "cell_type": "code",
      "source": [
        "a = torch.FloatTensor(3, 4, 5)\n",
        "print (a)"
      ],
      "metadata": {
        "colab": {
          "base_uri": "https://localhost:8080/"
        },
        "id": "IfXgrifIaF6u",
        "outputId": "e2725ec1-e016-44a9-d082-c3372f57f6fe"
      },
      "execution_count": null,
      "outputs": [
        {
          "output_type": "stream",
          "name": "stdout",
          "text": [
            "tensor([[[2.7533e-36, 0.0000e+00, 2.9848e-43, 0.0000e+00, 0.0000e+00],\n",
            "         [0.0000e+00, 0.0000e+00, 0.0000e+00, 0.0000e+00, 0.0000e+00],\n",
            "         [1.8788e+31, 1.7220e+22, 2.1715e-18, 8.5493e+20, 2.1781e-04],\n",
            "         [8.3016e-10, 4.1951e-08, 4.1337e-05, 1.2972e-11, 6.6765e+22]],\n",
            "\n",
            "        [[1.6852e+22, 2.0568e+20, 2.1707e-18, 4.5447e+30, 7.0062e+22],\n",
            "         [2.1715e-18, 4.5447e+30, 7.0062e+22, 2.1707e-18, 1.9284e+31],\n",
            "         [3.2314e-18, 1.9140e+23, 4.1956e-08, 1.2914e-11, 6.6471e+22],\n",
            "         [2.1865e+23, 2.1251e-07, 2.5836e-06, 8.3901e-07, 1.6852e+22]],\n",
            "\n",
            "        [[2.4718e-18, 3.1360e+27, 7.0800e+31, 3.1095e-18, 1.2250e+25],\n",
            "         [7.0969e+22, 4.4260e+30, 7.2442e+22, 2.3086e-12, 7.2646e+22],\n",
            "         [7.2250e+28, 1.5766e-19, 6.3376e-10, 2.1707e-18, 7.2128e+22],\n",
            "         [2.1715e-18, 1.0372e-08, 1.0356e-11, 7.7204e-10, 6.5566e-10]]])\n"
          ]
        }
      ]
    },
    {
      "cell_type": "code",
      "execution_count": null,
      "metadata": {
        "colab": {
          "base_uri": "https://localhost:8080/"
        },
        "id": "gWmqQKYqXYfz",
        "outputId": "83bf9426-f4bb-4df1-b226-6e7e215127b8"
      },
      "outputs": [
        {
          "output_type": "execute_result",
          "data": {
            "text/plain": [
              "torch.Size([3, 4, 5])"
            ]
          },
          "metadata": {},
          "execution_count": 22
        }
      ],
      "source": [
        "# Выведите его форму (shape)\n",
        "a.size()\n"
      ]
    },
    {
      "cell_type": "code",
      "execution_count": null,
      "metadata": {
        "id": "1gTiFr6yXYfz"
      },
      "outputs": [],
      "source": [
        "# Приведите его к форме 6 X 10"
      ]
    },
    {
      "cell_type": "code",
      "source": [
        "a.resize_((6,10))"
      ],
      "metadata": {
        "colab": {
          "base_uri": "https://localhost:8080/"
        },
        "id": "nXlFOyqsARVm",
        "outputId": "1b2aa287-123c-4352-ee2f-657d31858e26"
      },
      "execution_count": null,
      "outputs": [
        {
          "output_type": "execute_result",
          "data": {
            "text/plain": [
              "tensor([[ 1.2413e-36,  0.0000e+00,  2.7490e+26,  1.1836e+33,  1.2415e-36,\n",
              "          0.0000e+00,  1.2415e-36,  0.0000e+00,  4.4166e+21,  2.3772e-01],\n",
              "        [ 1.7439e+28,  1.8768e+25,  1.2415e-36,  0.0000e+00,  1.2415e-36,\n",
              "          0.0000e+00,  2.6454e+20,  1.8499e+20,  7.2728e+22,  1.7388e+25],\n",
              "        [ 4.5979e+24,  1.9603e-19,  2.8699e+32,  7.1758e+22,  7.2250e+28,\n",
              "          2.7168e+30,  2.1580e-43,  5.6122e-41,  1.5745e-38, -2.0018e-22],\n",
              "        [-9.0072e+15,  6.8589e+22,  6.9146e+28,  3.0481e+32,  7.1536e+22,\n",
              "          7.1547e+22,  7.2961e-34,  2.5353e+30,  2.2421e-43,  1.7238e+25],\n",
              "        [ 1.8971e+31,  1.7437e+28,  1.7784e+25,  2.5759e+20,  2.7658e+29,\n",
              "          1.1632e+33,  4.6161e+24,  1.6631e+22,  4.0688e+22,  2.8397e+29],\n",
              "        [ 1.8524e+28, -1.2512e-23,  2.5353e+30,  2.4663e-43,  4.9306e-41,\n",
              "          2.5583e+30,  0.0000e+00,  4.9665e-41,  1.4918e-38,  1.9928e-38]])"
            ]
          },
          "metadata": {},
          "execution_count": 12
        }
      ]
    },
    {
      "cell_type": "code",
      "source": [
        "a.shape"
      ],
      "metadata": {
        "colab": {
          "base_uri": "https://localhost:8080/"
        },
        "id": "cNqjxC9jCRqG",
        "outputId": "eab39706-5446-4987-c750-547c6f23e058"
      },
      "execution_count": null,
      "outputs": [
        {
          "output_type": "execute_result",
          "data": {
            "text/plain": [
              "torch.Size([6, 10])"
            ]
          },
          "metadata": {},
          "execution_count": 13
        }
      ]
    },
    {
      "cell_type": "code",
      "execution_count": null,
      "metadata": {
        "colab": {
          "base_uri": "https://localhost:8080/",
          "height": 214
        },
        "id": "Fh448WNeXYf0",
        "outputId": "8a6bb16f-889d-48f0-87d4-5d0b40cce8db"
      },
      "outputs": [
        {
          "output_type": "error",
          "ename": "AttributeError",
          "evalue": "ignored",
          "traceback": [
            "\u001b[0;31m---------------------------------------------------------------------------\u001b[0m",
            "\u001b[0;31mAttributeError\u001b[0m                            Traceback (most recent call last)",
            "\u001b[0;32m<ipython-input-18-58ab43e54c49>\u001b[0m in \u001b[0;36m<module>\u001b[0;34m()\u001b[0m\n\u001b[1;32m      1\u001b[0m \u001b[0;31m# Умножьте его на вектор [1, 4, 2, 2, 1] поэлементно\u001b[0m\u001b[0;34m\u001b[0m\u001b[0;34m\u001b[0m\u001b[0;34m\u001b[0m\u001b[0m\n\u001b[1;32m      2\u001b[0m \u001b[0mb\u001b[0m \u001b[0;34m=\u001b[0m \u001b[0;34m[\u001b[0m\u001b[0;36m1\u001b[0m\u001b[0;34m,\u001b[0m \u001b[0;36m4\u001b[0m\u001b[0;34m,\u001b[0m \u001b[0;36m2\u001b[0m\u001b[0;34m,\u001b[0m \u001b[0;36m2\u001b[0m\u001b[0;34m,\u001b[0m \u001b[0;36m1\u001b[0m\u001b[0;34m]\u001b[0m\u001b[0;34m\u001b[0m\u001b[0;34m\u001b[0m\u001b[0m\n\u001b[0;32m----> 3\u001b[0;31m \u001b[0mb\u001b[0m\u001b[0;34m.\u001b[0m\u001b[0mshape\u001b[0m\u001b[0;34m(\u001b[0m\u001b[0;34m)\u001b[0m\u001b[0;34m\u001b[0m\u001b[0;34m\u001b[0m\u001b[0m\n\u001b[0m\u001b[1;32m      4\u001b[0m \u001b[0;31m#AB = torch.matmul(a, b)\u001b[0m\u001b[0;34m\u001b[0m\u001b[0;34m\u001b[0m\u001b[0;34m\u001b[0m\u001b[0m\n",
            "\u001b[0;31mAttributeError\u001b[0m: 'list' object has no attribute 'shape'"
          ]
        }
      ],
      "source": [
        "# Умножьте его на вектор [1, 4, 2, 2, 1] поэлементно\n",
        "b = [1, 4, 2, 2, 1]\n",
        "b.shape()\n",
        "#AB = torch.matmul(a, b)"
      ]
    },
    {
      "cell_type": "code",
      "execution_count": null,
      "metadata": {
        "id": "ab25PtKuXYf0"
      },
      "outputs": [],
      "source": [
        "# Умножьте тензор матрично на себя, чтобы результат был размерности 6x6"
      ]
    },
    {
      "cell_type": "code",
      "execution_count": null,
      "metadata": {
        "id": "3pqDbme9XYf1"
      },
      "outputs": [],
      "source": [
        "# Посчитайте производную функции y = x**3 + z - 75t в точке (1, 0.5, 2)"
      ]
    },
    {
      "cell_type": "code",
      "source": [
        "#y = x**3 + z - 75t\n",
        "#y.backward(torch.ones(1,0.5,3))"
      ],
      "metadata": {
        "colab": {
          "base_uri": "https://localhost:8080/",
          "height": 129
        },
        "id": "QVaWQRq9D5Fm",
        "outputId": "5752b8ce-dcc0-4e2f-be72-afd3fb691e2a"
      },
      "execution_count": null,
      "outputs": [
        {
          "output_type": "error",
          "ename": "SyntaxError",
          "evalue": "ignored",
          "traceback": [
            "\u001b[0;36m  File \u001b[0;32m\"<ipython-input-8-18aef4eb697c>\"\u001b[0;36m, line \u001b[0;32m1\u001b[0m\n\u001b[0;31m    y = x**3 + z - 75t\u001b[0m\n\u001b[0m                     ^\u001b[0m\n\u001b[0;31mSyntaxError\u001b[0m\u001b[0;31m:\u001b[0m invalid syntax\n"
          ]
        }
      ]
    },
    {
      "cell_type": "code",
      "execution_count": null,
      "metadata": {
        "id": "EVuXyUn2XYf2"
      },
      "outputs": [],
      "source": [
        "# Создайте единичный тензор размера 5x6"
      ]
    },
    {
      "cell_type": "code",
      "source": [
        "x = torch.ones(5,6)"
      ],
      "metadata": {
        "colab": {
          "base_uri": "https://localhost:8080/"
        },
        "id": "EViq9uOnHcVq",
        "outputId": "a193175f-6bf1-47b9-f335-3572dbf009a3"
      },
      "execution_count": null,
      "outputs": [
        {
          "output_type": "error",
          "ename": "NameError",
          "evalue": "ignored",
          "traceback": [
            "\u001b[0;31m---------------------------------------------------------------------------\u001b[0m",
            "\u001b[0;31mNameError\u001b[0m                                 Traceback (most recent call last)",
            "\u001b[0;32m<ipython-input-1-f3bbb3d7974e>\u001b[0m in \u001b[0;36m<module>\u001b[0;34m()\u001b[0m\n\u001b[0;32m----> 1\u001b[0;31m \u001b[0mx\u001b[0m \u001b[0;34m=\u001b[0m \u001b[0mtorch\u001b[0m\u001b[0;34m.\u001b[0m\u001b[0mones\u001b[0m\u001b[0;34m(\u001b[0m\u001b[0;36m5\u001b[0m\u001b[0;34m,\u001b[0m\u001b[0;36m6\u001b[0m\u001b[0;34m)\u001b[0m\u001b[0;34m\u001b[0m\u001b[0;34m\u001b[0m\u001b[0m\n\u001b[0m",
            "\u001b[0;31mNameError\u001b[0m: name 'torch' is not defined"
          ]
        }
      ]
    },
    {
      "cell_type": "code",
      "source": [
        "print(x)"
      ],
      "metadata": {
        "id": "9v8EYHFJHhbA"
      },
      "execution_count": null,
      "outputs": []
    },
    {
      "cell_type": "code",
      "execution_count": null,
      "metadata": {
        "id": "o6udavI0XYf2"
      },
      "outputs": [],
      "source": [
        "# Переведите его в формат numpy\n",
        "y = x.numpy ()\n",
        "print(y)"
      ]
    },
    {
      "cell_type": "code",
      "execution_count": null,
      "metadata": {
        "id": "L2XbL0kRXYf3"
      },
      "outputs": [],
      "source": [
        "# Давайте теперь пооптимизируем: возьмите функцию y = x**w1 - 2 * x**2 + 5\n",
        "# Посчитайте "
      ]
    }
  ],
  "metadata": {
    "kernelspec": {
      "display_name": "Python 3",
      "language": "python",
      "name": "python3"
    },
    "language_info": {
      "codemirror_mode": {
        "name": "ipython",
        "version": 3
      },
      "file_extension": ".py",
      "mimetype": "text/x-python",
      "name": "python",
      "nbconvert_exporter": "python",
      "pygments_lexer": "ipython3",
      "version": "3.7.4"
    },
    "colab": {
      "name": "HW_01.ipynb",
      "provenance": [],
      "include_colab_link": true
    }
  },
  "nbformat": 4,
  "nbformat_minor": 0
}