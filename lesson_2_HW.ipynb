{
  "nbformat": 4,
  "nbformat_minor": 0,
  "metadata": {
    "colab": {
      "name": "lesson_2_HW.ipynb",
      "provenance": [],
      "collapsed_sections": [
        "Ws1-N-_Qiqus",
        "Lq5zA2Itiqu3"
      ],
      "include_colab_link": true
    },
    "kernelspec": {
      "display_name": "Python 3",
      "language": "python",
      "name": "python3"
    },
    "language_info": {
      "codemirror_mode": {
        "name": "ipython",
        "version": 3
      },
      "file_extension": ".py",
      "mimetype": "text/x-python",
      "name": "python",
      "nbconvert_exporter": "python",
      "pygments_lexer": "ipython3",
      "version": "3.7.1"
    }
  },
  "cells": [
    {
      "cell_type": "markdown",
      "metadata": {
        "id": "view-in-github",
        "colab_type": "text"
      },
      "source": [
        "<a href=\"https://colab.research.google.com/github/Ksenia-90/Data_analysis_algorithms/blob/lesson_2/lesson_2_HW.ipynb\" target=\"_parent\"><img src=\"https://colab.research.google.com/assets/colab-badge.svg\" alt=\"Open In Colab\"/></a>"
      ]
    },
    {
      "cell_type": "markdown",
      "metadata": {
        "id": "JkQFTgKJiqsy"
      },
      "source": [
        "# Урок 2. Масштабирование признаков. Регуляризация. Стохастический градиентный спуск."
      ]
    },
    {
      "cell_type": "code",
      "metadata": {
        "id": "c7NGnJrtiqs_"
      },
      "source": [
        "import numpy as np\n",
        "from sklearn import datasets\n",
        "import matplotlib.pyplot as plt\n",
        "from sklearn. datasets import make_regression\n",
        "\n",
        "%matplotlib inline"
      ],
      "execution_count": 69,
      "outputs": []
    },
    {
      "cell_type": "code",
      "metadata": {
        "id": "L92vtZuDiqtD"
      },
      "source": [
        "data1, target =  make_regression(1000, 2)\n",
        "data1[:,0] = data1[:,0]*10\n"
      ],
      "execution_count": 70,
      "outputs": []
    },
    {
      "cell_type": "code",
      "metadata": {
        "colab": {
          "base_uri": "https://localhost:8080/",
          "height": 282
        },
        "id": "C-P358gb1B_Z",
        "outputId": "34366320-7df1-47bb-e99e-160216051b1a"
      },
      "source": [
        "plt.plot(data1[:,0],target,'.')"
      ],
      "execution_count": 71,
      "outputs": [
        {
          "output_type": "execute_result",
          "data": {
            "text/plain": [
              "[<matplotlib.lines.Line2D at 0x7f8fc4121610>]"
            ]
          },
          "metadata": {},
          "execution_count": 71
        },
        {
          "output_type": "display_data",
          "data": {
            "image/png": "[encoded data removed]",
            "text/plain": [
              "<Figure size 432x288 with 1 Axes>"
            ]
          },
          "metadata": {
            "needs_background": "light"
          }
        }
      ]
    },
    {
      "cell_type": "code",
      "metadata": {
        "colab": {
          "base_uri": "https://localhost:8080/"
        },
        "id": "k5Ek6ixh1RSr",
        "outputId": "d25a7224-e0a4-4894-9919-66bf4e2797c9"
      },
      "source": [
        "data1[1].min(), data1[1].max()"
      ],
      "execution_count": 72,
      "outputs": [
        {
          "output_type": "execute_result",
          "data": {
            "text/plain": [
              "(-11.388331177807691, 0.6222071440434019)"
            ]
          },
          "metadata": {},
          "execution_count": 72
        }
      ]
    },
    {
      "cell_type": "code",
      "metadata": {
        "colab": {
          "base_uri": "https://localhost:8080/"
        },
        "id": "f_Bu6Ccp1UrA",
        "outputId": "135f67cc-b56b-4d72-d66d-6c284975b98b"
      },
      "source": [
        "data1[2].min(), data1[2].max()"
      ],
      "execution_count": 73,
      "outputs": [
        {
          "output_type": "execute_result",
          "data": {
            "text/plain": [
              "(0.5689830791852754, 16.28396623128538)"
            ]
          },
          "metadata": {},
          "execution_count": 73
        }
      ]
    },
    {
      "cell_type": "code",
      "metadata": {
        "colab": {
          "base_uri": "https://localhost:8080/"
        },
        "id": "INwpQsKh1Xgw",
        "outputId": "b2969a02-1ea0-401c-dd6a-cdf467198f27"
      },
      "source": [
        "X_norm = data1.copy()\n",
        "X_norm = X_norm.astype(np.float64)\n",
        "X_norm"
      ],
      "execution_count": 74,
      "outputs": [
        {
          "output_type": "execute_result",
          "data": {
            "text/plain": [
              "array([[ -6.50023934,  -1.49652926],\n",
              "       [-11.38833118,   0.62220714],\n",
              "       [ 16.28396623,   0.56898308],\n",
              "       ...,\n",
              "       [ -2.0931382 ,   0.68332899],\n",
              "       [ 10.0751369 ,  -1.86653995],\n",
              "       [  5.00844475,   0.6380511 ]])"
            ]
          },
          "metadata": {},
          "execution_count": 74
        }
      ]
    },
    {
      "cell_type": "code",
      "metadata": {
        "colab": {
          "base_uri": "https://localhost:8080/"
        },
        "id": "hn9OdGhF1Zq2",
        "outputId": "b5ba5c5f-a6d4-40c1-d5d4-8ea43512cd89"
      },
      "source": [
        "X_norm[1] = (data1[1] - data1[1].min()) / (data1[1].max() - data1[1].min())\n",
        "X_norm"
      ],
      "execution_count": 75,
      "outputs": [
        {
          "output_type": "execute_result",
          "data": {
            "text/plain": [
              "array([[-6.50023934, -1.49652926],\n",
              "       [ 0.        ,  1.        ],\n",
              "       [16.28396623,  0.56898308],\n",
              "       ...,\n",
              "       [-2.0931382 ,  0.68332899],\n",
              "       [10.0751369 , -1.86653995],\n",
              "       [ 5.00844475,  0.6380511 ]])"
            ]
          },
          "metadata": {},
          "execution_count": 75
        }
      ]
    },
    {
      "cell_type": "code",
      "metadata": {
        "colab": {
          "base_uri": "https://localhost:8080/"
        },
        "id": "GWHxMATy1cC4",
        "outputId": "9626a68a-4972-4a36-9646-674ad8a453c4"
      },
      "source": [
        "X_norm[2] = (data1[2] - data1[2].min()) / (data1[2].max() - data1[2].min())\n",
        "X_norm"
      ],
      "execution_count": 76,
      "outputs": [
        {
          "output_type": "execute_result",
          "data": {
            "text/plain": [
              "array([[-6.50023934, -1.49652926],\n",
              "       [ 0.        ,  1.        ],\n",
              "       [ 1.        ,  0.        ],\n",
              "       ...,\n",
              "       [-2.0931382 ,  0.68332899],\n",
              "       [10.0751369 , -1.86653995],\n",
              "       [ 5.00844475,  0.6380511 ]])"
            ]
          },
          "metadata": {},
          "execution_count": 76
        }
      ]
    },
    {
      "cell_type": "code",
      "metadata": {
        "colab": {
          "base_uri": "https://localhost:8080/"
        },
        "id": "zWIf7lDM1f5Y",
        "outputId": "702ebd16-3db5-43b1-f5c9-9216e8e8fe9e"
      },
      "source": [
        "X_st = data1.copy().astype(np.float64)\n",
        "X1_mean = data1[1].mean()\n",
        "X1_std = data1[1].std()\n",
        "print(X1_mean, X1_std)"
      ],
      "execution_count": 77,
      "outputs": [
        {
          "output_type": "stream",
          "name": "stdout",
          "text": [
            "-5.383062016882144 6.005269160925546\n"
          ]
        }
      ]
    },
    {
      "cell_type": "code",
      "metadata": {
        "colab": {
          "base_uri": "https://localhost:8080/"
        },
        "id": "FJvUUmXk1iA4",
        "outputId": "d57f9c9e-38a7-45d1-9e72-1701feb4c6ee"
      },
      "source": [
        "X_st[1] = (data1[1] - X1_mean) / X1_std\n",
        "X_st"
      ],
      "execution_count": 78,
      "outputs": [
        {
          "output_type": "execute_result",
          "data": {
            "text/plain": [
              "array([[-6.50023934, -1.49652926],\n",
              "       [-1.        ,  1.        ],\n",
              "       [16.28396623,  0.56898308],\n",
              "       ...,\n",
              "       [-2.0931382 ,  0.68332899],\n",
              "       [10.0751369 , -1.86653995],\n",
              "       [ 5.00844475,  0.6380511 ]])"
            ]
          },
          "metadata": {},
          "execution_count": 78
        }
      ]
    },
    {
      "cell_type": "code",
      "metadata": {
        "id": "dFT8gO161kWf"
      },
      "source": [
        "def calc_std_fit(data1):\n",
        "    res = (data1 - data1.mean()) / data1.std()\n",
        "    return res\n"
      ],
      "execution_count": 79,
      "outputs": []
    },
    {
      "cell_type": "code",
      "metadata": {
        "id": "-FraTcFJ1psy"
      },
      "source": [
        "X_st[2] = calc_std_fit(data1[2])"
      ],
      "execution_count": 80,
      "outputs": []
    },
    {
      "cell_type": "code",
      "metadata": {
        "colab": {
          "base_uri": "https://localhost:8080/"
        },
        "id": "9Rg0PhTG1tFN",
        "outputId": "a87dfd35-15aa-48dc-89a9-565868526ad2"
      },
      "source": [
        "X_st[3] = calc_std_fit(data1[3])\n",
        "X_st"
      ],
      "execution_count": 81,
      "outputs": [
        {
          "output_type": "execute_result",
          "data": {
            "text/plain": [
              "array([[-6.50023934, -1.49652926],\n",
              "       [-1.        ,  1.        ],\n",
              "       [ 1.        , -1.        ],\n",
              "       ...,\n",
              "       [-2.0931382 ,  0.68332899],\n",
              "       [10.0751369 , -1.86653995],\n",
              "       [ 5.00844475,  0.6380511 ]])"
            ]
          },
          "metadata": {},
          "execution_count": 81
        }
      ]
    },
    {
      "cell_type": "code",
      "metadata": {
        "id": "rOKEKtFKiqtG"
      },
      "source": [
        "means = np.mean(data1, axis=0)\n",
        "stds = np.std(data1, axis=0)\n",
        "data = data1.copy() \n",
        "for i in range(data1.shape[0]):\n",
        "    for j in range(data1.shape[1]):\n",
        "        data[i][j] = (data[i][j] - means[j])/stds[j]"
      ],
      "execution_count": 82,
      "outputs": []
    },
    {
      "cell_type": "code",
      "metadata": {
        "id": "z1cORZMhCvWc"
      },
      "source": [
        "from sklearn.preprocessing import StandardScaler, Normalizer\n",
        "from sklearn.linear_model import LinearRegression"
      ],
      "execution_count": 83,
      "outputs": []
    },
    {
      "cell_type": "code",
      "metadata": {
        "id": "AjNdcSdLIl5C"
      },
      "source": [
        "data1_test, target_test = datasets.make_regression(1000, 2) \n",
        "data1_test[:,0] = data1_test[:,0]*10\n",
        "data_test = data1_test.copy() \n",
        "for i in range(data1_test.shape[0]):\n",
        "    for j in range(data1_test.shape[1]):\n",
        "        data_test[i][j] = (data_test[i][j] - means[j])/stds[j]"
      ],
      "execution_count": 84,
      "outputs": []
    },
    {
      "cell_type": "code",
      "metadata": {
        "colab": {
          "base_uri": "https://localhost:8080/",
          "height": 265
        },
        "id": "MRX6-ePmIl5C",
        "outputId": "18dbae4d-b0c6-4961-dce0-ded00c2049a3"
      },
      "source": [
        "c_lr1 = LinearRegression().fit(data1,target)\n",
        "c_lr = LinearRegression().fit(data,target)\n",
        "\n",
        "y1 = c_lr1.predict(data1_test[:1000,:])\n",
        "y = c_lr.predict(data_test[:1000,:])\n",
        "\n",
        "plt.plot(y,target_test[:1000],'or', label = 'scaled x')\n",
        "plt.plot(y1,target_test[:1000],'^g', label = 'no scaled x')\n",
        "plt.legend()\n",
        "plt.grid(True)\n",
        "plt.show()\n"
      ],
      "execution_count": 85,
      "outputs": [
        {
          "output_type": "display_data",
          "data": {
            "image/png": "[encoded data removed]",
            "text/plain": [
              "<Figure size 432x288 with 1 Axes>"
            ]
          },
          "metadata": {
            "needs_background": "light"
          }
        }
      ]
    },
    {
      "cell_type": "code",
      "metadata": {
        "colab": {
          "base_uri": "https://localhost:8080/"
        },
        "id": "zOYkKKcNIl5D",
        "outputId": "610c6c39-8da9-47e1-85ec-577e5ede5941"
      },
      "source": [
        "e1 = np.mean(np.abs(y-target_test))\n",
        "e = np.mean(np.abs(y1-target_test))\n",
        "e,e1"
      ],
      "execution_count": 86,
      "outputs": [
        {
          "output_type": "execute_result",
          "data": {
            "text/plain": [
              "(70.13886264193955, 70.1388626419396)"
            ]
          },
          "metadata": {},
          "execution_count": 86
        }
      ]
    },
    {
      "cell_type": "code",
      "metadata": {
        "colab": {
          "base_uri": "https://localhost:8080/"
        },
        "id": "uWa3W2CFIl5D",
        "outputId": "9f9d07a3-9aff-4f69-8618-7a252ac3d3d7"
      },
      "source": [
        "c_lr1.coef_, c_lr.coef_"
      ],
      "execution_count": 87,
      "outputs": [
        {
          "output_type": "execute_result",
          "data": {
            "text/plain": [
              "(array([ 9.83567207, 81.87402295]), array([99.41473722, 79.39363348]))"
            ]
          },
          "metadata": {},
          "execution_count": 87
        }
      ]
    },
    {
      "cell_type": "code",
      "metadata": {
        "id": "8BMCZ7uNiqtJ"
      },
      "source": [
        "def mserror(X, w, y_pred):\n",
        "    y = X.dot(w)\n",
        "    return (sum((y - y_pred)**2)) / len(y)"
      ],
      "execution_count": 88,
      "outputs": []
    },
    {
      "cell_type": "code",
      "metadata": {
        "id": "SUvFZf2GDMF8"
      },
      "source": [
        "def model(data1, target, iterations, alpha=1e-4):\n",
        "    W = np.random.randn(data1.shape[0])\n",
        "    n = data1.shape[1]\n",
        "    for i in range(1, iterations+1):\n",
        "        y_pred = np.dot(W, X)\n",
        "        err = mserror(y, y_pred)\n",
        "        W -= (alpha * (1/n * 2 * np.dot((y_pred - y), X.T)))\n",
        "        if i % (iterations / 10) == 0:\n",
        "            print(i, W, err)\n",
        "    return W"
      ],
      "execution_count": 89,
      "outputs": []
    },
    {
      "cell_type": "code",
      "metadata": {
        "colab": {
          "base_uri": "https://localhost:8080/"
        },
        "id": "1_ysNxMH4Xwt",
        "outputId": "eb4f6625-5a87-4694-acc1-de23f4192fb8"
      },
      "source": [
        "model(X_st, target, iterations=0, alpha=1e-2)"
      ],
      "execution_count": 90,
      "outputs": [
        {
          "output_type": "execute_result",
          "data": {
            "text/plain": [
              "array([-7.93294332e-01,  4.32844554e-01, -5.00676401e-01,  1.57151871e-01,\n",
              "       -1.21369531e+00, -3.48459373e-01,  1.63385705e-01, -9.51472516e-01,\n",
              "        1.68636348e+00, -6.37423913e-01,  1.37841679e+00, -1.67805545e-01,\n",
              "       -1.56847557e+00, -1.13690081e+00,  1.76079289e-01,  1.03277575e+00,\n",
              "        1.76977713e+00,  1.28218729e-01, -1.17724375e+00,  2.78485081e-01,\n",
              "       -8.25214673e-01,  3.92191621e-01, -9.41474552e-01, -2.08957024e+00,\n",
              "        1.31685566e+00, -2.26416731e-01,  4.96603338e-02,  9.96701374e-01,\n",
              "        1.87884671e+00,  7.20080652e-01,  1.03001616e-01,  4.62872876e-01,\n",
              "       -2.94783043e-01,  3.61143785e-02,  1.44863638e-01, -7.86625257e-01,\n",
              "        2.11735869e-02,  3.67101853e-01,  5.17016898e-01,  4.37323782e-01,\n",
              "       -1.33902522e+00,  1.22925894e+00,  1.14628123e+00, -9.61484082e-02,\n",
              "        4.55508695e-01, -2.16553767e-01,  7.51957663e-01, -8.14271846e-01,\n",
              "        1.34246060e+00,  7.02207612e-01,  7.25433792e-01, -1.05052876e-01,\n",
              "       -1.41261850e+00,  8.83934700e-01, -1.37956133e+00,  8.95972660e-01,\n",
              "       -7.72127217e-01, -1.58704865e+00,  9.99703714e-04,  1.18280055e+00,\n",
              "       -9.65603748e-01,  1.59903462e+00,  6.56740544e-01,  1.56759522e-01,\n",
              "       -4.35624256e-01, -3.65897352e-01,  4.30167229e-01,  8.46040859e-01,\n",
              "       -5.93496218e-01, -8.06513327e-01, -2.13826818e-01,  1.39362868e+00,\n",
              "       -1.21688834e+00,  1.14247764e+00,  4.22798316e-02, -1.65273914e+00,\n",
              "       -4.61632402e-01,  6.09668073e-01,  1.80181395e+00, -1.32737272e+00,\n",
              "       -2.81917648e+00, -1.30955282e+00,  1.13041551e+00, -1.79374171e+00,\n",
              "        1.49725389e+00,  1.21480895e+00,  1.91036242e-01, -6.26365310e-01,\n",
              "        5.52606258e-02,  6.11087352e-01,  4.58476465e-01,  1.73965937e+00,\n",
              "       -2.60102450e-01, -1.30084297e+00, -1.47728071e+00, -1.67729127e+00,\n",
              "        1.96278923e-01, -2.34368701e-01,  3.26546029e-02, -5.37059541e-01,\n",
              "       -1.11016686e+00,  6.14335885e-01, -2.46306390e+00, -8.01595568e-01,\n",
              "        7.86490160e-01, -9.00838427e-01,  3.91675420e-01, -8.00259096e-01,\n",
              "       -4.55844874e-01,  5.74920516e-01, -1.27784832e+00,  7.45278330e-01,\n",
              "        4.59204924e-02,  1.25643887e+00,  2.08149972e-01, -1.06948662e+00,\n",
              "        1.72799442e+00, -9.85942945e-01, -2.27156084e-01,  9.57408927e-01,\n",
              "       -1.87992777e+00,  1.43966898e+00, -1.15088429e+00, -4.54999420e-01,\n",
              "        2.88857904e-01, -4.17058561e-02,  7.89176058e-01, -1.60080757e+00,\n",
              "        7.27451354e-01,  8.07242388e-01,  1.02922583e+00, -1.58966077e+00,\n",
              "       -1.46893523e+00, -3.42375650e-01, -1.36082578e+00, -1.80396790e+00,\n",
              "       -3.85464057e-01,  2.34091361e-01,  2.79897953e+00,  5.48675154e-01,\n",
              "        1.75227000e+00, -4.41510864e-02,  5.59565993e-01, -1.46137696e-01,\n",
              "        2.68312322e+00, -6.85590864e-01, -5.49974300e-01,  7.96540688e-01,\n",
              "        2.07472904e-01, -4.24162003e-01,  9.60377149e-01, -4.11471647e-02,\n",
              "       -4.81967274e-02,  2.30582308e-01, -1.73412069e+00, -1.59325399e+00,\n",
              "        1.08689561e+00, -6.76961671e-01, -1.32951348e-01,  1.61243864e+00,\n",
              "       -8.78674559e-02, -2.10088814e-01,  8.96077589e-01, -5.98264917e-01,\n",
              "        1.20292923e+00,  8.75557919e-01,  1.83033320e+00, -6.90343043e-01,\n",
              "        1.36697465e+00,  5.54092107e-01, -1.32536638e+00, -2.59617642e+00,\n",
              "       -7.98026882e-01,  2.92347807e-01,  4.37347933e-01, -5.90810653e-02,\n",
              "       -5.01293659e-02, -1.25993500e-01,  1.03121713e+00, -1.43628970e+00,\n",
              "        2.68289858e-01, -8.22751276e-01, -9.06541065e-01,  1.17623056e+00,\n",
              "       -9.83263077e-01, -1.39518234e-01,  1.95849840e+00,  8.38076968e-01,\n",
              "       -4.54970313e-01, -3.72373058e-01, -1.22720290e+00,  1.30064524e+00,\n",
              "        1.01135181e+00,  6.86602274e-01,  7.96832945e-01, -7.74524609e-01,\n",
              "       -1.54791244e+00,  5.60540425e-01,  8.88557874e-01,  1.60704668e+00,\n",
              "       -2.00890206e-01, -3.46751279e-01, -2.39260205e-01,  6.70743825e-01,\n",
              "       -2.82089283e-01, -5.22390868e-02,  8.31052891e-01, -6.25836155e-01,\n",
              "        1.39115399e+00,  6.33089007e-01, -1.85762063e+00, -5.15354197e-01,\n",
              "       -2.02434350e+00, -1.96679398e-01, -4.98311104e-01,  8.34854759e-01,\n",
              "       -8.81018349e-01,  3.87735002e-01,  5.68847609e-01,  2.57194852e-01,\n",
              "        1.14012358e+00,  2.06828885e+00,  1.11941943e-01,  4.05179517e-01,\n",
              "       -8.80276954e-01, -1.01952341e+00,  1.03382965e+00,  9.01525506e-01,\n",
              "       -1.02961987e+00, -1.30822054e+00, -6.48736805e-01, -1.41377969e-01,\n",
              "       -4.09126408e-01,  1.60514868e-01,  9.17062512e-01,  4.62104379e-01,\n",
              "        5.36120998e-01, -2.45153639e+00, -1.61390302e+00, -7.96456808e-01,\n",
              "       -6.31393648e-01,  8.39827835e-01, -8.78901431e-01,  6.66927661e-01,\n",
              "       -7.85105739e-01, -1.20088429e+00, -1.15444966e+00,  2.25826649e+00,\n",
              "       -8.07364969e-01,  6.90987209e-01, -1.55819843e+00,  1.41892900e+00,\n",
              "        3.49041145e-01,  2.73978869e-01,  4.13827323e-01,  5.23999724e-01,\n",
              "        8.09067259e-01, -5.99097418e-01, -6.57588294e-01,  4.92238780e-02,\n",
              "        6.84427760e-01, -6.66554762e-02,  7.73901796e-01,  6.17836783e-01,\n",
              "       -2.16983261e-01, -1.74717997e+00, -5.03527945e-01,  1.74279723e+00,\n",
              "        3.40059651e-01, -6.39550131e-01,  2.50651578e-01,  6.76644068e-01,\n",
              "       -6.39065609e-01,  1.23538389e+00,  4.95698021e-01, -1.09990877e+00,\n",
              "        8.56366287e-01, -4.09613385e-01, -1.79130426e-01, -1.01596870e+00,\n",
              "        6.31446413e-01, -1.48865227e-01,  6.73756955e-01, -5.50982389e-01,\n",
              "       -6.65403288e-01, -7.46437072e-01,  3.96032180e-01, -6.80349825e-01,\n",
              "       -2.03112649e-01, -5.18426987e-01,  4.40083925e-01, -1.73530245e+00,\n",
              "        2.47032870e-01,  1.73134319e+00,  1.23602611e+00, -6.16653122e-01,\n",
              "        4.94601776e-01,  3.00565473e-01,  1.46939206e+00, -2.51011492e+00,\n",
              "        1.11286737e+00, -2.67517673e-01, -7.43228939e-01, -7.71802029e-01,\n",
              "       -1.29990632e+00, -6.14118407e-01, -1.07973405e+00,  1.80217171e-01,\n",
              "        5.89937632e-01, -2.56573410e-01,  1.49972321e+00, -5.48421285e-01,\n",
              "       -3.08862422e-01, -4.72940643e-01,  5.98618874e-01,  6.99573503e-01,\n",
              "        4.95366884e-01, -1.24108654e-01, -1.34062286e+00, -3.19440581e-01,\n",
              "        1.47813971e+00,  1.01323789e+00,  2.94050397e-01, -3.84452057e-01,\n",
              "       -1.36184773e-02, -3.80004239e-01,  1.19305169e+00, -8.38966998e-01,\n",
              "        9.23669282e-01, -5.29202572e-01,  1.32092683e+00,  4.26775924e-01,\n",
              "       -7.49387400e-01, -3.09312414e-01,  7.11640607e-01, -4.99142824e-01,\n",
              "        2.21364854e-02, -5.12944169e-01,  1.75911715e+00,  1.93107189e+00,\n",
              "        1.46312395e+00, -1.24373965e-01, -4.02752647e-01, -7.79163580e-01,\n",
              "        1.53572129e+00,  9.30723711e-01,  9.78760882e-01, -2.49927937e-01,\n",
              "       -1.75789748e+00, -1.52795761e+00,  5.76340629e-02, -5.22674256e-01,\n",
              "       -6.37701294e-01,  3.45148374e-01,  1.01365983e+00, -7.01227069e-01,\n",
              "       -1.30560969e+00, -6.77471175e-01, -1.04396396e+00,  5.92832616e-01,\n",
              "       -4.10875421e-03,  1.88048923e+00,  7.34685120e-01,  1.81385614e+00,\n",
              "       -1.40387536e+00, -3.25285880e+00,  2.42992028e-01,  1.23220241e-01,\n",
              "       -1.22785415e-01,  9.57967256e-02, -1.12402618e+00,  5.63178698e-01,\n",
              "        7.36193240e-01, -1.19974872e+00, -3.53636421e-01, -2.91863849e-01,\n",
              "       -6.70810902e-01, -1.16111239e+00,  1.25049910e-02,  2.60805521e-01,\n",
              "       -6.10182109e-01, -1.09078860e+00,  4.10557245e-01, -7.67320475e-01,\n",
              "       -3.09205514e-01, -4.36076628e-01,  1.24570866e+00, -7.21430464e-01,\n",
              "        1.72552658e+00,  7.52301938e-01,  1.82089868e+00,  6.64638830e-01,\n",
              "       -2.21044448e-01, -9.17366329e-01, -3.55411391e-01,  1.48728103e+00,\n",
              "       -4.79387923e-02,  6.60919387e-01,  2.06971345e-01,  2.49661179e-01,\n",
              "        2.88159684e-01,  4.95341487e-01, -8.14107491e-01, -2.74904271e-01,\n",
              "        3.09313333e-01,  1.63487223e-01, -4.61204604e-01,  4.16600915e-01,\n",
              "       -7.71141357e-01, -1.22300617e+00,  2.94985768e-01, -1.19849174e+00,\n",
              "        2.80124002e-01, -1.95468100e+00, -7.24987839e-01, -3.27576913e-01,\n",
              "       -1.60663517e+00, -3.72672273e-01,  1.18501964e+00, -1.27030873e+00,\n",
              "       -3.45373246e-01,  1.70264467e+00, -1.06186086e+00,  1.39722335e+00,\n",
              "       -2.79005280e-01,  1.01912086e-01,  1.29148223e+00, -4.85097939e-01,\n",
              "        6.31025673e-01,  8.84597107e-01, -6.50814007e-01, -7.61430167e-01,\n",
              "       -2.28603096e-01, -1.97315341e-01, -1.07894798e+00, -6.41600499e-01,\n",
              "       -3.46690416e+00, -3.34272683e-01,  8.94394180e-01, -1.66668913e+00,\n",
              "       -4.63144532e-01,  2.44233281e+00, -2.25600413e-02,  1.35679437e+00,\n",
              "       -1.01191532e+00,  4.48818406e-01, -1.18221823e+00,  4.01064615e-01,\n",
              "        8.42248235e-01,  6.04975846e-01, -3.44937326e-01,  2.74933566e-01,\n",
              "        2.84491935e-01,  6.65989655e-01, -1.23766948e-01,  9.31138800e-01,\n",
              "        1.43460540e+00, -3.17867447e-01,  4.64397279e-02, -9.04814784e-01,\n",
              "        3.40257324e-01,  3.46637728e-01,  5.79863850e-02,  1.33399654e-01,\n",
              "        1.92182639e+00, -2.88672280e+00, -4.96656878e-01, -3.43723678e-01,\n",
              "        1.45691261e+00,  4.75288809e-01,  4.99685836e-01,  1.25985619e+00,\n",
              "       -1.79956702e-01,  6.52326536e-01, -5.30765888e-01, -1.05330633e+00,\n",
              "        1.79416699e+00,  3.69031730e-01,  6.44662595e-01, -1.08017468e+00,\n",
              "        5.10352646e-01,  1.77823275e+00, -2.77450068e-01, -1.25579944e+00,\n",
              "        1.83976194e-01, -1.03589691e+00, -1.55779870e+00, -7.34765695e-01,\n",
              "       -4.92597795e-01, -9.87249795e-01,  1.32646678e+00,  1.88961000e+00,\n",
              "        6.18088016e-01,  3.84195492e-01, -1.42048113e-01, -8.96332814e-01,\n",
              "        1.60291023e+00, -6.28534971e-02, -4.62585472e-01,  1.01475662e+00,\n",
              "       -7.35841899e-02,  9.77294243e-01, -4.09748707e-01,  1.01763693e+00,\n",
              "        9.79767217e-01,  1.32482842e+00, -7.09424840e-01, -8.30394364e-02,\n",
              "        1.94777008e+00, -2.46412079e-01,  8.11025798e-01,  2.29056502e+00,\n",
              "       -1.84904120e+00, -2.79555638e-01,  1.87018389e-03, -1.79887866e+00,\n",
              "       -4.55971218e-01, -9.71381277e-01,  8.57685468e-01, -1.73264736e+00,\n",
              "        1.88932262e+00,  6.89897413e-01, -1.05382158e+00,  1.02641945e+00,\n",
              "        5.96979674e-01, -3.87676248e-02, -7.21456883e-01,  5.47663282e-01,\n",
              "        1.22920366e-01, -6.89240512e-01, -1.34325509e+00, -8.50589021e-01,\n",
              "       -5.03297856e-01,  1.16248728e+00,  8.60758950e-01, -4.50067534e-01,\n",
              "       -4.11193960e-01,  9.91352280e-01,  2.67346749e-01,  2.53414760e-01,\n",
              "       -7.03375405e-01, -1.23418857e-01,  4.26166722e-03, -9.11917470e-02,\n",
              "        7.34067912e-01,  7.65353839e-01, -9.18957835e-01, -5.00214516e-01,\n",
              "       -6.87373533e-01,  1.38852577e+00,  2.25349053e+00, -4.63621375e-01,\n",
              "       -1.67095246e-01,  8.42314831e-01, -7.07211079e-01,  8.64908328e-01,\n",
              "       -2.08692631e-02, -1.74373970e+00, -1.30043358e+00, -3.37854067e-01,\n",
              "        1.22294855e+00, -8.92534598e-01, -5.34100601e-01,  2.11124227e-01,\n",
              "       -1.66876496e+00,  2.98553281e-01, -1.54374009e+00,  5.67184209e-01,\n",
              "       -8.08778082e-01, -9.42049140e-01,  2.72796625e-01,  7.93990510e-01,\n",
              "        3.76259856e-01,  2.07643500e-01,  2.21802209e-01,  3.82321888e-01,\n",
              "        4.48036196e-01, -3.94281050e-01,  6.54502949e-01, -7.98190225e-01,\n",
              "        1.09139326e+00,  7.82443649e-01,  2.18090100e+00,  5.13848451e-01,\n",
              "        9.09099687e-01, -1.56053829e+00,  9.41696742e-01,  1.17645602e+00,\n",
              "        1.50472129e+00,  1.20466352e-01, -3.41893376e-01, -1.08951478e+00,\n",
              "       -9.98035962e-01, -2.56066746e-02, -1.75143800e+00, -7.68218608e-01,\n",
              "        8.95220508e-02,  6.72034527e-02, -9.69393753e-01, -1.23386331e+00,\n",
              "       -1.08451246e+00, -2.20852159e-01,  2.12979714e+00,  1.06033909e+00,\n",
              "        2.14194404e-01,  5.53890765e-01,  1.01586487e+00,  6.75618651e-01,\n",
              "       -3.08209973e-01, -8.45588207e-01, -1.25274171e-01,  1.00424167e+00,\n",
              "       -2.70391175e-01, -1.10467563e+00, -1.72344799e+00, -1.21030762e-01,\n",
              "       -1.02564224e+00, -4.36515886e-01,  1.45623253e+00, -5.38497112e-02,\n",
              "       -7.50460775e-01,  3.08751281e-01,  1.92095467e+00, -1.20696248e-01,\n",
              "       -2.35552630e+00,  6.50076577e-01,  3.46430061e-01,  9.01223555e-02,\n",
              "       -2.19177259e-01, -8.07272175e-01,  1.51497422e+00, -1.83830933e+00,\n",
              "       -3.08961081e-01, -3.32340172e-01,  8.53441802e-01,  1.23566065e+00,\n",
              "       -2.26733810e-01,  1.92965852e-01,  2.77986814e-01,  1.05332624e+00,\n",
              "        1.03273045e+00, -5.38413544e-01,  4.37901401e-01,  3.83251792e-01,\n",
              "       -1.15909947e-01,  3.73781734e-01,  2.01877619e-02,  1.57890599e-01,\n",
              "       -1.35600631e+00, -9.17961372e-01,  8.17755510e-01, -1.21058788e+00,\n",
              "        4.70109209e-01, -8.14259810e-02,  1.03065473e+00,  6.48800542e-01,\n",
              "       -4.53279170e-01, -2.23248348e-01, -1.98553781e+00, -1.30398115e-01,\n",
              "       -1.27014874e+00, -2.18706358e-01, -6.37918234e-01, -8.76629202e-01,\n",
              "        1.18772451e+00, -1.27621090e+00, -9.63065113e-01, -6.98211043e-01,\n",
              "       -4.81118059e-01, -8.76778511e-01, -3.59148492e-01,  3.02154317e-01,\n",
              "        6.69858758e-01,  6.21307957e-01, -1.90820258e+00,  3.80195894e-01,\n",
              "        4.41898493e-01, -6.62399144e-01,  1.66768421e+00,  1.08766623e+00,\n",
              "       -1.83024383e-01, -5.95968305e-01,  1.65144446e+00, -1.90137379e-02,\n",
              "        8.50370577e-02,  7.24565971e-02,  2.30310447e+00, -2.16515264e-01,\n",
              "       -2.36419768e-02, -8.31062663e-01, -3.89499442e-01, -1.03139219e+00,\n",
              "       -8.10733253e-01, -1.80995166e+00,  8.81524571e-01,  1.56746338e-01,\n",
              "        2.39109292e-01, -5.24383065e-02,  7.17660175e-02,  1.61913907e+00,\n",
              "       -7.68772792e-01,  2.78356798e-01,  2.72991143e-01,  1.14198923e+00,\n",
              "        4.38654813e-01,  4.88918845e-01, -1.25826957e+00, -8.08902352e-01,\n",
              "       -1.16688840e+00, -2.47587180e+00,  3.97199336e-01, -2.61628840e-01,\n",
              "        3.99071689e-01,  3.54892805e-02,  2.40436315e-01,  1.33811541e+00,\n",
              "        7.29508928e-03,  6.68989218e-01, -3.02243686e-01,  8.24788120e-01,\n",
              "       -1.23963765e+00, -1.83755620e+00,  2.10666047e+00,  1.83630415e+00,\n",
              "       -1.94551450e+00, -3.61133260e-02,  1.49916343e-01,  7.22971582e-01,\n",
              "        1.73920890e+00, -1.06141025e+00, -1.00768183e+00, -1.17117619e-03,\n",
              "       -9.63578034e-01, -2.71413678e+00, -2.27240065e-01,  8.57543907e-01,\n",
              "       -2.04673855e-02,  6.24045259e-01,  4.81006204e-01, -1.02698563e+00,\n",
              "        6.80215444e-02, -1.52516065e+00, -5.11910661e-01,  5.04531845e-02,\n",
              "       -1.15266629e-03, -1.29093488e+00, -1.08899549e+00,  2.90959630e-01,\n",
              "        8.27393435e-01, -2.06967493e-01, -2.57026679e-01,  9.31276000e-01,\n",
              "       -7.72066114e-01,  1.72702957e+00, -1.34527270e+00,  1.04849633e+00,\n",
              "        5.39167844e-01,  2.41012052e+00, -1.12116932e+00, -2.33402286e+00,\n",
              "        1.24944637e+00, -1.47133351e+00,  6.15776492e-01,  1.18215108e+00,\n",
              "        3.79760765e-01,  2.32180887e-01,  4.00940035e-01,  8.37421893e-01,\n",
              "        5.87068485e-01, -1.21658381e+00,  1.82499972e+00,  5.11080349e-02,\n",
              "        5.18341586e-01,  7.10989018e-01,  1.15592780e+00,  1.05210682e+00,\n",
              "        1.31736826e-01,  6.74664846e-02,  4.08610983e-01,  1.10006101e+00,\n",
              "       -1.11262168e+00,  6.44095422e-01, -8.86322605e-01,  1.85121353e+00,\n",
              "        3.67314168e-01, -4.16027575e-01,  4.28716602e-01,  9.20165769e-03,\n",
              "       -1.60186962e-01, -1.80922526e+00, -1.02419300e+00, -1.40453099e-01,\n",
              "       -1.68835414e+00, -5.87176297e-01, -4.99874763e-01, -7.79442627e-01,\n",
              "        7.72354814e-01, -8.80169319e-01,  8.84088121e-02, -3.53163959e-01,\n",
              "       -1.18797263e-01,  1.60640075e+00,  1.79686352e-01,  3.73032892e-01,\n",
              "       -7.65417087e-01,  6.26149677e-01,  5.83969907e-01,  4.87608667e-01,\n",
              "       -1.20917682e+00, -5.85247218e-01,  1.43358006e+00, -6.87744466e-01,\n",
              "        1.56998803e+00, -5.46396577e-01,  1.48216154e-01, -1.87169234e-01,\n",
              "       -8.44805282e-01, -8.30408980e-01, -7.04243006e-01,  1.48064281e-01,\n",
              "        8.90417524e-01,  8.31566527e-02, -3.33782365e-02,  1.21037806e+00,\n",
              "        4.13381770e-02, -5.42863605e-01, -9.97741079e-01,  1.27044728e+00,\n",
              "       -3.29397510e-01, -5.78573794e-01, -6.65043224e-01,  1.21419056e+00,\n",
              "       -5.72973993e-01,  9.90462758e-01, -2.30407910e-01, -1.20838033e+00,\n",
              "       -3.32491694e-01, -3.27931344e-02, -1.15170793e-01, -1.39983703e-01,\n",
              "       -3.21944943e-01, -7.85009960e-01,  1.07375638e-02,  5.40948421e-01,\n",
              "       -1.46259576e+00,  1.29906222e+00, -3.69662191e+00,  7.52485748e-02,\n",
              "        4.66086935e-01, -6.03352810e-01, -2.12583477e+00, -9.67241001e-02,\n",
              "        1.69695925e-01, -1.14871873e+00, -8.30133411e-01,  9.62712096e-01,\n",
              "        1.17681760e-01, -1.50867699e+00,  4.49829918e-01, -9.30518832e-01,\n",
              "       -7.74762433e-01,  1.97657393e-01,  1.04490028e-01, -4.02606541e-01,\n",
              "       -5.04209375e-01, -2.50799039e-01, -7.80593493e-01,  1.08901225e+00,\n",
              "       -1.56919370e+00, -2.40878595e-01, -1.45940507e+00,  9.36001747e-01,\n",
              "       -2.42310334e-01, -1.05666859e+00,  6.85047626e-01, -2.29193068e+00,\n",
              "        2.80884025e-01,  1.15128919e+00,  1.79543558e-01, -5.06510447e-01,\n",
              "       -1.24218196e+00,  1.08251464e+00,  9.27421858e-01, -6.45361831e-01,\n",
              "       -6.18637514e-01,  1.18676710e+00,  5.31613147e-01, -1.78658434e+00,\n",
              "       -1.95702405e-01, -2.32556448e-01,  2.47634473e-01,  6.04601594e-03,\n",
              "       -5.12711162e-01,  1.78359652e-01, -4.47777663e-01,  3.41418703e+00,\n",
              "        1.22727901e-01, -1.46994691e-02,  1.84280756e+00, -1.36434339e+00,\n",
              "       -1.09972874e-01, -9.49603087e-01,  6.35010057e-01, -4.94349482e-01,\n",
              "        5.80093735e-01,  5.08050998e-01,  7.80372262e-01,  5.24518793e-01,\n",
              "       -2.24039394e-01, -1.39765271e+00,  1.00908494e+00,  1.40902742e+00,\n",
              "       -9.37868311e-01,  7.35877362e-01, -1.17036275e+00,  2.03432175e-01,\n",
              "        4.09420486e-01, -4.26219774e-01,  9.50714369e-02,  8.48203171e-01,\n",
              "       -1.09416505e-01, -6.75137505e-01, -1.22377921e+00, -3.90764366e-01,\n",
              "       -1.17472158e+00, -3.77384022e-01, -4.65242463e-01,  8.04104970e-01,\n",
              "        7.34750162e-02,  2.54725969e+00, -2.01358924e+00,  3.13371432e-01,\n",
              "       -4.51556285e-01, -9.56040620e-01, -2.97694946e-02, -1.04616932e-01,\n",
              "        1.07781282e+00,  9.12584468e-02, -6.92801588e-01,  3.34210564e-01,\n",
              "       -2.29651564e-01, -1.12547855e+00, -2.48545370e-01,  2.30942077e-01,\n",
              "        7.22824302e-02,  3.30313055e-01, -5.26485209e-01,  3.17611961e-01,\n",
              "        1.20115813e-01,  1.28229384e-01,  3.23565528e-02,  2.17609321e+00,\n",
              "        1.11012624e+00,  2.95391757e-01, -8.00207277e-01, -2.92332500e-01,\n",
              "        1.61578815e+00, -5.62937463e-01, -1.65729633e-01, -2.21403326e-01,\n",
              "        3.67887277e-01, -4.36646477e-01,  1.76858008e-01, -4.14316895e-01,\n",
              "        1.31451070e+00, -6.86277624e-01,  9.77644845e-01, -5.85135856e-01,\n",
              "       -8.53746328e-01, -7.00792746e-01, -1.71143573e+00,  4.38598446e-01,\n",
              "       -1.16397611e+00, -3.57919528e-01,  7.61621598e-01,  7.29352680e-01,\n",
              "       -1.43165892e+00,  3.10543580e-01,  1.14049398e+00, -6.36842910e-01,\n",
              "        5.13573328e-01, -1.14327961e+00,  3.85656953e-01,  1.31271361e-01,\n",
              "        6.61146956e-01,  5.99146087e-01, -1.35348361e+00,  1.36553241e-01,\n",
              "        1.45291364e+00, -2.18530882e+00,  9.66926114e-01,  1.60170510e+00,\n",
              "       -1.48463552e+00, -6.70699071e-01,  5.17743322e-01, -8.86125116e-01,\n",
              "        1.36457918e+00,  1.05889627e+00, -1.38496324e+00, -7.43058100e-01])"
            ]
          },
          "metadata": {},
          "execution_count": 90
        }
      ]
    },
    {
      "cell_type": "code",
      "metadata": {
        "colab": {
          "base_uri": "https://localhost:8080/"
        },
        "id": "hwIeP5Y4iqtQ",
        "outputId": "2de32db0-1f76-42c0-bd2e-0ad78778e3f2"
      },
      "source": [
        "w = np.random.randn(2) \n",
        "w_list = [w.copy()]\n",
        "errors = []\n",
        "eta = 0.15\n",
        "max_iter = 1e5\n",
        "min_weight_dist = 1e-8\n",
        "weight_dist = np.inf\n",
        "iter_num = 0\n",
        "lamb = 0.01 \n",
        "np.random.seed(1234)\n",
        "Q = [0]  \n",
        "while weight_dist > min_weight_dist and iter_num < max_iter:\n",
        "    \n",
        "   \n",
        "    train_ind = np.random.randint(data.shape[0])\n",
        "    \n",
        "    new_w = w - 2 * eta * np.dot(data[train_ind].T, (np.dot(data[train_ind], w) - target[train_ind])) / target.shape[0]\n",
        " \n",
        "    weight_dist = np.linalg.norm(new_w - w, ord=2)\n",
        "    \n",
        "    w_list.append(new_w.copy())\n",
        "    errors.append(mserror(data, new_w, target))\n",
        "    Q.append(Q[-1]*(1-lamb)+lamb*(np.dot(data[train_ind], w) - target[train_ind])**2)\n",
        "    iter_num += 1\n",
        "    w = new_w\n",
        "    \n",
        "w_list = np.array(w_list)\n",
        " \n",
        "print(f'В случае использования стохастического градиентного спуска функционал ошибки составляет {round(errors[-1], 4)}')"
      ],
      "execution_count": 91,
      "outputs": [
        {
          "output_type": "stream",
          "name": "stdout",
          "text": [
            "В случае использования стохастического градиентного спуска функционал ошибки составляет 50.5264\n"
          ]
        }
      ]
    },
    {
      "cell_type": "code",
      "metadata": {
        "colab": {
          "base_uri": "https://localhost:8080/",
          "height": 312
        },
        "id": "MXCKz_wliqtZ",
        "outputId": "2eb13594-6571-4683-c552-b3aabbc3d3ee"
      },
      "source": [
        "plt.plot(range(len(errors)), errors)\n",
        "plt.title('MSE')\n",
        "plt.xlabel('Iteration number')\n",
        "plt.ylabel('MSE')"
      ],
      "execution_count": 92,
      "outputs": [
        {
          "output_type": "execute_result",
          "data": {
            "text/plain": [
              "Text(0, 0.5, 'MSE')"
            ]
          },
          "metadata": {},
          "execution_count": 92
        },
        {
          "output_type": "display_data",
          "data": {
            "image/png": "[encoded data removed]",
            "text/plain": [
              "<Figure size 432x288 with 1 Axes>"
            ]
          },
          "metadata": {
            "needs_background": "light"
          }
        }
      ]
    },
    {
      "cell_type": "code",
      "metadata": {
        "id": "uaZm0U6p3Uel"
      },
      "source": [
        "def model_reg2(data1, target, iterations, alpha=1e-4, lambda_=1e-8):\n",
        "    np.random.seed(42)\n",
        "    W = np.random.randn(data1.shape[0])\n",
        "    n = data1.shape[1]\n",
        "    for i in range(1, iterations+1):\n",
        "        y_pred = np.dot(W, X)\n",
        "        err = mserror(y, y_pred)\n",
        "        W -= alpha * (1/n * 2 * np.dot((y_pred - y), data1.T) + lambda_ * W) \n",
        "        if i % (iterations / 10) == 0:\n",
        "            print(i, W, err)\n",
        "    return W"
      ],
      "execution_count": 93,
      "outputs": []
    },
    {
      "cell_type": "code",
      "metadata": {
        "colab": {
          "base_uri": "https://localhost:8080/"
        },
        "id": "IoGG3La63sAJ",
        "outputId": "c8c7eee7-344d-4adf-d9ab-ff84723d7268"
      },
      "source": [
        "model_reg2(X_st, target, iterations=0, alpha=1e-2, lambda_=1e-4)"
      ],
      "execution_count": 94,
      "outputs": [
        {
          "output_type": "execute_result",
          "data": {
            "text/plain": [
              "array([ 4.96714153e-01, -1.38264301e-01,  6.47688538e-01,  1.52302986e+00,\n",
              "       -2.34153375e-01, -2.34136957e-01,  1.57921282e+00,  7.67434729e-01,\n",
              "       -4.69474386e-01,  5.42560044e-01, -4.63417693e-01, -4.65729754e-01,\n",
              "        2.41962272e-01, -1.91328024e+00, -1.72491783e+00, -5.62287529e-01,\n",
              "       -1.01283112e+00,  3.14247333e-01, -9.08024076e-01, -1.41230370e+00,\n",
              "        1.46564877e+00, -2.25776300e-01,  6.75282047e-02, -1.42474819e+00,\n",
              "       -5.44382725e-01,  1.10922590e-01, -1.15099358e+00,  3.75698018e-01,\n",
              "       -6.00638690e-01, -2.91693750e-01, -6.01706612e-01,  1.85227818e+00,\n",
              "       -1.34972247e-02, -1.05771093e+00,  8.22544912e-01, -1.22084365e+00,\n",
              "        2.08863595e-01, -1.95967012e+00, -1.32818605e+00,  1.96861236e-01,\n",
              "        7.38466580e-01,  1.71368281e-01, -1.15648282e-01, -3.01103696e-01,\n",
              "       -1.47852199e+00, -7.19844208e-01, -4.60638771e-01,  1.05712223e+00,\n",
              "        3.43618290e-01, -1.76304016e+00,  3.24083969e-01, -3.85082280e-01,\n",
              "       -6.76922000e-01,  6.11676289e-01,  1.03099952e+00,  9.31280119e-01,\n",
              "       -8.39217523e-01, -3.09212376e-01,  3.31263431e-01,  9.75545127e-01,\n",
              "       -4.79174238e-01, -1.85658977e-01, -1.10633497e+00, -1.19620662e+00,\n",
              "        8.12525822e-01,  1.35624003e+00, -7.20101216e-02,  1.00353290e+00,\n",
              "        3.61636025e-01, -6.45119755e-01,  3.61395606e-01,  1.53803657e+00,\n",
              "       -3.58260391e-02,  1.56464366e+00, -2.61974510e+00,  8.21902504e-01,\n",
              "        8.70470682e-02, -2.99007350e-01,  9.17607765e-02, -1.98756891e+00,\n",
              "       -2.19671888e-01,  3.57112572e-01,  1.47789404e+00, -5.18270218e-01,\n",
              "       -8.08493603e-01, -5.01757044e-01,  9.15402118e-01,  3.28751110e-01,\n",
              "       -5.29760204e-01,  5.13267433e-01,  9.70775493e-02,  9.68644991e-01,\n",
              "       -7.02053094e-01, -3.27662147e-01, -3.92108153e-01, -1.46351495e+00,\n",
              "        2.96120277e-01,  2.61055272e-01,  5.11345664e-03, -2.34587133e-01,\n",
              "       -1.41537074e+00, -4.20645323e-01, -3.42714517e-01, -8.02277269e-01,\n",
              "       -1.61285712e-01,  4.04050857e-01,  1.88618590e+00,  1.74577813e-01,\n",
              "        2.57550391e-01, -7.44459158e-02, -1.91877122e+00, -2.65138754e-02,\n",
              "        6.02302099e-02,  2.46324211e+00, -1.92360965e-01,  3.01547342e-01,\n",
              "       -3.47117697e-02, -1.16867804e+00,  1.14282281e+00,  7.51933033e-01,\n",
              "        7.91031947e-01, -9.09387455e-01,  1.40279431e+00, -1.40185106e+00,\n",
              "        5.86857094e-01,  2.19045563e+00, -9.90536325e-01, -5.66297730e-01,\n",
              "        9.96513651e-02, -5.03475654e-01, -1.55066343e+00,  6.85629748e-02,\n",
              "       -1.06230371e+00,  4.73592431e-01, -9.19424234e-01,  1.54993441e+00,\n",
              "       -7.83253292e-01, -3.22061516e-01,  8.13517217e-01, -1.23086432e+00,\n",
              "        2.27459935e-01,  1.30714275e+00, -1.60748323e+00,  1.84633859e-01,\n",
              "        2.59882794e-01,  7.81822872e-01, -1.23695071e+00, -1.32045661e+00,\n",
              "        5.21941566e-01,  2.96984673e-01,  2.50492850e-01,  3.46448209e-01,\n",
              "       -6.80024722e-01,  2.32253697e-01,  2.93072473e-01, -7.14351418e-01,\n",
              "        1.86577451e+00,  4.73832921e-01, -1.19130350e+00,  6.56553609e-01,\n",
              "       -9.74681670e-01,  7.87084604e-01,  1.15859558e+00, -8.20682318e-01,\n",
              "        9.63376129e-01,  4.12780927e-01,  8.22060160e-01,  1.89679298e+00,\n",
              "       -2.45388116e-01, -7.53736164e-01, -8.89514430e-01, -8.15810285e-01,\n",
              "       -7.71017094e-02,  3.41151975e-01,  2.76690799e-01,  8.27183249e-01,\n",
              "        1.30018919e-02,  1.45353408e+00, -2.64656833e-01,  2.72016917e+00,\n",
              "        6.25667348e-01, -8.57157556e-01, -1.07089250e+00,  4.82472415e-01,\n",
              "       -2.23462785e-01,  7.14000494e-01,  4.73237625e-01, -7.28289127e-02,\n",
              "       -8.46793718e-01, -1.51484722e+00, -4.46514952e-01,  8.56398794e-01,\n",
              "        2.14093744e-01, -1.24573878e+00,  1.73180926e-01,  3.85317380e-01,\n",
              "       -8.83857436e-01,  1.53725106e-01,  5.82087184e-02, -1.14297030e+00,\n",
              "        3.57787360e-01,  5.60784526e-01,  1.08305124e+00,  1.05380205e+00,\n",
              "       -1.37766937e+00, -9.37825040e-01,  5.15035267e-01,  5.13785951e-01,\n",
              "        5.15047686e-01,  3.85273149e+00,  5.70890511e-01,  1.13556564e+00,\n",
              "        9.54001763e-01,  6.51391251e-01, -3.15269245e-01,  7.58969220e-01,\n",
              "       -7.72825215e-01, -2.36818607e-01, -4.85363548e-01,  8.18741394e-02,\n",
              "        2.31465857e+00, -1.86726519e+00,  6.86260190e-01, -1.61271587e+00,\n",
              "       -4.71931866e-01,  1.08895060e+00,  6.42800191e-02, -1.07774478e+00,\n",
              "       -7.15303709e-01,  6.79597749e-01, -7.30366632e-01,  2.16458590e-01,\n",
              "        4.55718399e-02, -6.51600348e-01,  2.14394409e+00,  6.33919022e-01,\n",
              "       -2.02514259e+00,  1.86454315e-01, -6.61786465e-01,  8.52433335e-01,\n",
              "       -7.92520738e-01, -1.14736441e-01,  5.04987279e-01,  8.65755194e-01,\n",
              "       -1.20029641e+00, -3.34501236e-01, -4.74945311e-01, -6.53329233e-01,\n",
              "        1.76545424e+00,  4.04981711e-01, -1.26088395e+00,  9.17861947e-01,\n",
              "        2.12215620e+00,  1.03246526e+00, -1.51936997e+00, -4.84234073e-01,\n",
              "        1.26691115e+00, -7.07669466e-01,  4.43819428e-01,  7.74634053e-01,\n",
              "       -9.26930472e-01, -5.95253561e-02, -3.24126734e+00, -1.02438764e+00,\n",
              "       -2.52568151e-01, -1.24778318e+00,  1.63241130e+00, -1.43014138e+00,\n",
              "       -4.40044487e-01,  1.30740577e-01,  1.44127329e+00, -1.43586215e+00,\n",
              "        1.16316375e+00,  1.02330610e-02, -9.81508651e-01,  4.62103474e-01,\n",
              "        1.99059696e-01, -6.00216877e-01,  6.98020850e-02, -3.85313597e-01,\n",
              "        1.13517345e-01,  6.62130675e-01,  1.58601682e+00, -1.23781550e+00,\n",
              "        2.13303337e+00, -1.95208780e+00, -1.51785095e-01,  5.88317206e-01,\n",
              "        2.80991868e-01, -6.22699520e-01, -2.08122250e-01, -4.93000935e-01,\n",
              "       -5.89364757e-01,  8.49602097e-01,  3.57015486e-01, -6.92909595e-01,\n",
              "        8.99599875e-01,  3.07299521e-01,  8.12862119e-01,  6.29628842e-01,\n",
              "       -8.28995011e-01, -5.60181040e-01,  7.47293605e-01,  6.10370265e-01,\n",
              "       -2.09015940e-02,  1.17327383e-01,  1.27766490e+00, -5.91571389e-01,\n",
              "        5.47097381e-01, -2.02192652e-01, -2.17681203e-01,  1.09877685e+00,\n",
              "        8.25416349e-01,  8.13509636e-01,  1.30547881e+00,  2.10038416e-02,\n",
              "        6.81952971e-01, -3.10266757e-01,  3.24166352e-01, -1.30143054e-01,\n",
              "        9.69959650e-02,  5.95157025e-01, -8.18220683e-01,  2.09238728e+00,\n",
              "       -1.00601738e+00, -1.21418861e+00,  1.15811087e+00,  7.91662694e-01,\n",
              "        6.24119817e-01,  6.28345509e-01, -1.22467728e-02, -8.97254371e-01,\n",
              "        7.58045582e-02, -6.77161712e-01,  9.75119733e-01, -1.47057382e-01,\n",
              "       -8.25497197e-01, -3.21385842e-01,  4.12931454e-01, -5.63724553e-01,\n",
              "       -8.22220396e-01,  2.43687211e-01,  2.44966571e-01, -5.06943175e-01,\n",
              "       -4.71038306e-01,  2.32049937e-01, -1.44808434e+00, -1.40746377e+00,\n",
              "       -7.18444221e-01, -2.13447152e-01,  3.10907566e-01,  1.47535622e+00,\n",
              "        8.57659623e-01, -1.59938530e-01, -1.90162079e-02, -1.00252936e+00,\n",
              "       -1.85131360e-02, -2.88658639e-01,  3.22718560e-01, -8.27230944e-01,\n",
              "        5.19346514e-01,  1.53273891e+00, -1.08760148e-01,  4.01711722e-01,\n",
              "        6.90143992e-01, -4.01220472e-01,  2.24092482e-01,  1.25924008e-02,\n",
              "        9.76760985e-02, -7.73009784e-01,  2.45101743e-02,  4.97998291e-01,\n",
              "        1.45114361e+00,  9.59270826e-01,  2.15318246e+00, -7.67347563e-01,\n",
              "        8.72320637e-01,  1.83342006e-01,  2.18980293e+00, -8.08298285e-01,\n",
              "       -8.39721842e-01, -5.99392645e-01, -2.12389572e+00, -5.25755022e-01,\n",
              "       -7.59132662e-01,  1.50393786e-01,  3.41755976e-01,  1.87617084e+00,\n",
              "        9.50423838e-01, -5.76903656e-01, -8.98414671e-01,  4.91919172e-01,\n",
              "       -1.32023321e+00,  1.83145877e+00,  1.17944012e+00, -4.69175652e-01,\n",
              "       -1.71313453e+00,  1.35387237e+00, -1.14539845e-01,  1.23781631e+00,\n",
              "       -1.59442766e+00, -5.99375023e-01,  5.24369972e-03,  4.69805938e-02,\n",
              "       -4.50065471e-01,  6.22849932e-01, -1.06762043e+00, -1.42379485e-01,\n",
              "        1.20295632e-01,  5.14438834e-01,  7.11614878e-01, -1.12464209e+00,\n",
              "       -1.53411417e+00,  1.27767682e+00,  3.32314012e-01, -7.48486537e-01,\n",
              "        1.55115198e+00,  1.15674634e-01,  1.17929718e+00,  6.75184814e-02,\n",
              "        2.06074792e+00,  1.75534084e+00, -2.48964148e-01,  9.71570951e-01,\n",
              "        6.45375950e-01,  1.36863156e+00, -9.64923461e-01,  6.86051460e-01,\n",
              "        1.05842449e+00, -1.75873949e+00, -1.18325851e+00, -2.03923218e+00,\n",
              "       -2.69406834e-01,  7.17542256e-01,  1.50235705e+00,  7.40947804e-02,\n",
              "        1.62861555e+00, -1.38010146e+00, -1.70338244e+00, -5.55476989e-02,\n",
              "        3.84065449e-01, -3.26947481e-02, -2.06744210e+00, -8.91200395e-02,\n",
              "       -1.30446950e+00,  6.69672549e-01,  3.66598246e-01, -9.39879786e-01,\n",
              "       -5.13866917e-01, -1.05921352e+00, -6.26790973e-02,  9.55142321e-01,\n",
              "       -9.85726046e-01,  5.04046516e-01, -5.30257618e-01, -7.92872832e-01,\n",
              "       -1.07030360e-01, -1.03524232e+00, -5.53649305e-01, -1.19787789e+00,\n",
              "        1.96472513e+00,  3.52635520e-02, -6.99725508e-01,  2.13979911e-01,\n",
              "       -1.12328050e-01, -2.20969600e-01,  6.14166700e-01,  7.57507710e-01,\n",
              "       -5.30501148e-01, -5.75818241e-01, -2.75051697e-01, -2.30192116e+00,\n",
              "       -1.51519106e+00,  1.36687427e+00,  1.64496771e+00, -2.49036040e-01,\n",
              "        5.76556963e-01,  3.11250155e-01,  3.07888081e+00,  1.11957491e+00,\n",
              "       -1.27917591e-01, -9.55540441e-01, -1.60644632e+00,  2.03463636e-01,\n",
              "       -7.56350745e-01, -1.42225371e+00, -6.46572884e-01, -1.08154800e+00,\n",
              "        1.68714164e+00,  8.81639757e-01, -7.97264132e-03,  1.47994414e+00,\n",
              "        7.73683076e-02, -8.61284201e-01,  1.52312408e+00,  5.38910044e-01,\n",
              "       -1.03724615e+00, -1.90338678e-01, -8.75618253e-01, -1.38279973e+00,\n",
              "        9.26177548e-01,  1.90941664e+00, -1.39856757e+00,  5.62969237e-01,\n",
              "       -6.50642569e-01, -4.87125384e-01, -5.92393924e-01, -8.63990770e-01,\n",
              "        4.85216279e-02, -8.30950116e-01,  2.70456826e-01, -5.02381094e-02,\n",
              "       -2.38948047e-01, -9.07563662e-01, -5.76771331e-01,  7.55391226e-01,\n",
              "        5.00917188e-01, -9.77555245e-01,  9.93323054e-02,  7.51387123e-01,\n",
              "       -1.66940528e+00,  5.43360192e-01, -6.62623759e-01,  5.70598669e-01,\n",
              "       -7.63259157e-01, -1.80488210e+00, -1.62754244e+00,  4.80849467e-02,\n",
              "        2.59722502e-01, -9.04316625e-01,  6.38592459e-01, -1.66152006e+00,\n",
              "       -6.60797986e-02, -1.21101620e+00, -6.51836108e-01,  4.73986713e-02,\n",
              "       -8.60413365e-01, -3.84555544e-01,  1.00629281e+00, -5.76891870e-01,\n",
              "        8.35692112e-01, -1.12970685e+00,  5.29804178e-01,  1.44156862e+00,\n",
              "       -2.47164450e+00, -7.96895255e-01,  5.77072127e-01, -2.03045386e-01,\n",
              "        3.71145873e-01, -6.03985187e-01,  8.65897875e-02, -1.55677235e-01,\n",
              "        1.16778206e+00,  2.54420843e-01,  3.37602662e-01, -4.11876966e-01,\n",
              "       -4.87606224e-01, -4.32558188e-01,  3.94452142e-01, -4.20984481e-01,\n",
              "        2.89774857e-01,  2.07540080e+00,  8.71124703e-01, -3.26023532e-01,\n",
              "        1.20121392e+00, -4.08075373e-01, -2.03812454e+00, -1.00808631e+00,\n",
              "       -1.87079192e+00, -3.51513484e-01,  1.84183792e-02,  1.67643731e+00,\n",
              "        3.26927374e-01, -2.19100529e-01,  8.29405581e-01, -2.21113531e+00,\n",
              "        2.35614558e-01,  7.70865194e-01, -1.47858625e+00,  1.14375404e+00,\n",
              "        3.38496407e-01, -4.15287914e-01,  6.32781866e-01,  2.27069286e+00,\n",
              "        1.81866255e-01,  2.48220586e-01, -4.59360900e-01, -8.49844369e-01,\n",
              "        8.30335817e-01, -8.56083826e-01,  7.15662372e-02, -4.77657447e-01,\n",
              "        4.78979826e-01,  3.33662105e-01,  1.03753994e+00, -5.10016399e-01,\n",
              "       -2.69874935e-01, -9.78763716e-01, -4.44293260e-01,  3.77300493e-01,\n",
              "        7.56988617e-01, -9.22165324e-01,  8.69605920e-01,  1.35563786e+00,\n",
              "        4.13434903e-01,  1.87679581e+00, -7.73789199e-01, -1.24465470e+00,\n",
              "       -1.77872025e+00,  1.49604431e+00,  6.54365656e-01, -5.55846709e-02,\n",
              "        2.79968626e-01, -1.12548905e+00,  2.44575198e+00,  1.29221182e-01,\n",
              "        1.09394795e-01,  7.25766624e-01,  4.81009232e-01,  2.23884024e-01,\n",
              "       -7.90474455e-01,  4.71468357e-01,  1.88202450e+00,  1.34542005e+00,\n",
              "        1.59318663e+00, -5.11215676e-01, -9.89604820e-01, -1.25786920e-01,\n",
              "        5.57249123e-02,  1.09419152e+00, -1.69246463e+00,  1.52955032e+00,\n",
              "       -1.58007899e-01, -4.26881070e-01, -1.01210438e+00, -1.65485667e+00,\n",
              "        8.23170584e-01,  7.33179672e-02, -1.28996090e+00, -1.29507877e+00,\n",
              "       -3.35784699e-01,  1.66902153e+00, -2.59591351e-01, -1.50314295e+00,\n",
              "       -2.45743064e-01, -2.72723570e-01, -2.69688664e+00, -5.42948665e-02,\n",
              "       -2.30934530e-01,  6.96206365e-01,  1.84895609e+00,  1.12656503e+00,\n",
              "       -2.68888691e-01, -1.10652591e+00,  2.57335980e+00,  5.92184340e-02,\n",
              "        1.39292919e-02, -2.41250871e-02,  1.98084761e-01, -1.44360412e-01,\n",
              "       -5.73662007e-01, -5.46858941e-01, -3.27532702e-02, -5.43424771e-01,\n",
              "       -7.12845783e-01,  1.06430228e-01, -2.54977217e-01,  1.50399299e+00,\n",
              "       -2.65096981e+00,  1.09150685e+00,  1.24608519e+00, -2.07339023e+00,\n",
              "       -3.42687594e-01, -3.71440866e-01, -1.40751169e+00, -7.77816688e-01,\n",
              "       -1.11057585e+00,  1.75227044e+00,  9.35678393e-01,  1.27155509e+00,\n",
              "        7.21672064e-01, -1.12905177e+00, -5.24520266e-01,  4.89374561e-01,\n",
              "       -1.22212781e+00,  7.12998430e-01, -2.40325398e-01, -3.74820808e-01,\n",
              "        7.10959968e-01,  4.44263311e-01, -3.60966166e-01,  1.15932980e+00,\n",
              "       -1.08106333e+00,  6.15935607e-01,  5.93101258e-01, -3.09546439e-01,\n",
              "        3.26133022e-01, -1.25111358e+00,  9.24027019e-01, -1.84902136e-01,\n",
              "       -5.22723021e-01,  1.04900923e+00, -7.04343691e-01, -1.40846130e+00,\n",
              "       -1.55662917e+00,  6.06009951e-01, -1.28042935e+00,  1.75479418e+00,\n",
              "       -2.08192941e+00,  1.69645637e+00,  2.11017467e-01, -9.67131119e-02,\n",
              "       -5.44919087e-01,  3.99136114e-01, -3.76347024e-02,  1.10330188e+00,\n",
              "        1.14227649e-01,  1.50301761e-01, -3.63612212e-01, -5.69456237e-02,\n",
              "        3.07801769e-01, -1.71016839e+00, -1.34818542e+00,  7.43264094e-01,\n",
              "        1.70865438e-01, -1.83983336e-01,  1.84339331e-02,  3.47581705e-01,\n",
              "       -5.39759680e-01, -7.78304725e-01,  1.95845255e-01, -9.78372778e-01,\n",
              "        4.08252756e-01, -1.70258360e+00,  1.02915564e+00,  4.72597482e-01,\n",
              "        2.56029734e-01,  9.82690984e-01,  1.66547444e+00,  1.01437007e+00,\n",
              "       -1.84087423e+00, -1.27957697e+00, -6.24818578e-01,  2.60910502e-02,\n",
              "        5.17659020e-01, -7.25743813e-01,  1.86766764e-01, -7.55382932e-01,\n",
              "       -6.11517803e-01, -1.40666110e+00, -9.23233246e-01, -1.35168461e+00,\n",
              "       -9.75873253e-01,  1.05364180e+00, -9.49398889e-01,  2.63238206e+00,\n",
              "        4.93317901e-01,  1.84836124e-01, -8.58357780e-01,  7.00309879e-01,\n",
              "       -5.75637826e-01,  1.22009815e-01,  2.56008454e+00, -9.60598997e-02,\n",
              "        1.14927333e+00, -7.03176425e-01, -3.49884905e-02,  1.77080064e+00,\n",
              "       -6.26967058e-01,  1.81244856e+00,  7.07751935e-01, -5.62466776e-01,\n",
              "        6.32407739e-01,  9.72554450e-01,  6.21809962e-01, -1.57022472e+00,\n",
              "       -7.27137176e-01, -2.47518636e-01, -7.44334291e-02,  6.20672098e-01,\n",
              "        1.77701001e-01, -1.33534436e+00,  3.80197851e-01,  6.10585745e-01,\n",
              "        5.59790448e-01,  1.08078073e+00,  8.33922155e-01,  4.59180079e-01,\n",
              "       -7.01657115e-02, -1.66096093e+00,  4.29618219e-01,  2.07687687e-01,\n",
              "        2.71578837e-01, -1.27674858e+00, -1.08105654e+00,  1.05315285e+00,\n",
              "       -3.95551539e-02,  6.81500697e-01,  2.83183761e-02,  2.97561395e-02,\n",
              "        9.38283806e-01, -5.16044728e-01,  9.61207769e-02, -4.62275289e-01,\n",
              "       -4.34496227e-01, -3.09172123e-01,  2.22133772e-01, -4.78748622e-01,\n",
              "        1.25575613e+00, -8.94607302e-01, -1.86871644e-01, -4.39731058e-01,\n",
              "        1.44697788e+00,  1.96554777e-01,  1.03184454e+00, -1.48556037e+00,\n",
              "        2.67050266e-01,  8.89630796e-01,  8.22839893e-02,  1.06548038e+00,\n",
              "       -5.17288450e-01,  1.40934744e+00,  2.29889812e+00, -3.62838560e-01,\n",
              "       -4.45502521e-01,  1.45338448e+00,  1.57957215e+00, -5.22860027e-01,\n",
              "       -4.20186817e-01, -2.81784609e-01, -1.34445051e+00, -9.18651946e-01,\n",
              "       -1.00414077e+00, -7.67797565e-01, -3.46848874e-02,  2.34214733e-01,\n",
              "        1.55050049e+00, -9.98354041e-01,  9.84322398e-01, -2.13988844e-01,\n",
              "       -4.94637097e-02,  6.74819492e-01, -1.12272202e+00,  3.82409746e-01,\n",
              "        1.66452208e-01,  4.92451264e-01,  2.89168644e-01,  2.45530014e+00,\n",
              "       -6.37739984e-01, -5.30996955e-01, -6.23140526e-01, -5.55477119e-01,\n",
              "       -6.37387127e-01,  1.18901653e+00,  1.42050425e+00, -5.70746294e-01,\n",
              "       -8.32355573e-01,  4.71415556e-01, -5.52223044e-01,  6.32931818e-01,\n",
              "        2.02923021e-01, -1.51574411e+00,  1.54750520e+00,  1.79587767e+00,\n",
              "       -6.12788690e-01, -3.87701560e-01,  2.85865391e-01,  3.34456790e-01,\n",
              "        6.58544273e-01,  2.01020454e+00, -1.76947227e-01, -7.98297245e-01,\n",
              "       -1.37931923e+00, -7.30930040e-01, -3.31269729e-02,  1.79455786e+00,\n",
              "       -5.17611299e-01,  2.23787952e-01, -1.64228961e-02,  1.18839327e+00,\n",
              "        2.52693243e+00, -5.30868773e-01, -4.89439443e-01,  1.04416088e+00,\n",
              "        6.81891490e-01,  1.84670733e+00,  5.83928185e-01, -3.59292091e-01,\n",
              "        5.90654831e-01,  1.10870358e+00,  8.20482181e-01,  5.07274031e-01,\n",
              "        1.06667469e+00,  1.16929559e+00,  1.38215899e+00,  6.48709888e-01,\n",
              "       -1.67118080e-01,  1.46713686e-01,  1.20650897e+00, -8.16935671e-01,\n",
              "        3.68673309e-01, -3.93338812e-01,  2.87448229e-02,  1.27845186e+00,\n",
              "        1.91099068e-01,  4.64365482e-02, -1.35985614e+00,  7.46253566e-01,\n",
              "        6.45484181e-01,  2.16325472e+00, -3.07778235e-01,  2.19150328e-01,\n",
              "        2.49383684e-01,  1.57745328e+00, -9.52955324e-02,  2.79021526e-01,\n",
              "        6.07896510e-01,  1.86609123e-01, -4.46433615e-01,  1.94089993e-01,\n",
              "        1.07363175e+00, -1.02651530e+00,  1.32969674e-01, -7.00120815e-01,\n",
              "        1.19504663e+00, -1.52318690e+00, -5.58921847e-01,  3.77211875e-01,\n",
              "        1.56552403e+00, -6.57502611e-02, -5.55199527e-01,  1.88115707e+00,\n",
              "       -1.44801390e+00, -2.19880596e+00,  4.40014450e-01, -5.02054224e-01,\n",
              "       -1.02123282e+00,  7.08356447e-01,  2.43800714e-01, -5.64078631e-01,\n",
              "       -1.28030440e+00,  8.72457328e-01,  6.50201178e-01, -9.91758638e-02,\n",
              "        1.84663700e+00, -1.07008477e+00, -1.52552517e+00, -6.91908070e-01,\n",
              "       -4.55860164e-02,  2.43339449e-01, -2.41236058e-01,  3.52055397e-01,\n",
              "       -1.25153942e+00,  1.44376460e+00, -8.21511784e-02,  1.11729583e+00,\n",
              "        3.42725346e-01,  4.56753219e-01,  5.69767280e-01,  4.47708560e-01,\n",
              "        6.42722760e-01,  1.32915253e+00,  1.96521170e-01,  7.09003758e-01,\n",
              "       -8.97356943e-02,  1.44011722e+00, -6.76392302e-01,  1.80094043e+00,\n",
              "       -4.01579506e-02, -1.43077510e+00,  1.28104415e-01, -6.81051657e-01,\n",
              "        8.40643549e-01, -6.52623979e-01, -4.46183433e-01, -1.88954073e+00,\n",
              "       -4.52306319e-01, -2.42387933e+00, -1.58390282e+00,  7.60414656e-01,\n",
              "        7.85800159e-01,  4.25457562e-01, -9.66976143e-01, -4.77113561e-02,\n",
              "       -3.60253909e-03, -1.15836469e+00,  1.50339830e+00,  8.77362291e-01,\n",
              "       -2.20964174e-01,  2.68858390e-02,  2.08382808e-01, -2.04173487e+00,\n",
              "       -2.47177383e-01, -6.81984248e-01, -1.00162001e+00, -2.81100293e-01,\n",
              "        1.79768653e+00,  6.40842861e-01, -5.71178990e-01,  5.72582781e-01])"
            ]
          },
          "metadata": {},
          "execution_count": 94
        }
      ]
    }
  ]
}