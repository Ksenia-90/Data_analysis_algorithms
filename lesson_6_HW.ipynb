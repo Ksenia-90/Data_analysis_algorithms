{
  "nbformat": 4,
  "nbformat_minor": 0,
  "metadata": {
    "colab": {
      "name": "lesson_6_HW.ipynb",
      "provenance": [],
      "authorship_tag": "ABX9TyMaQwFuUOdKugnHb7Q7uXvJ",
      "include_colab_link": true
    },
    "kernelspec": {
      "name": "python3",
      "display_name": "Python 3"
    },
    "language_info": {
      "name": "python"
    }
  },
  "cells": [
    {
      "cell_type": "markdown",
      "metadata": {
        "id": "view-in-github",
        "colab_type": "text"
      },
      "source": [
        "<a href=\"https://colab.research.google.com/github/Ksenia-90/Data_analysis_algorithms/blob/lesson_6/lesson_6_HW.ipynb\" target=\"_parent\"><img src=\"https://colab.research.google.com/assets/colab-badge.svg\" alt=\"Open In Colab\"/></a>"
      ]
    },
    {
      "cell_type": "markdown",
      "metadata": {
        "id": "an6kV96IBrFL"
      },
      "source": [
        "##**Урок 6. Градиентный бустинг (AdaBoost)**"
      ]
    },
    {
      "cell_type": "code",
      "metadata": {
        "id": "U5gZPNo_CE6W"
      },
      "source": [
        "import numpy as np\n",
        "from sklearn.tree import DecisionTreeRegressor\n",
        "from sklearn import model_selection\n",
        "from sklearn.datasets import load_diabetes\n",
        "\n",
        "import matplotlib.pyplot as plt"
      ],
      "execution_count": 1,
      "outputs": []
    },
    {
      "cell_type": "markdown",
      "metadata": {
        "id": "tlDMifZ6CNpz"
      },
      "source": [
        "1.Для реализованной модели градиентного бустинга построить графики зависимости ошибки от количества деревьев в ансамбле и от максимальной глубины деревьев. Сделать выводы о зависимости ошибки от этих параметров."
      ]
    },
    {
      "cell_type": "code",
      "metadata": {
        "id": "m5kLKTctCEaL"
      },
      "source": [
        "# Используем один из \"игрушечных\" датасетов из той же библиотеки.\n",
        "X, y = load_diabetes(return_X_y=True)\n"
      ],
      "execution_count": 2,
      "outputs": []
    },
    {
      "cell_type": "code",
      "metadata": {
        "id": "5FVwtGCIDIop"
      },
      "source": [
        "# Разделим выборку на обучающую и тестовую в соотношении 75/25.\n",
        "X_train, X_test, y_train, y_test = model_selection.train_test_split(X, y, test_size=0.25)"
      ],
      "execution_count": 3,
      "outputs": []
    },
    {
      "cell_type": "code",
      "metadata": {
        "colab": {
          "base_uri": "https://localhost:8080/"
        },
        "id": "eKMOk-AFDIoq",
        "outputId": "cfdcca9b-b6ed-496f-c067-7a9fd2c51dec"
      },
      "source": [
        "print(X_train.shape, y_train.shape)"
      ],
      "execution_count": 4,
      "outputs": [
        {
          "output_type": "stream",
          "name": "stdout",
          "text": [
            "(331, 10) (331,)\n"
          ]
        }
      ]
    },
    {
      "cell_type": "code",
      "metadata": {
        "id": "BLesn2r5DIos"
      },
      "source": [
        "def gb_predict(X, trees_list, coef_list, eta):\n",
        "    # Реализуемый алгоритм градиентного бустинга будет инициализироваться нулевыми значениями,\n",
        "    # поэтому все деревья из списка trees_list уже являются дополнительными и при предсказании прибавляются с шагом eta\n",
        "    return np.array([sum([eta* coef * alg.predict([x])[0] for alg, coef in zip(trees_list, coef_list)]) for x in X])"
      ],
      "execution_count": 5,
      "outputs": []
    },
    {
      "cell_type": "code",
      "metadata": {
        "id": "nZffJVI-DIou"
      },
      "source": [
        "def mean_squared_error(y_real, prediction):\n",
        "    return (sum((y_real - prediction)**2)) / len(y_real)"
      ],
      "execution_count": 6,
      "outputs": []
    },
    {
      "cell_type": "markdown",
      "metadata": {
        "id": "2zhoZWi5DIou"
      },
      "source": [
        "Используем $L_{2}$ loss $L(y, z) = (y-z)^{2},$ ее производная по $z$ примет вид $L'(y, z) = 2(z-y)$. Реализуем ее также в виде функции (коэффициент 2 можно отбросить)."
      ]
    },
    {
      "cell_type": "code",
      "metadata": {
        "id": "_LzfhhUuDIov"
      },
      "source": [
        "def bias(y, z):\n",
        "    return (y - z)"
      ],
      "execution_count": 7,
      "outputs": []
    },
    {
      "cell_type": "code",
      "metadata": {
        "id": "B0hkLS5dDIow"
      },
      "source": [
        "def gb_fit(n_trees, max_depth, X_train, X_test, y_train, y_test, coefs, eta):\n",
        "    \n",
        "    # Деревья будем записывать в список\n",
        "    trees = []\n",
        "    \n",
        "    # Будем записывать ошибки на обучающей и тестовой выборке на каждой итерации в список\n",
        "    train_errors = []\n",
        "    test_errors = []\n",
        "    \n",
        "    for i in range(n_trees):\n",
        "        tree = DecisionTreeRegressor(max_depth=max_depth, random_state=42)\n",
        "\n",
        "        # инициализируем бустинг начальным алгоритмом, возвращающим ноль, \n",
        "        # поэтому первый алгоритм просто обучаем на выборке и добавляем в список\n",
        "        if len(trees) == 0:\n",
        "            # обучаем первое дерево на обучающей выборке\n",
        "            tree.fit(X_train, y_train)\n",
        "            \n",
        "            train_errors.append(mean_squared_error(y_train, gb_predict(X_train, trees, coefs, eta)))\n",
        "            test_errors.append(mean_squared_error(y_test, gb_predict(X_test, trees, coefs, eta)))\n",
        "        else:\n",
        "            # Получим ответы на текущей композиции\n",
        "            target = gb_predict(X_train, trees, coefs, eta)\n",
        "            \n",
        "            # алгоритмы начиная со второго обучаем на сдвиг\n",
        "            tree.fit(X_train, bias(y_train, target))\n",
        "            \n",
        "            train_errors.append(mean_squared_error(y_train, gb_predict(X_train, trees, coefs, eta)))\n",
        "            test_errors.append(mean_squared_error(y_test, gb_predict(X_test, trees, coefs, eta)))\n",
        "\n",
        "        trees.append(tree)\n",
        "        \n",
        "    return trees, train_errors, test_errors"
      ],
      "execution_count": 8,
      "outputs": []
    },
    {
      "cell_type": "code",
      "metadata": {
        "id": "B_8Lq0p_DIox"
      },
      "source": [
        "# Число деревьев в ансамбле\n",
        "n_trees = 10\n",
        "\n",
        "# для простоты примем коэффициенты равными 1\n",
        "coefs = [1] * n_trees\n",
        "\n",
        "# Максимальная глубина деревьев\n",
        "max_depth = 3\n",
        "\n",
        "# Шаг\n",
        "eta = 1\n",
        "\n",
        "trees, train_errors, test_errors = gb_fit(n_trees, max_depth, X_train, X_test, y_train, y_test, coefs, eta)"
      ],
      "execution_count": 9,
      "outputs": []
    },
    {
      "cell_type": "code",
      "metadata": {
        "id": "GWxm5VcpDIox"
      },
      "source": [
        "def evaluate_alg(X_train, X_test, y_train, y_test, trees, coefs, eta):\n",
        "    train_prediction = gb_predict(X_train, trees, coefs, eta)\n",
        "\n",
        "    print(f'Ошибка алгоритма из {n_trees} деревьев глубиной {max_depth} \\\n",
        "    с шагом {eta} на тренировочной выборке: {mean_squared_error(y_train, train_prediction)}')\n",
        "\n",
        "    test_prediction = gb_predict(X_test, trees, coefs, eta)\n",
        "\n",
        "    print(f'Ошибка алгоритма из {n_trees} деревьев глубиной {max_depth} \\\n",
        "    с шагом {eta} на тестовой выборке: {mean_squared_error(y_test, test_prediction)}')"
      ],
      "execution_count": 10,
      "outputs": []
    },
    {
      "cell_type": "code",
      "metadata": {
        "colab": {
          "base_uri": "https://localhost:8080/"
        },
        "id": "tL16wpzVDIoy",
        "outputId": "f70719c2-7ec9-4f69-d929-587982576ae4"
      },
      "source": [
        "evaluate_alg(X_train, X_test, y_train, y_test, trees, coefs, eta)"
      ],
      "execution_count": 11,
      "outputs": [
        {
          "output_type": "stream",
          "name": "stdout",
          "text": [
            "Ошибка алгоритма из 10 деревьев глубиной 3     с шагом 1 на тренировочной выборке: 1121.0213230440634\n",
            "Ошибка алгоритма из 10 деревьев глубиной 3     с шагом 1 на тестовой выборке: 5012.022867447888\n"
          ]
        }
      ]
    },
    {
      "cell_type": "code",
      "metadata": {
        "id": "eTy_R_j0DIoz"
      },
      "source": [
        "import matplotlib.pyplot as plt\n",
        "import matplotlib\n",
        "%matplotlib inline"
      ],
      "execution_count": 12,
      "outputs": []
    },
    {
      "cell_type": "code",
      "metadata": {
        "id": "9riszv9RDIoz"
      },
      "source": [
        "def get_error_plot(n_trees, train_err, test_err):\n",
        "    plt.xlabel('Iteration number')\n",
        "    plt.ylabel('MSE')\n",
        "    plt.xlim(0, n_trees)\n",
        "    plt.plot(list(range(n_trees)), train_err, label='train error')\n",
        "    plt.plot(list(range(n_trees)), test_err, label='test error')\n",
        "    plt.legend(loc='upper right')\n",
        "    plt.show()"
      ],
      "execution_count": 13,
      "outputs": []
    },
    {
      "cell_type": "code",
      "metadata": {
        "colab": {
          "base_uri": "https://localhost:8080/",
          "height": 278
        },
        "id": "IaeTKANeDIoz",
        "outputId": "0f59f5f3-f719-4702-de1a-55d6fdbaeada"
      },
      "source": [
        "get_error_plot(n_trees, train_errors, test_errors)"
      ],
      "execution_count": 14,
      "outputs": [
        {
          "output_type": "display_data",
          "data": {
            "image/png": "[encoded data removed]",
            "text/plain": [
              "<Figure size 432x288 with 1 Axes>"
            ]
          },
          "metadata": {
            "needs_background": "light"
          }
        }
      ]
    },
    {
      "cell_type": "code",
      "metadata": {
        "id": "Q6SYiOBsDIo0"
      },
      "source": [
        "n_trees = 20\n",
        "coefs = [1] * n_trees\n",
        "max_depth = 10\n",
        "eta = 0.1\n",
        "train_errors_arr = []\n",
        "test_errors_arr = []\n",
        "\n",
        "for i in list(range(1, max_depth)):\n",
        "    trees, train_errors, test_errors = gb_fit(n_trees, i, X_train, X_test, y_train, y_test, coefs, eta)\n",
        "    train_prediction = gb_predict(X_train, trees, coefs, eta)\n",
        "    test_prediction = gb_predict(X_test, trees, coefs, eta)\n",
        "    train_err = mean_squared_error(y_train, train_prediction)\n",
        "    test_err = mean_squared_error(y_test, test_prediction)\n",
        "    train_errors_arr.append(train_err)\n",
        "    test_errors_arr.append(test_err)"
      ],
      "execution_count": 15,
      "outputs": []
    },
    {
      "cell_type": "code",
      "metadata": {
        "id": "W7Cdq_uADIo0"
      },
      "source": [
        "def error_plot(max_depth, train_err, test_err):\n",
        "    plt.xlabel('tree_depth')\n",
        "    plt.ylabel('MSE')\n",
        "    plt.xlim(0, max_depth)\n",
        "    plt.plot(list(range(1, max_depth)), train_err, label='train error')\n",
        "    plt.plot(list(range(1, max_depth)), test_err, label='test error')\n",
        "    plt.title('Зависимость ошибки от максимальной глубины деревьев')\n",
        "    plt.legend(loc='upper right')\n",
        "    plt.show()"
      ],
      "execution_count": 16,
      "outputs": []
    },
    {
      "cell_type": "code",
      "metadata": {
        "id": "LTRTw1KNDIo0",
        "colab": {
          "base_uri": "https://localhost:8080/",
          "height": 296
        },
        "outputId": "7995b422-cee4-41ca-85cc-3f6df4146f78"
      },
      "source": [
        "error_plot(max_depth, train_errors_arr, test_errors_arr)"
      ],
      "execution_count": 19,
      "outputs": [
        {
          "output_type": "display_data",
          "data": {
            "image/png": "[encoded data removed]",
            "text/plain": [
              "<Figure size 432x288 with 1 Axes>"
            ]
          },
          "metadata": {
            "needs_background": "light"
          }
        }
      ]
    },
    {
      "cell_type": "markdown",
      "metadata": {
        "id": "6hb87QuTD6Tj"
      },
      "source": [
        "Вывод: Ошибка на тестовой выборке растет при увеличении глубины дерева, а на тренировочной уменьшается. Ошибка на тренировочной выборке уменьшается при увеличении числа деревьев.\n"
      ]
    },
    {
      "cell_type": "markdown",
      "metadata": {
        "id": "YIJyJ5jQGoHg"
      },
      "source": [
        "2. Модифицировать реализованный алгоритм, чтобы получился стохастический градиентный бустинг. Размер подвыборки принять равным 0.5. Сравнить на одном графике кривые изменения ошибки на тестовой выборке в зависимости от числа итераций."
      ]
    },
    {
      "cell_type": "code",
      "metadata": {
        "id": "h7oN7TI4u8GV"
      },
      "source": [
        "def sgb_fit(subsample_value, n_trees, max_depth, X_train, X_test, y_train, y_test, coefs, eta):\n",
        "    \n",
        "    trees = []\n",
        "    \n",
        "    train_errors = []\n",
        "    test_errors = []\n",
        "    \n",
        "    for i in range(n_trees):\n",
        "        tree = DecisionTreeRegressor(max_depth=max_depth, random_state=42)\n",
        "                        \n",
        "        # генерируем случайную подвыборку\n",
        "        qtt = int(X_train.shape[0] * subsample_value)\n",
        "        train_ind = np.random.randint(X_train.shape[0], size=qtt)\n",
        "    \n",
        "        if len(trees) == 0:\n",
        "            # обучаем первое дерево на обучающей выборке\n",
        "            tree.fit(X_train[train_ind], y_train[train_ind])\n",
        "            \n",
        "            train_errors.append(mean_squared_error(y_train, gb_predict(X_train, trees, coefs, eta)))\n",
        "            test_errors.append(mean_squared_error(y_test, gb_predict(X_test, trees, coefs, eta)))\n",
        "        else:\n",
        "            \n",
        "            target = gb_predict(X_train, trees, coefs, eta)\n",
        "            \n",
        "            \n",
        "            tree.fit(X_train[train_ind], bias(y_train[train_ind], target[train_ind]))\n",
        "            \n",
        "            train_errors.append(\n",
        "                mean_squared_error(\n",
        "                    y_train, gb_predict(X_train, trees, coefs, eta)\n",
        "                )\n",
        "            )\n",
        "            test_errors.append(\n",
        "                mean_squared_error(\n",
        "                    y_test, gb_predict(X_test, trees, coefs, eta)\n",
        "                )\n",
        "            )\n",
        "\n",
        "        trees.append(tree)\n",
        "        \n",
        "    return trees, train_errors, test_errors"
      ],
      "execution_count": 20,
      "outputs": []
    },
    {
      "cell_type": "code",
      "metadata": {
        "id": "R5B0FCBUu8GW"
      },
      "source": [
        "# Число деревьев в ансамбле\n",
        "n_trees = 10\n",
        "\n",
        "# для простоты примем коэффициенты равными 1\n",
        "coefs = [1] * n_trees\n",
        "\n",
        "# Максимальная глубина деревьев\n",
        "max_depth = 3\n",
        "\n",
        "# Шаг\n",
        "eta = 1"
      ],
      "execution_count": 21,
      "outputs": []
    },
    {
      "cell_type": "code",
      "metadata": {
        "id": "mOUgqz6iu8GW"
      },
      "source": [
        "trees, train_errors, test_errors = sgb_fit(0.5, n_trees, max_depth, X_train, X_test, y_train, y_test, coefs, eta)"
      ],
      "execution_count": 22,
      "outputs": []
    },
    {
      "cell_type": "code",
      "metadata": {
        "id": "j8U8Q3TQu8GW",
        "colab": {
          "base_uri": "https://localhost:8080/"
        },
        "outputId": "f601305a-a89a-4ab3-9c2e-bdd0d56868b9"
      },
      "source": [
        "evaluate_alg(X_train, X_test, y_train, y_test, trees, coefs, eta)"
      ],
      "execution_count": 23,
      "outputs": [
        {
          "output_type": "stream",
          "name": "stdout",
          "text": [
            "Ошибка алгоритма из 10 деревьев глубиной 3     с шагом 1 на тренировочной выборке: 4679.324003496487\n",
            "Ошибка алгоритма из 10 деревьев глубиной 3     с шагом 1 на тестовой выборке: 9205.120023212332\n"
          ]
        }
      ]
    },
    {
      "cell_type": "code",
      "metadata": {
        "id": "QBbleRU4u8GW",
        "colab": {
          "base_uri": "https://localhost:8080/",
          "height": 278
        },
        "outputId": "db6f03ad-1161-45b0-b170-8b66110b546c"
      },
      "source": [
        "get_error_plot(n_trees, train_errors, test_errors)"
      ],
      "execution_count": 24,
      "outputs": [
        {
          "output_type": "display_data",
          "data": {
            "image/png": "[encoded data removed]",
            "text/plain": [
              "<Figure size 432x288 with 1 Axes>"
            ]
          },
          "metadata": {
            "needs_background": "light"
          }
        }
      ]
    },
    {
      "cell_type": "code",
      "metadata": {
        "id": "O7i7cdmLwb4e"
      },
      "source": [
        "# Число деревьев в ансамбле\n",
        "n_trees = 5\n",
        "\n",
        "# для простоты примем коэффициенты равными 1\n",
        "coefs = [1] * n_trees\n",
        "\n",
        "# Максимальная глубина деревьев\n",
        "max_depth = 3\n",
        "\n",
        "# Шаг\n",
        "eta = 1"
      ],
      "execution_count": 34,
      "outputs": []
    },
    {
      "cell_type": "code",
      "metadata": {
        "id": "1SJCLEBAwb4n"
      },
      "source": [
        "trees, train_errors, test_errors = sgb_fit(0.5, n_trees, max_depth, X_train, X_test, y_train, y_test, coefs, eta)"
      ],
      "execution_count": 35,
      "outputs": []
    },
    {
      "cell_type": "code",
      "metadata": {
        "colab": {
          "base_uri": "https://localhost:8080/"
        },
        "id": "lbdJRxzWwb4n",
        "outputId": "d6106e21-08f0-4afa-f009-02d8f87ad736"
      },
      "source": [
        "evaluate_alg(X_train, X_test, y_train, y_test, trees, coefs, eta)"
      ],
      "execution_count": 36,
      "outputs": [
        {
          "output_type": "stream",
          "name": "stdout",
          "text": [
            "Ошибка алгоритма из 5 деревьев глубиной 3     с шагом 1 на тренировочной выборке: 3665.526734905402\n",
            "Ошибка алгоритма из 5 деревьев глубиной 3     с шагом 1 на тестовой выборке: 7873.344914442381\n"
          ]
        }
      ]
    },
    {
      "cell_type": "code",
      "metadata": {
        "colab": {
          "base_uri": "https://localhost:8080/",
          "height": 278
        },
        "id": "Wm3v3cFZwb4o",
        "outputId": "8c1b878d-b844-4474-f2e2-c4bb279bca27"
      },
      "source": [
        "get_error_plot(n_trees, train_errors, test_errors)"
      ],
      "execution_count": 37,
      "outputs": [
        {
          "output_type": "display_data",
          "data": {
            "image/png": "[encoded data removed]",
            "text/plain": [
              "<Figure size 432x288 with 1 Axes>"
            ]
          },
          "metadata": {
            "needs_background": "light"
          }
        }
      ]
    },
    {
      "cell_type": "code",
      "metadata": {
        "id": "UpnViQFIxG0d"
      },
      "source": [
        "# Число деревьев в ансамбле\n",
        "n_trees = 20\n",
        "\n",
        "# для простоты примем коэффициенты равными 1\n",
        "coefs = [1] * n_trees\n",
        "\n",
        "# Максимальная глубина деревьев\n",
        "max_depth = 3\n",
        "\n",
        "# Шаг\n",
        "eta = 1"
      ],
      "execution_count": 38,
      "outputs": []
    },
    {
      "cell_type": "code",
      "metadata": {
        "id": "HJON9P8zxG0e"
      },
      "source": [
        "trees, train_errors, test_errors = sgb_fit(0.5, n_trees, max_depth, X_train, X_test, y_train, y_test, coefs, eta)"
      ],
      "execution_count": 39,
      "outputs": []
    },
    {
      "cell_type": "code",
      "metadata": {
        "colab": {
          "base_uri": "https://localhost:8080/"
        },
        "id": "egyB5JELxG0f",
        "outputId": "61aae40f-b3dd-42a9-ab37-115868fe4d4a"
      },
      "source": [
        "evaluate_alg(X_train, X_test, y_train, y_test, trees, coefs, eta)"
      ],
      "execution_count": 40,
      "outputs": [
        {
          "output_type": "stream",
          "name": "stdout",
          "text": [
            "Ошибка алгоритма из 20 деревьев глубиной 3     с шагом 1 на тренировочной выборке: 7995.841316840593\n",
            "Ошибка алгоритма из 20 деревьев глубиной 3     с шагом 1 на тестовой выборке: 19700.88072552225\n"
          ]
        }
      ]
    },
    {
      "cell_type": "code",
      "metadata": {
        "colab": {
          "base_uri": "https://localhost:8080/",
          "height": 278
        },
        "id": "MJY6wDMdxG0h",
        "outputId": "1581eede-0d90-480c-bf21-1fc0f61146d9"
      },
      "source": [
        "get_error_plot(n_trees, train_errors, test_errors)"
      ],
      "execution_count": 41,
      "outputs": [
        {
          "output_type": "display_data",
          "data": {
            "image/png": "[encoded data removed]",
            "text/plain": [
              "<Figure size 432x288 with 1 Axes>"
            ]
          },
          "metadata": {
            "needs_background": "light"
          }
        }
      ]
    }
  ]
}