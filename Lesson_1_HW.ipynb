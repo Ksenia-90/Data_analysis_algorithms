{
  "nbformat": 4,
  "nbformat_minor": 0,
  "metadata": {
    "colab": {
      "name": "Lesson_1_HW.ipynb",
      "provenance": [],
      "collapsed_sections": [],
      "include_colab_link": true
    },
    "kernelspec": {
      "display_name": "Python 3",
      "language": "python",
      "name": "python3"
    },
    "language_info": {
      "codemirror_mode": {
        "name": "ipython",
        "version": 3
      },
      "file_extension": ".py",
      "mimetype": "text/x-python",
      "name": "python",
      "nbconvert_exporter": "python",
      "pygments_lexer": "ipython3",
      "version": "3.7.1"
    }
  },
  "cells": [
    {
      "cell_type": "markdown",
      "metadata": {
        "id": "view-in-github",
        "colab_type": "text"
      },
      "source": [
        "<a href=\"https://colab.research.google.com/github/Ksenia-90/Data_analysis_algorithms/blob/lesson_1/Lesson_1_HW.ipynb\" target=\"_parent\"><img src=\"https://colab.research.google.com/assets/colab-badge.svg\" alt=\"Open In Colab\"/></a>"
      ]
    },
    {
      "cell_type": "markdown",
      "metadata": {
        "id": "Xguvb9FkOfU9"
      },
      "source": [
        "## Урок 1. Алгоритм линейной регрессии. Градиентный спуск"
      ]
    },
    {
      "cell_type": "code",
      "metadata": {
        "id": "ak8b3KV45kVW"
      },
      "source": [
        "import numpy as np\n",
        "import matplotlib.pyplot as plt"
      ],
      "execution_count": 39,
      "outputs": []
    },
    {
      "cell_type": "markdown",
      "metadata": {
        "id": "hKcOLt22OfVB"
      },
      "source": [
        "__Задача:__ предсказание баллов ЕГЭ ученика в зависимости от кол-ва лет стажа его репетитора"
      ]
    },
    {
      "cell_type": "code",
      "metadata": {
        "colab": {
          "base_uri": "https://localhost:8080/"
        },
        "id": "i77tZbAd5plB",
        "outputId": "5ab19534-1f00-4d2e-f63d-7481cd4008db"
      },
      "source": [
        "X = np.array([[1, 1, 1, 1, 1, 1, 1, 1, 1, 1],\n",
        "              [1, 1, 2, 5, 3, 0, 5, 10, 1, 2]])\n",
        "X"
      ],
      "execution_count": 40,
      "outputs": [
        {
          "output_type": "execute_result",
          "data": {
            "text/plain": [
              "array([[ 1,  1,  1,  1,  1,  1,  1,  1,  1,  1],\n",
              "       [ 1,  1,  2,  5,  3,  0,  5, 10,  1,  2]])"
            ]
          },
          "metadata": {},
          "execution_count": 40
        }
      ]
    },
    {
      "cell_type": "code",
      "metadata": {
        "colab": {
          "base_uri": "https://localhost:8080/"
        },
        "id": "ejifaMBe6VaP",
        "outputId": "dea9aa39-a31f-4d5d-dc4e-8a29398cf80c"
      },
      "source": [
        "X.shape"
      ],
      "execution_count": 41,
      "outputs": [
        {
          "output_type": "execute_result",
          "data": {
            "text/plain": [
              "(2, 10)"
            ]
          },
          "metadata": {},
          "execution_count": 41
        }
      ]
    },
    {
      "cell_type": "code",
      "metadata": {
        "id": "VsNrKi1Q6Wmh"
      },
      "source": [
        "y = [45, 55, 50, 55, 60, 35, 75, 80, 50, 60]"
      ],
      "execution_count": 42,
      "outputs": []
    },
    {
      "cell_type": "markdown",
      "metadata": {
        "id": "8rVZ5hf7OfVE"
      },
      "source": [
        "Уравнение прямой: $y = a*x + b$"
      ]
    },
    {
      "cell_type": "code",
      "metadata": {
        "id": "NntLxvtU7CbH"
      },
      "source": [
        "y_pred1 = 35 * np.ones(10) + X[1]*5\n",
        "y_pred2 = 40 * np.ones(10) + X[1]*7.5"
      ],
      "execution_count": 43,
      "outputs": []
    },
    {
      "cell_type": "code",
      "metadata": {
        "colab": {
          "base_uri": "https://localhost:8080/",
          "height": 265
        },
        "id": "OTikrodr6n-i",
        "outputId": "e5535fc5-ae62-4992-dcfa-3f7f02e13d00"
      },
      "source": [
        "plt.scatter(X[1], y)\n",
        "plt.plot(X[1], y_pred1, label='1')\n",
        "plt.plot(X[1], y_pred2, label='2')\n",
        "plt.legend()\n",
        "plt.show()"
      ],
      "execution_count": 44,
      "outputs": [
        {
          "output_type": "display_data",
          "data": {
            "image/png": "[encoded data removed]",
            "text/plain": [
              "<Figure size 432x288 with 1 Axes>"
            ]
          },
          "metadata": {
            "needs_background": "light"
          }
        }
      ]
    },
    {
      "cell_type": "markdown",
      "metadata": {
        "id": "wWPfmQiMOfVG"
      },
      "source": [
        "Простая ошибка"
      ]
    },
    {
      "cell_type": "code",
      "metadata": {
        "colab": {
          "base_uri": "https://localhost:8080/"
        },
        "id": "zbsqjAxH9WqI",
        "outputId": "445b723b-6aa8-48f9-abe1-7fe40b840e47"
      },
      "source": [
        "err1 = np.sum(y - y_pred1)\n",
        "err2 = np.sum(y - y_pred2)\n",
        "err1, err2"
      ],
      "execution_count": 45,
      "outputs": [
        {
          "output_type": "execute_result",
          "data": {
            "text/plain": [
              "(65.0, -60.0)"
            ]
          },
          "metadata": {},
          "execution_count": 45
        }
      ]
    },
    {
      "cell_type": "markdown",
      "metadata": {
        "id": "DN6A7KSgOfVH"
      },
      "source": [
        "MAE (Mean Absolute Error)"
      ]
    },
    {
      "cell_type": "code",
      "metadata": {
        "colab": {
          "base_uri": "https://localhost:8080/"
        },
        "id": "vUqCthPf9eYI",
        "outputId": "760f545e-ff0f-4e9e-cd91-b2a54d0710f5"
      },
      "source": [
        "mae_1 = np.sum(np.abs(y - y_pred1)) / 10\n",
        "mae_2 = np.sum(np.abs(y - y_pred2)) / 10\n",
        "mae_1, mae_2"
      ],
      "execution_count": 46,
      "outputs": [
        {
          "output_type": "execute_result",
          "data": {
            "text/plain": [
              "(8.5, 9.0)"
            ]
          },
          "metadata": {},
          "execution_count": 46
        }
      ]
    },
    {
      "cell_type": "markdown",
      "metadata": {
        "id": "XBwAj681OfVH"
      },
      "source": [
        "MSE (Mean Squared Error)"
      ]
    },
    {
      "cell_type": "code",
      "metadata": {
        "colab": {
          "base_uri": "https://localhost:8080/"
        },
        "id": "XTn2bZIg_EBS",
        "outputId": "0d85db8e-e918-4690-e706-b872c7891b4c"
      },
      "source": [
        "mse_1 = np.mean((y - y_pred1)**2)\n",
        "mse_2 = np.mean((y - y_pred2)**2)\n",
        "mse_1, mse_2"
      ],
      "execution_count": 47,
      "outputs": [
        {
          "output_type": "execute_result",
          "data": {
            "text/plain": [
              "(97.5, 188.75)"
            ]
          },
          "metadata": {},
          "execution_count": 47
        }
      ]
    },
    {
      "cell_type": "markdown",
      "metadata": {
        "id": "R4zHyZ2Da5HV"
      },
      "source": [
        "Метод наименьших квадратов (МНК)"
      ]
    },
    {
      "cell_type": "code",
      "metadata": {
        "colab": {
          "base_uri": "https://localhost:8080/"
        },
        "id": "GEeiext0BR1m",
        "outputId": "1a88043a-5954-4d07-ba16-5a2440a6a164"
      },
      "source": [
        "X.shape"
      ],
      "execution_count": 48,
      "outputs": [
        {
          "output_type": "execute_result",
          "data": {
            "text/plain": [
              "(2, 10)"
            ]
          },
          "metadata": {},
          "execution_count": 48
        }
      ]
    },
    {
      "cell_type": "code",
      "metadata": {
        "colab": {
          "base_uri": "https://localhost:8080/"
        },
        "id": "j1BN1FZHBVo8",
        "outputId": "72515689-54c9-4533-eee5-c757bd5245c6"
      },
      "source": [
        "X.T.shape"
      ],
      "execution_count": 49,
      "outputs": [
        {
          "output_type": "execute_result",
          "data": {
            "text/plain": [
              "(10, 2)"
            ]
          },
          "metadata": {},
          "execution_count": 49
        }
      ]
    },
    {
      "cell_type": "code",
      "metadata": {
        "colab": {
          "base_uri": "https://localhost:8080/"
        },
        "id": "8b4qhUi-OfVJ",
        "outputId": "444e56ba-bdb6-454e-dffd-7bb8cf8416d7"
      },
      "source": [
        "all(X @ y == np.dot(X,y))"
      ],
      "execution_count": 50,
      "outputs": [
        {
          "output_type": "execute_result",
          "data": {
            "text/plain": [
              "True"
            ]
          },
          "metadata": {},
          "execution_count": 50
        }
      ]
    },
    {
      "cell_type": "code",
      "metadata": {
        "colab": {
          "base_uri": "https://localhost:8080/"
        },
        "id": "mnyZzkaDBegD",
        "outputId": "aaeff70e-7c41-4d7c-c369-4193deb22d59"
      },
      "source": [
        "W = np.linalg.inv(np.dot(X, X.T)) @ X @ y\n",
        "W"
      ],
      "execution_count": 51,
      "outputs": [
        {
          "output_type": "execute_result",
          "data": {
            "text/plain": [
              "array([45.0625,  3.8125])"
            ]
          },
          "metadata": {},
          "execution_count": 51
        }
      ]
    },
    {
      "cell_type": "code",
      "metadata": {
        "id": "SsGLAvP9OfVK"
      },
      "source": [
        "y_pred3 = W[0] * X[0] + W[1] * X[1]"
      ],
      "execution_count": 52,
      "outputs": []
    },
    {
      "cell_type": "code",
      "metadata": {
        "colab": {
          "base_uri": "https://localhost:8080/",
          "height": 265
        },
        "id": "Lyg-J3H7Bnv5",
        "outputId": "85627920-6bd0-4f4e-c9fd-924a38f04cbc"
      },
      "source": [
        "plt.scatter(X[1], y)\n",
        "plt.plot(X[1], y_pred1, label='1 - manual')\n",
        "plt.plot(X[1], y_pred2, label='2 - manual')\n",
        "plt.plot(X[1], y_pred3, label='3 - analytical solution')\n",
        "plt.legend()\n",
        "plt.show()"
      ],
      "execution_count": 53,
      "outputs": [
        {
          "output_type": "display_data",
          "data": {
            "image/png": "[encoded data removed]",
            "text/plain": [
              "<Figure size 432x288 with 1 Axes>"
            ]
          },
          "metadata": {
            "needs_background": "light"
          }
        }
      ]
    },
    {
      "cell_type": "code",
      "metadata": {
        "id": "JTSC2cFnCd8T"
      },
      "source": [
        "def calc_mae(y, y_pred):\n",
        "    err = np.mean(np.abs(y - y_pred))\n",
        "    return err\n",
        "\n",
        "def calc_mse(y, y_pred):\n",
        "    err = np.mean((y - y_pred)**2) # <=> 1/n * np.sum((y_pred - y)**2)\n",
        "    return err"
      ],
      "execution_count": 54,
      "outputs": []
    },
    {
      "cell_type": "code",
      "metadata": {
        "colab": {
          "base_uri": "https://localhost:8080/"
        },
        "id": "MYSrwISJDGfS",
        "outputId": "4d804657-09a8-4b04-c137-6acea0754f58"
      },
      "source": [
        "calc_mae(y, y_pred1), calc_mse(y, y_pred1)"
      ],
      "execution_count": 55,
      "outputs": [
        {
          "output_type": "execute_result",
          "data": {
            "text/plain": [
              "(8.5, 97.5)"
            ]
          },
          "metadata": {},
          "execution_count": 55
        }
      ]
    },
    {
      "cell_type": "code",
      "metadata": {
        "colab": {
          "base_uri": "https://localhost:8080/"
        },
        "id": "ohn1f3-wOfVL",
        "outputId": "b3899b5f-24ed-4606-8bbe-e3fc50895474"
      },
      "source": [
        "calc_mae(y, y_pred2), calc_mse(y, y_pred2)"
      ],
      "execution_count": 56,
      "outputs": [
        {
          "output_type": "execute_result",
          "data": {
            "text/plain": [
              "(9.0, 188.75)"
            ]
          },
          "metadata": {},
          "execution_count": 56
        }
      ]
    },
    {
      "cell_type": "code",
      "metadata": {
        "colab": {
          "base_uri": "https://localhost:8080/"
        },
        "id": "_WtO6lvhDmQ6",
        "outputId": "e7784d2b-91ca-41b2-89ed-f965a22b1132"
      },
      "source": [
        "calc_mae(y, y_pred3), calc_mse(y, y_pred3)"
      ],
      "execution_count": 57,
      "outputs": [
        {
          "output_type": "execute_result",
          "data": {
            "text/plain": [
              "(5.787499999999998, 43.96875)"
            ]
          },
          "metadata": {},
          "execution_count": 57
        }
      ]
    },
    {
      "cell_type": "markdown",
      "metadata": {
        "id": "JAOgIXLRa--g"
      },
      "source": [
        "Градиентный спуск"
      ]
    },
    {
      "cell_type": "code",
      "metadata": {
        "id": "DNebwUP7Fd8F"
      },
      "source": [
        "n = 10\n",
        "Q = 1/n * np.sum((y_pred3 - y)**2) # функционал ошибки, y = X*w"
      ],
      "execution_count": 58,
      "outputs": []
    },
    {
      "cell_type": "code",
      "metadata": {
        "id": "5DKkvmkwHdOx"
      },
      "source": [
        "alpha = 1e-2 # величина шага\n",
        "g = alpha * (1/n * 2 * np.sum(X[0] * (W[0] * X[0] - y)))"
      ],
      "execution_count": 59,
      "outputs": []
    },
    {
      "cell_type": "code",
      "metadata": {
        "colab": {
          "base_uri": "https://localhost:8080/"
        },
        "id": "ZVRCF5P2MYI6",
        "outputId": "dcc99646-68ff-4b71-bbb4-74803e5f2657"
      },
      "source": [
        "W[0], W[0] - g"
      ],
      "execution_count": 60,
      "outputs": [
        {
          "output_type": "execute_result",
          "data": {
            "text/plain": [
              "(45.0625, 45.29125)"
            ]
          },
          "metadata": {},
          "execution_count": 60
        }
      ]
    },
    {
      "cell_type": "markdown",
      "metadata": {
        "id": "EcbZmZOSOfVM"
      },
      "source": [
        "### Д/З"
      ]
    },
    {
      "cell_type": "markdown",
      "metadata": {
        "id": "huXrhXQsZTMt"
      },
      "source": [
        "1. Подберите скорость обучения (alpha) и количество итераций"
      ]
    },
    {
      "cell_type": "code",
      "metadata": {
        "colab": {
          "base_uri": "https://localhost:8080/"
        },
        "id": "IDB22MQKMYaJ",
        "outputId": "1068bb6a-d7d8-46f8-f023-ca24bdb8d3f2"
      },
      "source": [
        "n = X.shape[1]\n",
        "alpha = 1e-2\n",
        "W = np.array([1, 0.5])\n",
        "print(f'Number of objects = {n} \\\n",
        "       \\nLearning rate = {alpha} \\\n",
        "       \\nInitial weights = {W} \\n')\n",
        "\n",
        "for i in range(100):\n",
        "    y_pred = np.dot(W, X)\n",
        "    err = calc_mse(y, y_pred)\n",
        "    for k in range(W.shape[0]):\n",
        "        W[k] -= alpha * (1/n * 2 * np.sum(X[k] * (y_pred - y)))\n",
        "    if i % 10 == 0:\n",
        "        print(f'Iteration #{i}: W_new = {W}, MSE = {round(err,2)}')"
      ],
      "execution_count": 61,
      "outputs": [
        {
          "output_type": "stream",
          "name": "stdout",
          "text": [
            "Number of objects = 10        \n",
            "Learning rate = 0.01        \n",
            "Initial weights = [1.  0.5] \n",
            "\n",
            "Iteration #0: W_new = [2.08 4.27], MSE = 3047.75\n",
            "Iteration #10: W_new = [ 7.0011236 10.6169007], MSE = 738.65\n",
            "Iteration #20: W_new = [10.3486292  10.10603105], MSE = 622.03\n",
            "Iteration #30: W_new = [13.38789582  9.55618391], MSE = 525.24\n",
            "Iteration #40: W_new = [16.16088505  9.05336203], MSE = 444.66\n",
            "Iteration #50: W_new = [18.69110735  8.59454545], MSE = 377.58\n",
            "Iteration #60: W_new = [20.99981865  8.17589626], MSE = 321.72\n",
            "Iteration #70: W_new = [23.10641138  7.79389815], MSE = 275.22\n",
            "Iteration #80: W_new = [25.02858024  7.44534246], MSE = 236.5\n",
            "Iteration #90: W_new = [26.78247081  7.12730145], MSE = 204.27\n"
          ]
        }
      ]
    },
    {
      "cell_type": "markdown",
      "metadata": {
        "id": "Tsop9q4wcWOj"
      },
      "source": [
        "Решение:"
      ]
    },
    {
      "cell_type": "code",
      "metadata": {
        "id": "DsSKpNnlaTmI"
      },
      "source": [
        "def gradient_descent(alpha, iterations, W, X=X, y=y):\n",
        "    n = X.shape[1]\n",
        "    err = np.inf\n",
        "    for i in range(iterations):\n",
        "        y_pred = np.dot(W, X)\n",
        "        err_new = calc_mse(y, y_pred)\n",
        "        if err_new < err:\n",
        "            err = err_new\n",
        "            for j in range(W.shape[0]):\n",
        "                W[j] -= alpha * (1/n * 2 * np.sum(X[j] * (y_pred - y))) \n",
        "        else:\n",
        "            return i-1, W, err\n",
        "    return i, W, err"
      ],
      "execution_count": 62,
      "outputs": []
    },
    {
      "cell_type": "code",
      "metadata": {
        "id": "6sWn5ozvaYPr"
      },
      "source": [
        "# реализуем функцию, определяющую среднеквадратичную ошибку\n",
        "def calc_mse(y, y_pred):\n",
        "    error = np.mean((y - y_pred)**2)\n",
        "    return error"
      ],
      "execution_count": 63,
      "outputs": []
    },
    {
      "cell_type": "code",
      "metadata": {
        "colab": {
          "base_uri": "https://localhost:8080/"
        },
        "id": "QWwXE3DZabyo",
        "outputId": "ad8611fc-d66c-465c-f4f1-29173c90fd8d"
      },
      "source": [
        "min_err = np.inf\n",
        "min_coef = ()\n",
        "\n",
        "for alpha in [1e-1, 1e-2, 1e-3, 1e-4]:\n",
        "    for iters in [1e3, 1e4, 1e5, 1e6]:\n",
        "        W = np.array([1, 0.5])\n",
        "        num, wi, err = gradient_descent(alpha, int(iters), W)\n",
        "        print(f'Альфа = {alpha}, количество итераций = {iters}. Ошибка: {err}')\n",
        "        if err < min_err:\n",
        "            min_err = err\n",
        "            min_coef = (alpha, iters)\n",
        "\n",
        "print(f'Минимальная ошибка {min_err} достигается при коэфициентах {min_coef}')"
      ],
      "execution_count": 64,
      "outputs": [
        {
          "output_type": "stream",
          "name": "stdout",
          "text": [
            "Альфа = 0.1, количество итераций = 1000.0. Ошибка: 3047.75\n",
            "Альфа = 0.1, количество итераций = 10000.0. Ошибка: 3047.75\n",
            "Альфа = 0.1, количество итераций = 100000.0. Ошибка: 3047.75\n",
            "Альфа = 0.1, количество итераций = 1000000.0. Ошибка: 3047.75\n",
            "Альфа = 0.01, количество итераций = 1000.0. Ошибка: 43.96875935998757\n",
            "Альфа = 0.01, количество итераций = 10000.0. Ошибка: 43.96875000000084\n",
            "Альфа = 0.01, количество итераций = 100000.0. Ошибка: 43.96875000000084\n",
            "Альфа = 0.01, количество итераций = 1000000.0. Ошибка: 43.96875000000084\n",
            "Альфа = 0.001, количество итераций = 1000.0. Ошибка: 178.68218642130688\n",
            "Альфа = 0.001, количество итераций = 10000.0. Ошибка: 43.96875992746433\n",
            "Альфа = 0.001, количество итераций = 100000.0. Ошибка: 43.96875000001047\n",
            "Альфа = 0.001, количество итераций = 1000000.0. Ошибка: 43.96875000001047\n",
            "Альфа = 0.0001, количество итераций = 1000.0. Ошибка: 740.9067599479888\n",
            "Альфа = 0.0001, количество итераций = 10000.0. Ошибка: 178.56189362246133\n",
            "Альфа = 0.0001, количество итераций = 100000.0. Ошибка: 43.96875998569196\n",
            "Альфа = 0.0001, количество итераций = 1000000.0. Ошибка: 43.96875000016706\n",
            "Минимальная ошибка 43.96875000000084 достигается при коэфициентах (0.01, 10000.0)\n"
          ]
        }
      ]
    },
    {
      "cell_type": "markdown",
      "metadata": {
        "id": "5Qu1o4JhZYwI"
      },
      "source": [
        "*2. В этом коде мы избавляемся от итераций по весам, но тут есть ошибка, исправьте ее"
      ]
    },
    {
      "cell_type": "code",
      "metadata": {
        "colab": {
          "base_uri": "https://localhost:8080/"
        },
        "id": "WZZzDCQLY4pA",
        "outputId": "32303da2-4bf0-408f-ba4b-be2e15b92959"
      },
      "source": [
        "n = X.shape[1]\n",
        "alpha = 1e-2\n",
        "W = np.array([1, 0.5])\n",
        "print(f'Number of objects = {n} \\\n",
        "       \\nLearning rate = {alpha} \\\n",
        "       \\nInitial weights = {W} \\n')\n",
        "\n",
        "for i in range(100):\n",
        "    y_pred = np.dot(W, X)\n",
        "    err = calc_mse(y, y_pred)\n",
        "    #for k in range(W.shape[0]):\n",
        "    #     W[k] -= alpha * (1/n * 2 * np.sum(X[k] * (y_pred - y)))\n",
        "    W -= alpha * (1/n * 2 * np.sum(X * (y_pred - y)))\n",
        "    W_pred = W\n",
        "    \n",
        "    if i % 10 == 0:\n",
        "        \n",
        "        print(f'Iteration #{i}: W_new = {W}, MSE = {round(err,2)}')"
      ],
      "execution_count": 65,
      "outputs": [
        {
          "output_type": "stream",
          "name": "stdout",
          "text": [
            "Number of objects = 10        \n",
            "Learning rate = 0.01        \n",
            "Initial weights = [1.  0.5] \n",
            "\n",
            "Iteration #0: W_new = [5.85 5.35], MSE = 3047.75\n",
            "Iteration #10: W_new = [11.0965715 10.5965715], MSE = 597.49\n",
            "Iteration #20: W_new = [11.10415569 10.60415569], MSE = 597.49\n",
            "Iteration #30: W_new = [11.10416665 10.60416665], MSE = 597.49\n",
            "Iteration #40: W_new = [11.10416667 10.60416667], MSE = 597.49\n",
            "Iteration #50: W_new = [11.10416667 10.60416667], MSE = 597.49\n",
            "Iteration #60: W_new = [11.10416667 10.60416667], MSE = 597.49\n",
            "Iteration #70: W_new = [11.10416667 10.60416667], MSE = 597.49\n",
            "Iteration #80: W_new = [11.10416667 10.60416667], MSE = 597.49\n",
            "Iteration #90: W_new = [11.10416667 10.60416667], MSE = 597.49\n"
          ]
        }
      ]
    },
    {
      "cell_type": "markdown",
      "metadata": {
        "id": "RSWz7h6PcHml"
      },
      "source": [
        "Решение:"
      ]
    },
    {
      "cell_type": "code",
      "metadata": {
        "colab": {
          "base_uri": "https://localhost:8080/"
        },
        "id": "ix6AQ_tUana7",
        "outputId": "fd01fdb2-9c15-4ca9-ec9e-e444992f3445"
      },
      "source": [
        "n = X.shape[1]\n",
        "alpha = 1e-2\n",
        "W = np.array([1, 0.5])\n",
        "print(f'Number of objects = {n} \\\n",
        "       \\nLearning rate = {alpha} \\\n",
        "       \\nInitial weights = {W} \\n')\n",
        "\n",
        "for i in range(100):\n",
        "    y_pred = np.dot(W, X)\n",
        "    err = calc_mse(y, y_pred)\n",
        "    #for k in range(W.shape[0]):\n",
        "    #     W[k] -= alpha * (1/n * 2 * np.sum(X[k] * (y_pred - y)))\n",
        "    W -= (alpha  * (1/n * 2 * np.dot((y_pred  - y), X.T)))\n",
        "    W_pred = W\n",
        "    \n",
        "    if i % 10 == 0:\n",
        "        \n",
        "        print(f'Итераций #{i}: W_new(Подобные веса)= {W}, MSE(ошибка) = {round(err,2)}')\n",
        "\n",
        "    last_err = err"
      ],
      "execution_count": 66,
      "outputs": [
        {
          "output_type": "stream",
          "name": "stdout",
          "text": [
            "Number of objects = 10        \n",
            "Learning rate = 0.01        \n",
            "Initial weights = [1.  0.5] \n",
            "\n",
            "Итераций #0: W_new(Подобные веса)= [2.08 4.27], MSE(ошибка) = 3047.75\n",
            "Итераций #10: W_new(Подобные веса)= [ 7.0011236 10.6169007], MSE(ошибка) = 738.65\n",
            "Итераций #20: W_new(Подобные веса)= [10.3486292  10.10603105], MSE(ошибка) = 622.03\n",
            "Итераций #30: W_new(Подобные веса)= [13.38789582  9.55618391], MSE(ошибка) = 525.24\n",
            "Итераций #40: W_new(Подобные веса)= [16.16088505  9.05336203], MSE(ошибка) = 444.66\n",
            "Итераций #50: W_new(Подобные веса)= [18.69110735  8.59454545], MSE(ошибка) = 377.58\n",
            "Итераций #60: W_new(Подобные веса)= [20.99981865  8.17589626], MSE(ошибка) = 321.72\n",
            "Итераций #70: W_new(Подобные веса)= [23.10641138  7.79389815], MSE(ошибка) = 275.22\n",
            "Итераций #80: W_new(Подобные веса)= [25.02858024  7.44534246], MSE(ошибка) = 236.5\n",
            "Итераций #90: W_new(Подобные веса)= [26.78247081  7.12730145], MSE(ошибка) = 204.27\n"
          ]
        }
      ]
    },
    {
      "cell_type": "markdown",
      "metadata": {
        "id": "Gg99PKvwOfVN"
      },
      "source": [
        "*3. Вместо того, чтобы задавать количество итераций, задайте условие остановки алгоритма - когда ошибка за итерацию начинает изменяться ниже определенного порога (упрощенный аналог параметра tol в линейной регрессии в sklearn)."
      ]
    },
    {
      "cell_type": "code",
      "metadata": {
        "colab": {
          "base_uri": "https://localhost:8080/"
        },
        "id": "mnP8CueRaxEE",
        "outputId": "863ba789-604a-4eec-d829-34ec99220293"
      },
      "source": [
        "error_min = np.inf\n",
        "error = 1e6\n",
        "epsila = 1e-5\n",
        "i = 0\n",
        "while error_min - error > epsila:\n",
        "    y_pred = np.dot(W, X)\n",
        "    error, error_min = calc_mse(y, y_pred), error\n",
        "    W -= (alpha  * (1/n * 2 * np.dot((y_pred  - y), X.T)))\n",
        "    i += 1\n",
        "     \n",
        "print(f'Iteration = {i}, W_new = {W}, MSE = {round(err,2)}')"
      ],
      "execution_count": 67,
      "outputs": [
        {
          "output_type": "stream",
          "name": "stdout",
          "text": [
            "Iteration = 679, W_new = [45.02904272  3.81856696], MSE = 179.9\n"
          ]
        }
      ]
    },
    {
      "cell_type": "markdown",
      "metadata": {
        "collapsed": true,
        "id": "pxVz0aWbOfVN"
      },
      "source": [
        "4. Сделайте выводы по результатам работы с GD : что повышает качество результата, что понижает."
      ]
    },
    {
      "cell_type": "markdown",
      "metadata": {
        "id": "d9NzWgC1j9TA"
      },
      "source": [
        ""
      ]
    },
    {
      "cell_type": "markdown",
      "metadata": {
        "id": "UHY_rKP7OfVO"
      },
      "source": [
        "ДЗ1 Lesson_1_HW\n",
        "\n",
        "1. Подберите скорость обучения (alpha) и количество итераций\n",
        "\n",
        "*2. В этом коде мы избавляемся от итераций по весам, но тут есть ошибка, исправьте ее\n",
        "\n",
        "*3. Вместо того, чтобы задавать количество итераций, задайте условие остановки алгоритма - когда ошибка за итерацию начинает изменяться ниже определенного порога (упрощенный аналог параметра tol в линейной регрессии в sklearn).\n",
        "\n",
        "4. Сделайте выводы по результатам работы с GD : что повышает качество результата, что понижает."
      ]
    },
    {
      "cell_type": "code",
      "metadata": {
        "id": "BQCvs3MrOfVO"
      },
      "source": [
        ""
      ],
      "execution_count": 67,
      "outputs": []
    }
  ]
}