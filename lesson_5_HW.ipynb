{
  "nbformat": 4,
  "nbformat_minor": 0,
  "metadata": {
    "colab": {
      "name": "lesson_5_HW.ipynb",
      "provenance": [],
      "collapsed_sections": [],
      "authorship_tag": "ABX9TyPGGVjCK7dmUlTD3GOg8AfH",
      "include_colab_link": true
    },
    "kernelspec": {
      "name": "python3",
      "display_name": "Python 3"
    },
    "language_info": {
      "name": "python"
    }
  },
  "cells": [
    {
      "cell_type": "markdown",
      "metadata": {
        "id": "view-in-github",
        "colab_type": "text"
      },
      "source": [
        "<a href=\"https://colab.research.google.com/github/Ksenia-90/Data_analysis_algorithms/blob/lesson_5/lesson_5_HW.ipynb\" target=\"_parent\"><img src=\"https://colab.research.google.com/assets/colab-badge.svg\" alt=\"Open In Colab\"/></a>"
      ]
    },
    {
      "cell_type": "markdown",
      "metadata": {
        "id": "O7cIBgOLhkoM"
      },
      "source": [
        "##**Урок 5. Случайный лес**"
      ]
    },
    {
      "cell_type": "markdown",
      "metadata": {
        "id": "3arzwKOvh5nQ"
      },
      "source": [
        "1.Сформировать с помощью sklearn.make_classification датасет из 100 объектов с двумя признаками, обучить случайный лес из 1, 3, 10 и 50 деревьев и визуализировать их разделяющие гиперплоскости на графиках (по подобию визуализации деревьев из предыдущего урока, необходимо только заменить вызов функции predict на tree_vote)."
      ]
    },
    {
      "cell_type": "markdown",
      "metadata": {
        "id": "ZU6aeUDqh_8-"
      },
      "source": [
        "2.Сделать выводы о получаемой сложности гиперплоскости и недообучении или переобучении случайного леса в зависимости от количества деревьев в нем"
      ]
    },
    {
      "cell_type": "markdown",
      "metadata": {
        "id": "yUTtHYT3iDvU"
      },
      "source": [
        "3.Заменить в реализованном алгоритме проверку с помощью отложенной выборки на Out-of-Bag."
      ]
    },
    {
      "cell_type": "markdown",
      "metadata": {
        "id": "_x1rNByXiIFP"
      },
      "source": [
        "4.(На повторение) Переписать функцию gini из урока про решающие деревья так, чтобы в качестве критерия использовалась энтропия Шэннона. Переименовать функцию в entropy и сравнить результаты построения леса по Шеннону и Gini."
      ]
    },
    {
      "cell_type": "code",
      "metadata": {
        "id": "5obFJJi-5VRx"
      },
      "source": [
        "import numpy as np\n",
        "import random\n",
        "from sklearn import datasets\n",
        "import matplotlib.pyplot as plt\n",
        "from matplotlib.colors import ListedColormap\n",
        "from sklearn import datasets\n",
        "import math\n",
        "\n",
        "%matplotlib inline"
      ],
      "execution_count": 837,
      "outputs": []
    },
    {
      "cell_type": "code",
      "metadata": {
        "id": "CCdLJh6K5J9v"
      },
      "source": [
        "# сгенерируем данные, представляющие собой 100 объектов с 2мя признаками\n",
        "classification_data, classification_labels = datasets.make_classification(n_samples=100,\n",
        "                                                      n_features = 2, n_informative = 2, \n",
        "                                                      n_classes = 2, n_redundant=0, \n",
        "                                                      n_clusters_per_class=1, random_state=23)"
      ],
      "execution_count": 838,
      "outputs": []
    },
    {
      "cell_type": "code",
      "metadata": {
        "colab": {
          "base_uri": "https://localhost:8080/",
          "height": 498
        },
        "id": "7-qJLh7Y5NMJ",
        "outputId": "a3b68905-c52e-4e5a-b3cf-ebb8793c82c7"
      },
      "source": [
        "# визуализируем сгенерированные данные\n",
        "\n",
        "colors = ListedColormap(['red', 'blue'])\n",
        "light_colors = ListedColormap(['lightcoral', 'lightblue'])\n",
        "\n",
        "plt.figure(figsize=(8,8))\n",
        "plt.scatter(list(map(lambda x: x[0], classification_data)), list(map(lambda x: x[1], classification_data)), \n",
        "              c=classification_labels, cmap=colors)"
      ],
      "execution_count": 839,
      "outputs": [
        {
          "output_type": "execute_result",
          "data": {
            "text/plain": [
              "<matplotlib.collections.PathCollection at 0x7f35911dc590>"
            ]
          },
          "metadata": {},
          "execution_count": 839
        },
        {
          "output_type": "display_data",
          "data": {
            "image/png": "[encoded data removed]",
            "text/plain": [
              "<Figure size 576x576 with 1 Axes>"
            ]
          },
          "metadata": {
            "needs_background": "light"
          }
        }
      ]
    },
    {
      "cell_type": "code",
      "metadata": {
        "id": "HofjJv_nEvpy"
      },
      "source": [
        "random.seed(42)\n",
        "\n",
        "def get_bootstrap(data, labels, N):\n",
        "    n_samples = data.shape[0]\n",
        "    bootstrap = []\n",
        "    \n",
        "    for i in range(N):\n",
        "        b_data = np.zeros(data.shape)\n",
        "        b_labels = np.zeros(labels.shape)\n",
        "        \n",
        "        for j in range(n_samples):\n",
        "            sample_index = random.randint(0, n_samples-1)\n",
        "            b_data[j] = data[sample_index]\n",
        "            b_labels[j] = labels[sample_index]\n",
        "        bootstrap.append((b_data, b_labels))\n",
        "        \n",
        "    return bootstrap"
      ],
      "execution_count": 840,
      "outputs": []
    },
    {
      "cell_type": "code",
      "metadata": {
        "id": "C8RaQ0dyEyvE"
      },
      "source": [
        "def get_subsample(len_sample):\n",
        "    # будем сохранять не сами признаки, а их индексы\n",
        "    sample_indexes = [i for i in range(len_sample)]\n",
        "    \n",
        "    len_subsample = int(np.sqrt(len_sample))\n",
        "    subsample = []\n",
        "    \n",
        "    random.shuffle(sample_indexes)\n",
        "    for _ in range(len_subsample):\n",
        "        subsample.append(sample_indexes.pop())\n",
        "        \n",
        "    return subsample"
      ],
      "execution_count": 841,
      "outputs": []
    },
    {
      "cell_type": "code",
      "metadata": {
        "id": "Ic-c9uy5E23G"
      },
      "source": [
        "# Реализуем класс узла\n",
        "\n",
        "class Node:\n",
        "    \n",
        "    def __init__(self, index, t, true_branch, false_branch):\n",
        "        self.index = index  # индекс признака, по которому ведется сравнение с порогом в этом узле\n",
        "        self.t = t  # значение порога\n",
        "        self.true_branch = true_branch  # поддерево, удовлетворяющее условию в узле\n",
        "        self.false_branch = false_branch  # поддерево, не удовлетворяющее условию в узле"
      ],
      "execution_count": 842,
      "outputs": []
    },
    {
      "cell_type": "code",
      "metadata": {
        "id": "P5igxv6zE3kp"
      },
      "source": [
        "class Leaf:\n",
        "    \n",
        "    def __init__(self, data, labels):\n",
        "        self.data = data\n",
        "        self.labels = labels\n",
        "        self.prediction = self.predict()\n",
        "        \n",
        "    def predict(self):\n",
        "        # подсчет количества объектов разных классов\n",
        "        classes = {}  # сформируем словарь \"класс: количество объектов\"\n",
        "        for label in self.labels:\n",
        "            if label not in classes:\n",
        "                classes[label] = 0\n",
        "            classes[label] += 1\n",
        "        #  найдем класс, количество объектов которого будет максимальным в этом листе и вернем его    \n",
        "        prediction = max(classes, key=classes.get)\n",
        "        return prediction       "
      ],
      "execution_count": 843,
      "outputs": []
    },
    {
      "cell_type": "code",
      "metadata": {
        "id": "XTdJoVYBE6gB"
      },
      "source": [
        "def gini(labels):\n",
        "    #  подсчет количества объектов разных классов\n",
        "    classes = {}\n",
        "    for label in labels:\n",
        "        if label not in classes:\n",
        "            classes[label] = 0\n",
        "        classes[label] += 1\n",
        "    \n",
        "    #  расчет критерия\n",
        "    impurity = 1\n",
        "    for label in classes:\n",
        "        p = classes[label] / len(labels)\n",
        "        impurity -= p **2\n",
        "        \n",
        "    return impurity"
      ],
      "execution_count": 844,
      "outputs": []
    },
    {
      "cell_type": "code",
      "metadata": {
        "id": "piopeAtYE91n"
      },
      "source": [
        "# Расчет качества\n",
        "\n",
        "def quality(left_labels, right_labels, current_gini):\n",
        "\n",
        "    # доля выбоки, ушедшая в левое поддерево\n",
        "    p = float(left_labels.shape[0]) / (left_labels.shape[0] + right_labels.shape[0])\n",
        "    \n",
        "    return current_gini - p * gini(left_labels) - (1 - p) * gini(right_labels)"
      ],
      "execution_count": 845,
      "outputs": []
    },
    {
      "cell_type": "code",
      "metadata": {
        "id": "-KbuZlBhFAXD"
      },
      "source": [
        "# Разбиение датасета в узле\n",
        "\n",
        "def split(data, labels, index, t):\n",
        "    \n",
        "    left = np.where(data[:, index] <= t)\n",
        "    right = np.where(data[:, index] > t)\n",
        "        \n",
        "    true_data = data[left]\n",
        "    false_data = data[right]\n",
        "    true_labels = labels[left]\n",
        "    false_labels = labels[right]\n",
        "        \n",
        "    return true_data, false_data, true_labels, false_labels"
      ],
      "execution_count": 846,
      "outputs": []
    },
    {
      "cell_type": "code",
      "metadata": {
        "id": "34FlpxWpFD4X"
      },
      "source": [
        "# Нахождение наилучшего разбиения\n",
        "\n",
        "def find_best_split(data, labels):\n",
        "    \n",
        "    #  обозначим минимальное количество объектов в узле\n",
        "    min_leaf = 1\n",
        "\n",
        "    current_gini = gini(labels)\n",
        "\n",
        "    best_quality = 0\n",
        "    best_t = None\n",
        "    best_index = None\n",
        "    \n",
        "    n_features = data.shape[1]\n",
        "    \n",
        "    # выбор индекса из подвыборки длиной sqrt(n_features)\n",
        "    subsample = get_subsample(n_features)\n",
        "    \n",
        "    for index in subsample:\n",
        "        t_values = [row[index] for row in data]\n",
        "        \n",
        "        for t in t_values:\n",
        "            true_data, false_data, true_labels, false_labels = split(data, labels, index, t)\n",
        "            #  пропускаем разбиения, в которых в узле остается менее 5 объектов\n",
        "            if len(true_data) < min_leaf or len(false_data) < min_leaf:\n",
        "                continue\n",
        "            \n",
        "            current_quality = quality(true_labels, false_labels, current_gini)\n",
        "            \n",
        "            #  выбираем порог, на котором получается максимальный прирост качества\n",
        "            if current_quality > best_quality:\n",
        "                best_quality, best_t, best_index = current_quality, t, index\n",
        "\n",
        "    return best_quality, best_t, best_index"
      ],
      "execution_count": 847,
      "outputs": []
    },
    {
      "cell_type": "code",
      "metadata": {
        "id": "KNWxxGyMFMsb"
      },
      "source": [
        "# Построение дерева с помощью рекурсивной функции\n",
        "\n",
        "def build_tree(data, labels):\n",
        "\n",
        "    quality, t, index = find_best_split(data, labels)\n",
        "\n",
        "    #  Базовый случай - прекращаем рекурсию, когда нет прироста в качества\n",
        "    if quality == 0:\n",
        "        return Leaf(data, labels)\n",
        "\n",
        "    true_data, false_data, true_labels, false_labels = split(data, labels, index, t)\n",
        "\n",
        "    # Рекурсивно строим два поддерева\n",
        "    true_branch = build_tree(true_data, true_labels)\n",
        "    false_branch = build_tree(false_data, false_labels)\n",
        "\n",
        "    # Возвращаем класс узла со всеми поддеревьями, то есть целого дерева\n",
        "    return Node(index, t, true_branch, false_branch)"
      ],
      "execution_count": 848,
      "outputs": []
    },
    {
      "cell_type": "code",
      "metadata": {
        "id": "VbicSO3NFoxR"
      },
      "source": [
        "def random_forest(data, labels, n_trees):\n",
        "    forest = []\n",
        "    bootstrap = get_bootstrap(data, labels, n_trees)\n",
        "    \n",
        "    for b_data, b_labels in bootstrap:\n",
        "        forest.append(build_tree(b_data, b_labels))\n",
        "        \n",
        "    return forest"
      ],
      "execution_count": 849,
      "outputs": []
    },
    {
      "cell_type": "code",
      "metadata": {
        "id": "cnoqEi3iFW2V"
      },
      "source": [
        "#Добавим фукцию случайного формирования леса\n",
        "def random_forest(data, labels, n_trees):\n",
        "    forest = []\n",
        "    bootstrap = get_bootstrap(data, labels, n_trees)\n",
        "    \n",
        "    for b_data, b_labels in bootstrap:\n",
        "        forest.append(build_tree(b_data, b_labels))\n",
        "        \n",
        "    return forest"
      ],
      "execution_count": 850,
      "outputs": []
    },
    {
      "cell_type": "code",
      "metadata": {
        "id": "lFa2QChFHKn5"
      },
      "source": [
        " #Функция классификации отдельного объекта\n",
        "\n",
        "def classify_object(obj, node):\n",
        "\n",
        "    #  Останавливаем рекурсию, если достигли листа\n",
        "    if isinstance(node, Leaf):\n",
        "        answer = node.prediction\n",
        "        return answer\n",
        "\n",
        "    if obj[node.index] <= node.t:\n",
        "        return classify_object(obj, node.true_branch)\n",
        "    else:\n",
        "        return classify_object(obj, node.false_branch)"
      ],
      "execution_count": 851,
      "outputs": []
    },
    {
      "cell_type": "code",
      "metadata": {
        "id": "xC1DL2aEFzT6"
      },
      "source": [
        "# функция формирования предсказания по выборке на одном дереве\n",
        "\n",
        "def predict(data, tree):\n",
        "    \n",
        "    classes = []\n",
        "    for obj in data:\n",
        "        prediction = classify_object(obj, tree)\n",
        "        classes.append(prediction)\n",
        "    return classes\n"
      ],
      "execution_count": 852,
      "outputs": []
    },
    {
      "cell_type": "code",
      "metadata": {
        "id": "k6CSVPpeF33I"
      },
      "source": [
        "# предсказание голосованием деревьев\n",
        "\n",
        "def tree_vote(forest, data):\n",
        "\n",
        "    # добавим предсказания всех деревьев в список\n",
        "    predictions = []\n",
        "    for tree in forest:\n",
        "        predictions.append(predict(data, tree))\n",
        "    \n",
        "    # сформируем список с предсказаниями для каждого объекта\n",
        "    predictions_per_object = list(zip(*predictions))\n",
        "    \n",
        "    # выберем в качестве итогового предсказания для каждого объекта то,\n",
        "    # за которое проголосовало большинство деревьев\n",
        "    voted_predictions = []\n",
        "    for obj in predictions_per_object:\n",
        "        voted_predictions.append(max(set(obj), key=obj.count))\n",
        "        \n",
        "    return voted_predictions"
      ],
      "execution_count": 853,
      "outputs": []
    },
    {
      "cell_type": "code",
      "metadata": {
        "id": "8o_4i-iNF-Y-"
      },
      "source": [
        "def get_meshgrid(data, step=.05, border=1.2):\n",
        "    x_min, x_max = data[:, 0].min() - border, data[:, 0].max() + border\n",
        "    y_min, y_max = data[:, 1].min() - border, data[:, 1].max() + border\n",
        "    return np.meshgrid(np.arange(x_min, x_max, step), np.arange(y_min, y_max, step))\n"
      ],
      "execution_count": 854,
      "outputs": []
    },
    {
      "cell_type": "code",
      "metadata": {
        "id": "wea7y5DTGIzr"
      },
      "source": [
        "# Визуализируем дерево на графике\n",
        "\n",
        "def plot_forest(forest, train_data, test_data):\n",
        "    \n",
        "    plt.figure(figsize = (16, 7))\n",
        "\n",
        "    # график обучающей выборки\n",
        "    plt.subplot(1,2,1)\n",
        "    xx, yy = get_meshgrid(train_data)\n",
        "    mesh_predictions = np.array(tree_vote(forest, np.c_[xx.ravel(), yy.ravel()])).reshape(xx.shape)\n",
        "    plt.pcolormesh(xx, yy, mesh_predictions, cmap = light_colors)\n",
        "    plt.scatter(train_data[:, 0], train_data[:, 1], c = train_labels, cmap = colors)\n",
        "    plt.title(f'Train accuracy={train_accuracy:.2f}')\n",
        "\n",
        "    # график тестовой выборки\n",
        "    plt.subplot(1,2,2)\n",
        "    plt.pcolormesh(xx, yy, mesh_predictions, cmap = light_colors)\n",
        "    plt.scatter(test_data[:, 0], test_data[:, 1], c = test_labels, cmap = colors)\n",
        "    plt.title(f'Test accuracy={test_accuracy:.2f}')"
      ],
      "execution_count": 855,
      "outputs": []
    },
    {
      "cell_type": "code",
      "metadata": {
        "id": "iMYhvgFPGOMG"
      },
      "source": [
        "# Разобьем выборку на обучающую и тестовую\n",
        "\n",
        "from sklearn import model_selection\n",
        "\n",
        "train_data, test_data, train_labels, test_labels = model_selection.train_test_split(classification_data, \n",
        "                                                                                     classification_labels, \n",
        "                                                                                     test_size = 0.3,\n",
        "                                                                                     random_state = 1)"
      ],
      "execution_count": 856,
      "outputs": []
    },
    {
      "cell_type": "code",
      "metadata": {
        "id": "YsPEK-heGO8C"
      },
      "source": [
        "# Введем функцию подсчета точности как доли правильных ответов\n",
        "\n",
        "def accuracy_metric(actual, predicted):\n",
        "    correct = 0\n",
        "    for i in range(len(actual)):\n",
        "        if actual[i] == predicted[i]:\n",
        "            correct += 1\n",
        "    return correct / float(len(actual)) * 100.0"
      ],
      "execution_count": 857,
      "outputs": []
    },
    {
      "cell_type": "code",
      "metadata": {
        "id": "sNRCvhaanraV"
      },
      "source": [
        "def classification_error(p):\n",
        "   return 1 - np.max([p, 1 - p])"
      ],
      "execution_count": 858,
      "outputs": []
    },
    {
      "cell_type": "code",
      "metadata": {
        "id": "fcbYjak1n24f"
      },
      "source": [
        "c_err = [classification_error(i) for i in train_data]\n"
      ],
      "execution_count": 859,
      "outputs": []
    },
    {
      "cell_type": "markdown",
      "metadata": {
        "id": "3p01O5MkGUia"
      },
      "source": [
        "**Лес из одного дерева**"
      ]
    },
    {
      "cell_type": "code",
      "metadata": {
        "id": "xwH69dQZGnBv"
      },
      "source": [
        "n_trees = 1\n",
        "my_forest_1 = random_forest(train_data, train_labels, n_trees)"
      ],
      "execution_count": 860,
      "outputs": []
    },
    {
      "cell_type": "code",
      "metadata": {
        "id": "Wr_jVZo_GrYa"
      },
      "source": [
        "# Получим ответы для обучающей выборки \n",
        "train_answers = tree_vote(my_forest_1, train_data)\n",
        "\n",
        "# И получим ответы для тестовой выборки\n",
        "test_answers = tree_vote(my_forest_1, test_data)"
      ],
      "execution_count": 861,
      "outputs": []
    },
    {
      "cell_type": "code",
      "metadata": {
        "colab": {
          "base_uri": "https://localhost:8080/"
        },
        "id": "sSmtLJCfGwpJ",
        "outputId": "47061040-a4c2-419e-88e3-ba301d0b1847"
      },
      "source": [
        "# Точность на обучающей выборке\n",
        "train_accuracy = accuracy_metric(train_labels, train_answers)\n",
        "print(f'Точность случайного леса из {n_trees} деревьев на обучающей выборке: {train_accuracy:.3f}')"
      ],
      "execution_count": 862,
      "outputs": [
        {
          "output_type": "stream",
          "name": "stdout",
          "text": [
            "Точность случайного леса из 1 деревьев на обучающей выборке: 97.143\n"
          ]
        }
      ]
    },
    {
      "cell_type": "code",
      "metadata": {
        "colab": {
          "base_uri": "https://localhost:8080/"
        },
        "id": "5zczIRpuGy_9",
        "outputId": "c2a28e43-353f-4bbc-f27d-8a63822068c0"
      },
      "source": [
        "# Точность на тестовой выборке\n",
        "test_accuracy = accuracy_metric(test_labels, test_answers)\n",
        "print(f'Точность случайного леса из {n_trees} деревьев на тестовой выборке: {test_accuracy:.3f}')"
      ],
      "execution_count": 863,
      "outputs": [
        {
          "output_type": "stream",
          "name": "stdout",
          "text": [
            "Точность случайного леса из 1 деревьев на тестовой выборке: 80.000\n"
          ]
        }
      ]
    },
    {
      "cell_type": "code",
      "metadata": {
        "colab": {
          "base_uri": "https://localhost:8080/"
        },
        "id": "sgG31OOxshLJ",
        "outputId": "2f71be02-5c32-4c97-cc6e-38aeaa1ffd01"
      },
      "source": [
        "from sklearn.ensemble import RandomForestClassifier \n",
        "forest = RandomForestClassifier(n_estimators = 1, oob_score = True)\n",
        "forest.fit(train_data, train_labels)\n",
        "print('Score: ', forest.score(train_data, train_labels))\n",
        "print(forest.oob_score_)"
      ],
      "execution_count": 864,
      "outputs": [
        {
          "output_type": "stream",
          "name": "stdout",
          "text": [
            "Score:  0.9571428571428572\n",
            "0.6714285714285714\n"
          ]
        }
      ]
    },
    {
      "cell_type": "code",
      "metadata": {
        "colab": {
          "base_uri": "https://localhost:8080/",
          "height": 443
        },
        "id": "a2YQIpT2G1K1",
        "outputId": "a34b82e4-1511-4e52-fe8b-f2dce718a999"
      },
      "source": [
        "plot_forest(my_forest_1, train_data, test_data)"
      ],
      "execution_count": 865,
      "outputs": [
        {
          "output_type": "display_data",
          "data": {
            "image/png": "[encoded data removed]",
            "text/plain": [
              "<Figure size 1152x504 with 2 Axes>"
            ]
          },
          "metadata": {
            "needs_background": "light"
          }
        }
      ]
    },
    {
      "cell_type": "markdown",
      "metadata": {
        "id": "biRt_gr8Hb1K"
      },
      "source": [
        "**Лес из 3-х деревьев**"
      ]
    },
    {
      "cell_type": "code",
      "metadata": {
        "id": "zyk9Jb4bH00D"
      },
      "source": [
        "n_trees = 3\n",
        "my_forest_3 = random_forest(train_data, train_labels, n_trees)"
      ],
      "execution_count": 866,
      "outputs": []
    },
    {
      "cell_type": "code",
      "metadata": {
        "id": "_zbkErB8IA2l"
      },
      "source": [
        "# Получим ответы для обучающей выборки \n",
        "train_answers = tree_vote(my_forest_3, train_data)\n",
        "\n",
        "# И получим ответы для тестовой выборки\n",
        "test_answers = tree_vote(my_forest_3, test_data)"
      ],
      "execution_count": 867,
      "outputs": []
    },
    {
      "cell_type": "code",
      "metadata": {
        "colab": {
          "base_uri": "https://localhost:8080/"
        },
        "id": "AJ5zsNIYIMFP",
        "outputId": "dd4c367d-7c93-4b91-da7c-492f5ba55c06"
      },
      "source": [
        "# Точность на обучающей выборке\n",
        "train_accuracy = accuracy_metric(train_labels, train_answers)\n",
        "print(f'Точность случайного леса из {n_trees} деревьев на обучающей выборке: {train_accuracy:.3f}')"
      ],
      "execution_count": 868,
      "outputs": [
        {
          "output_type": "stream",
          "name": "stdout",
          "text": [
            "Точность случайного леса из 3 деревьев на обучающей выборке: 97.143\n"
          ]
        }
      ]
    },
    {
      "cell_type": "code",
      "metadata": {
        "colab": {
          "base_uri": "https://localhost:8080/"
        },
        "id": "whpK9l6PIW24",
        "outputId": "96a42a51-1ad7-476f-c28a-a896f8928c7d"
      },
      "source": [
        "# Точность на тестовой выборке\n",
        "test_accuracy = accuracy_metric(test_labels, test_answers)\n",
        "print(f'Точность случайного леса из {n_trees} деревьев на тестовой выборке: {test_accuracy:.3f}')"
      ],
      "execution_count": 869,
      "outputs": [
        {
          "output_type": "stream",
          "name": "stdout",
          "text": [
            "Точность случайного леса из 3 деревьев на тестовой выборке: 80.000\n"
          ]
        }
      ]
    },
    {
      "cell_type": "code",
      "metadata": {
        "colab": {
          "base_uri": "https://localhost:8080/"
        },
        "id": "UU6ziRNEs_j1",
        "outputId": "bc47494b-fc1f-43d1-e034-82190fa93d69"
      },
      "source": [
        "from sklearn.ensemble import RandomForestClassifier \n",
        "forest = RandomForestClassifier(n_estimators = 3, oob_score = True)\n",
        "forest.fit(train_data, train_labels)\n",
        "print('Score: ', forest.score(train_data, train_labels))\n",
        "print('oob_score_', forest.oob_score_)"
      ],
      "execution_count": 870,
      "outputs": [
        {
          "output_type": "stream",
          "name": "stdout",
          "text": [
            "Score:  0.9714285714285714\n",
            "oob_score_ 0.8142857142857143\n"
          ]
        }
      ]
    },
    {
      "cell_type": "code",
      "metadata": {
        "colab": {
          "base_uri": "https://localhost:8080/",
          "height": 443
        },
        "id": "AWb57tafIeyy",
        "outputId": "35a88a45-299b-4630-ae64-ac5220b8ea15"
      },
      "source": [
        "plot_forest(my_forest_3, train_data, test_data)"
      ],
      "execution_count": 871,
      "outputs": [
        {
          "output_type": "display_data",
          "data": {
            "image/png": "[encoded data removed]",
            "text/plain": [
              "<Figure size 1152x504 with 2 Axes>"
            ]
          },
          "metadata": {
            "needs_background": "light"
          }
        }
      ]
    },
    {
      "cell_type": "markdown",
      "metadata": {
        "id": "CgcTgefPHnct"
      },
      "source": [
        "**Лес из 50 деревьев**"
      ]
    },
    {
      "cell_type": "code",
      "metadata": {
        "id": "a66-J0TLrFH5"
      },
      "source": [
        "n_trees = 50\n",
        "my_forest_50 = random_forest(train_data, train_labels, n_trees)"
      ],
      "execution_count": 872,
      "outputs": []
    },
    {
      "cell_type": "code",
      "metadata": {
        "id": "W7Y_RvycrPqt"
      },
      "source": [
        "# Получим ответы для обучающей выборки \n",
        "train_answers = tree_vote(my_forest_50, train_data)\n",
        "\n",
        "# И получим ответы для тестовой выборки\n",
        "test_answers = tree_vote(my_forest_50, test_data)"
      ],
      "execution_count": 873,
      "outputs": []
    },
    {
      "cell_type": "code",
      "metadata": {
        "colab": {
          "base_uri": "https://localhost:8080/"
        },
        "id": "3THjUsdDrU3g",
        "outputId": "90494361-3188-48a9-caef-d77e36310996"
      },
      "source": [
        "# Точность на обучающей выборке\n",
        "train_accuracy = accuracy_metric(train_labels, train_answers)\n",
        "print(f'Точность случайного леса из {n_trees} деревьев на обучающей выборке: {train_accuracy:.3f}')"
      ],
      "execution_count": 874,
      "outputs": [
        {
          "output_type": "stream",
          "name": "stdout",
          "text": [
            "Точность случайного леса из 50 деревьев на обучающей выборке: 100.000\n"
          ]
        }
      ]
    },
    {
      "cell_type": "code",
      "metadata": {
        "colab": {
          "base_uri": "https://localhost:8080/"
        },
        "id": "c3410PvGrZlx",
        "outputId": "5ca85c50-86b3-4c4f-c88f-d22c5addfe70"
      },
      "source": [
        "# Точность на тестовой выборке\n",
        "test_accuracy = accuracy_metric(test_labels, test_answers)\n",
        "print(f'Точность случайного леса из {n_trees} деревьев на тестовой выборке: {test_accuracy:.3f}')"
      ],
      "execution_count": 875,
      "outputs": [
        {
          "output_type": "stream",
          "name": "stdout",
          "text": [
            "Точность случайного леса из 50 деревьев на тестовой выборке: 86.667\n"
          ]
        }
      ]
    },
    {
      "cell_type": "code",
      "metadata": {
        "colab": {
          "base_uri": "https://localhost:8080/"
        },
        "id": "PgCkHN4ptOwM",
        "outputId": "c81d5b2d-9a19-4453-d718-7490641cc7ef"
      },
      "source": [
        "from sklearn.ensemble import RandomForestClassifier \n",
        "forest = RandomForestClassifier(n_estimators = 50, oob_score = True)\n",
        "forest.fit(train_data, train_labels)\n",
        "print('Score: ', forest.score(train_data, train_labels))\n",
        "print('oob_score_', forest.oob_score_)"
      ],
      "execution_count": 876,
      "outputs": [
        {
          "output_type": "stream",
          "name": "stdout",
          "text": [
            "Score:  1.0\n",
            "oob_score_ 0.9285714285714286\n"
          ]
        }
      ]
    },
    {
      "cell_type": "code",
      "metadata": {
        "colab": {
          "base_uri": "https://localhost:8080/",
          "height": 443
        },
        "id": "FlYrzDZxreSL",
        "outputId": "21d8f478-1f49-484c-84cb-699d8bd9bd95"
      },
      "source": [
        "plot_forest(my_forest_50, train_data, test_data)"
      ],
      "execution_count": 877,
      "outputs": [
        {
          "output_type": "display_data",
          "data": {
            "image/png": "[encoded data removed]",
            "text/plain": [
              "<Figure size 1152x504 with 2 Axes>"
            ]
          },
          "metadata": {
            "needs_background": "light"
          }
        }
      ]
    },
    {
      "cell_type": "markdown",
      "metadata": {
        "id": "bngN3HFiHnq-"
      },
      "source": [
        "**Лес из 10 деревьев**"
      ]
    },
    {
      "cell_type": "code",
      "metadata": {
        "id": "KvBIIZaQsNsB"
      },
      "source": [
        "n_trees = 10\n",
        "my_forest_10 = random_forest(train_data, train_labels, n_trees)"
      ],
      "execution_count": 878,
      "outputs": []
    },
    {
      "cell_type": "code",
      "metadata": {
        "id": "NtGE1iE_sXGK"
      },
      "source": [
        "# Получим ответы для обучающей выборки \n",
        "train_answers = tree_vote(my_forest_10, train_data)\n",
        "\n",
        "# И получим ответы для тестовой выборки\n",
        "test_answers = tree_vote(my_forest_10, test_data)"
      ],
      "execution_count": 879,
      "outputs": []
    },
    {
      "cell_type": "code",
      "metadata": {
        "colab": {
          "base_uri": "https://localhost:8080/"
        },
        "id": "WS6IDR5MscyQ",
        "outputId": "a96cddf9-fd1c-4598-d327-d04f9abb754c"
      },
      "source": [
        "# Точность на обучающей выборке\n",
        "train_accuracy = accuracy_metric(train_labels, train_answers)\n",
        "print(f'Точность случайного леса из {n_trees} деревьев на обучающей выборке: {train_accuracy:.3f}')"
      ],
      "execution_count": 880,
      "outputs": [
        {
          "output_type": "stream",
          "name": "stdout",
          "text": [
            "Точность случайного леса из 10 деревьев на обучающей выборке: 98.571\n"
          ]
        }
      ]
    },
    {
      "cell_type": "code",
      "metadata": {
        "colab": {
          "base_uri": "https://localhost:8080/"
        },
        "id": "QrTfeX7ssjEx",
        "outputId": "0ce758d3-4484-45fe-b8f0-aa6701af0bad"
      },
      "source": [
        "# Точность на тестовой выборке\n",
        "test_accuracy = accuracy_metric(test_labels, test_answers)\n",
        "print(f'Точность случайного леса из {n_trees} деревьев на тестовой выборке: {test_accuracy:.3f}')"
      ],
      "execution_count": 881,
      "outputs": [
        {
          "output_type": "stream",
          "name": "stdout",
          "text": [
            "Точность случайного леса из 10 деревьев на тестовой выборке: 83.333\n"
          ]
        }
      ]
    },
    {
      "cell_type": "code",
      "metadata": {
        "colab": {
          "base_uri": "https://localhost:8080/"
        },
        "id": "rXsdWMr1tS-Y",
        "outputId": "09d8eb22-8d82-4878-e12a-98b3160432d0"
      },
      "source": [
        "from sklearn.ensemble import RandomForestClassifier \n",
        "forest = RandomForestClassifier(n_estimators = 10, oob_score = True)\n",
        "forest.fit(train_data, train_labels)\n",
        "print('Score: ', forest.score(train_data, train_labels))\n",
        "print('oob_score_', forest.oob_score_)"
      ],
      "execution_count": 882,
      "outputs": [
        {
          "output_type": "stream",
          "name": "stdout",
          "text": [
            "Score:  0.9857142857142858\n",
            "oob_score_ 0.8714285714285714\n"
          ]
        }
      ]
    },
    {
      "cell_type": "code",
      "metadata": {
        "colab": {
          "base_uri": "https://localhost:8080/",
          "height": 443
        },
        "id": "pzKMM229sols",
        "outputId": "01f96cef-ceeb-440b-fd98-a73581393910"
      },
      "source": [
        "plot_forest(my_forest_10, train_data, test_data)"
      ],
      "execution_count": 883,
      "outputs": [
        {
          "output_type": "display_data",
          "data": {
            "image/png": "[encoded data removed]",
            "text/plain": [
              "<Figure size 1152x504 with 2 Axes>"
            ]
          },
          "metadata": {
            "needs_background": "light"
          }
        }
      ]
    },
    {
      "cell_type": "markdown",
      "metadata": {
        "id": "eC-FI9CWzvvI"
      },
      "source": [
        "**Вывод:** Произошло переобучение. Чем больше деревьев в лесу тем сложнее гиперплоскость."
      ]
    },
    {
      "cell_type": "markdown",
      "metadata": {
        "id": "cnInLnGmuwBd"
      },
      "source": [
        "4.(На повторение) Переписать функцию gini из урока про решающие деревья так, чтобы в качестве критерия использовалась энтропия Шэннона. Переименовать функцию в entropy и сравнить результаты построения леса по Шеннону и Gini."
      ]
    },
    {
      "cell_type": "code",
      "metadata": {
        "id": "uBdli3WDabXn"
      },
      "source": [
        "def entropy (labels):\n",
        "    #  подсчет количества объектов разных классов\n",
        "    classes = {}\n",
        "    for label in labels:\n",
        "        if label not in classes:\n",
        "            classes[label] = 0\n",
        "        classes[label] += 1\n",
        "    \n",
        "    #  расчет критерия\n",
        "    impurity = 1\n",
        "    for label in classes:\n",
        "        p = classes[label] / len(labels)\n",
        "        impurity -= p * math.log(p, 2)\n",
        "        \n",
        "    return impurity"
      ],
      "execution_count": 884,
      "outputs": []
    },
    {
      "cell_type": "code",
      "metadata": {
        "id": "NV2yBVx4vHIE"
      },
      "source": [
        "# Расчет качества\n",
        "\n",
        "def quality(left_labels, right_labels, current_entropy):\n",
        "\n",
        "    # доля выбоки, ушедшая в левое поддерево\n",
        "    p = float(left_labels.shape[0]) / (left_labels.shape[0] + right_labels.shape[0])\n",
        "    \n",
        "    return current_entropy - p * entropy(left_labels) - (1 - p) * entropy(right_labels)"
      ],
      "execution_count": 885,
      "outputs": []
    },
    {
      "cell_type": "code",
      "metadata": {
        "id": "AM0d1d8XvpIt"
      },
      "source": [
        "# Разбиение датасета в узле\n",
        "\n",
        "def split(data, labels, index, t):\n",
        "    \n",
        "    left = np.where(data[:, index] <= t)\n",
        "    right = np.where(data[:, index] > t)\n",
        "        \n",
        "    true_data = data[left]\n",
        "    false_data = data[right]\n",
        "    true_labels = labels[left]\n",
        "    false_labels = labels[right]\n",
        "        \n",
        "    return true_data, false_data, true_labels, false_labels"
      ],
      "execution_count": 886,
      "outputs": []
    },
    {
      "cell_type": "code",
      "metadata": {
        "id": "PHR9t_hCwOL3"
      },
      "source": [
        "# Нахождение наилучшего разбиения\n",
        "\n",
        "def find_best_split(data, labels):\n",
        "    \n",
        "    #  обозначим минимальное количество объектов в узле\n",
        "    min_leaf = 1\n",
        "\n",
        "    current_entropy = entropy(labels)\n",
        "\n",
        "    best_quality = 0\n",
        "    best_t = None\n",
        "    best_index = None\n",
        "    \n",
        "    n_features = data.shape[1]\n",
        "    \n",
        "    # выбор индекса из подвыборки длиной sqrt(n_features)\n",
        "    subsample = get_subsample(n_features)\n",
        "    \n",
        "    for index in subsample:\n",
        "        t_values = [row[index] for row in data]\n",
        "        \n",
        "        for t in t_values:\n",
        "            true_data, false_data, true_labels, false_labels = split(data, labels, index, t)\n",
        "            #  пропускаем разбиения, в которых в узле остается менее 5 объектов\n",
        "            if len(true_data) < min_leaf or len(false_data) < min_leaf:\n",
        "                continue\n",
        "            \n",
        "            current_quality = quality(true_labels, false_labels, current_entropy)\n",
        "            \n",
        "            #  выбираем порог, на котором получается максимальный прирост качества\n",
        "            if current_quality > best_quality:\n",
        "                best_quality, best_t, best_index = current_quality, t, index\n",
        "\n",
        "    return best_quality, best_t, best_index"
      ],
      "execution_count": 887,
      "outputs": []
    },
    {
      "cell_type": "code",
      "metadata": {
        "id": "tsp6EPymwOL3"
      },
      "source": [
        "# Построение дерева с помощью рекурсивной функции\n",
        "\n",
        "def build_tree(data, labels):\n",
        "\n",
        "    quality, t, index = find_best_split(data, labels)\n",
        "\n",
        "    #  Базовый случай - прекращаем рекурсию, когда нет прироста в качества\n",
        "    if quality == 0:\n",
        "        return Leaf(data, labels)\n",
        "\n",
        "    true_data, false_data, true_labels, false_labels = split(data, labels, index, t)\n",
        "\n",
        "    # Рекурсивно строим два поддерева\n",
        "    true_branch = build_tree(true_data, true_labels)\n",
        "    false_branch = build_tree(false_data, false_labels)\n",
        "\n",
        "    # Возвращаем класс узла со всеми поддеревьями, то есть целого дерева\n",
        "    return Node(index, t, true_branch, false_branch)"
      ],
      "execution_count": 888,
      "outputs": []
    },
    {
      "cell_type": "code",
      "metadata": {
        "id": "DbND_7ilwOL4"
      },
      "source": [
        "def random_forest(data, labels, n_trees):\n",
        "    forest = []\n",
        "    bootstrap = get_bootstrap(data, labels, n_trees)\n",
        "    \n",
        "    for b_data, b_labels in bootstrap:\n",
        "        forest.append(build_tree(b_data, b_labels))\n",
        "        \n",
        "    return forest"
      ],
      "execution_count": 889,
      "outputs": []
    },
    {
      "cell_type": "code",
      "metadata": {
        "id": "TGV2obLgwOL4"
      },
      "source": [
        "#Добавим фукцию случайного формирования леса\n",
        "def random_forest(data, labels, n_trees):\n",
        "    forest = []\n",
        "    bootstrap = get_bootstrap(data, labels, n_trees)\n",
        "    \n",
        "    for b_data, b_labels in bootstrap:\n",
        "        forest.append(build_tree(b_data, b_labels))\n",
        "        \n",
        "    return forest"
      ],
      "execution_count": 890,
      "outputs": []
    },
    {
      "cell_type": "code",
      "metadata": {
        "id": "m7x63DTawOL4"
      },
      "source": [
        " #Функция классификации отдельного объекта\n",
        "\n",
        "def classify_object(obj, node):\n",
        "\n",
        "    #  Останавливаем рекурсию, если достигли листа\n",
        "    if isinstance(node, Leaf):\n",
        "        answer = node.prediction\n",
        "        return answer\n",
        "\n",
        "    if obj[node.index] <= node.t:\n",
        "        return classify_object(obj, node.true_branch)\n",
        "    else:\n",
        "        return classify_object(obj, node.false_branch)"
      ],
      "execution_count": 891,
      "outputs": []
    },
    {
      "cell_type": "code",
      "metadata": {
        "id": "Q_W92xNFwOL5"
      },
      "source": [
        "# функция формирования предсказания по выборке на одном дереве\n",
        "\n",
        "def predict(data, tree):\n",
        "    \n",
        "    classes = []\n",
        "    for obj in data:\n",
        "        prediction = classify_object(obj, tree)\n",
        "        classes.append(prediction)\n",
        "    return classes\n"
      ],
      "execution_count": 892,
      "outputs": []
    },
    {
      "cell_type": "code",
      "metadata": {
        "id": "2VP21ebPwOL5"
      },
      "source": [
        "# предсказание голосованием деревьев\n",
        "\n",
        "def tree_vote(forest, data):\n",
        "\n",
        "    # добавим предсказания всех деревьев в список\n",
        "    predictions = []\n",
        "    for tree in forest:\n",
        "        predictions.append(predict(data, tree))\n",
        "    \n",
        "    # сформируем список с предсказаниями для каждого объекта\n",
        "    predictions_per_object = list(zip(*predictions))\n",
        "    \n",
        "    # выберем в качестве итогового предсказания для каждого объекта то,\n",
        "    # за которое проголосовало большинство деревьев\n",
        "    voted_predictions = []\n",
        "    for obj in predictions_per_object:\n",
        "        voted_predictions.append(max(set(obj), key=obj.count))\n",
        "        \n",
        "    return voted_predictions"
      ],
      "execution_count": 893,
      "outputs": []
    },
    {
      "cell_type": "code",
      "metadata": {
        "id": "OdLcLjRpwOL5"
      },
      "source": [
        "def get_meshgrid(data, step=.05, border=1.2):\n",
        "    x_min, x_max = data[:, 0].min() - border, data[:, 0].max() + border\n",
        "    y_min, y_max = data[:, 1].min() - border, data[:, 1].max() + border\n",
        "    return np.meshgrid(np.arange(x_min, x_max, step), np.arange(y_min, y_max, step))\n"
      ],
      "execution_count": 894,
      "outputs": []
    },
    {
      "cell_type": "code",
      "metadata": {
        "id": "AEk3DTtmwOL5"
      },
      "source": [
        "# Визуализируем дерево на графике\n",
        "\n",
        "def plot_forest(forest, train_data, test_data):\n",
        "    \n",
        "    plt.figure(figsize = (16, 7))\n",
        "\n",
        "    # график обучающей выборки\n",
        "    plt.subplot(1,2,1)\n",
        "    xx, yy = get_meshgrid(train_data)\n",
        "    mesh_predictions = np.array(tree_vote(forest, np.c_[xx.ravel(), yy.ravel()])).reshape(xx.shape)\n",
        "    plt.pcolormesh(xx, yy, mesh_predictions, cmap = light_colors)\n",
        "    plt.scatter(train_data[:, 0], train_data[:, 1], c = train_labels, cmap = colors)\n",
        "    plt.title(f'Train accuracy={train_accuracy:.2f}')\n",
        "\n",
        "    # график тестовой выборки\n",
        "    plt.subplot(1,2,2)\n",
        "    plt.pcolormesh(xx, yy, mesh_predictions, cmap = light_colors)\n",
        "    plt.scatter(test_data[:, 0], test_data[:, 1], c = test_labels, cmap = colors)\n",
        "    plt.title(f'Test accuracy={test_accuracy:.2f}')"
      ],
      "execution_count": 895,
      "outputs": []
    },
    {
      "cell_type": "code",
      "metadata": {
        "id": "ThC9GE44wOL6"
      },
      "source": [
        "# Разобьем выборку на обучающую и тестовую\n",
        "\n",
        "from sklearn import model_selection\n",
        "\n",
        "train_data, test_data, train_labels, test_labels = model_selection.train_test_split(classification_data, \n",
        "                                                                                     classification_labels, \n",
        "                                                                                     test_size = 0.3,\n",
        "                                                                                     random_state = 1)"
      ],
      "execution_count": 896,
      "outputs": []
    },
    {
      "cell_type": "code",
      "metadata": {
        "id": "MmPqIPzgwOL6"
      },
      "source": [
        "# Введем функцию подсчета точности как доли правильных ответов\n",
        "\n",
        "def accuracy_metric(actual, predicted):\n",
        "    correct = 0\n",
        "    for i in range(len(actual)):\n",
        "        if actual[i] == predicted[i]:\n",
        "            correct += 1\n",
        "    return correct / float(len(actual)) * 100.0"
      ],
      "execution_count": 897,
      "outputs": []
    },
    {
      "cell_type": "code",
      "metadata": {
        "id": "80i1KxnBwOL6"
      },
      "source": [
        "def classification_error(p):\n",
        "   return 1 - np.max([p, 1 - p])"
      ],
      "execution_count": 898,
      "outputs": []
    },
    {
      "cell_type": "code",
      "metadata": {
        "id": "muuPimptwOL6"
      },
      "source": [
        "c_err = [classification_error(i) for i in train_data]\n"
      ],
      "execution_count": 899,
      "outputs": []
    },
    {
      "cell_type": "markdown",
      "metadata": {
        "id": "CHfWqDl9wOL6"
      },
      "source": [
        "**Лес из одного дерева**"
      ]
    },
    {
      "cell_type": "code",
      "metadata": {
        "id": "6bzZuGc0wOL6"
      },
      "source": [
        "n_trees_e = 1\n",
        "my_forest_1 = random_forest(train_data, train_labels, n_trees_e)"
      ],
      "execution_count": 900,
      "outputs": []
    },
    {
      "cell_type": "code",
      "metadata": {
        "id": "Ss26RPo3wOL7"
      },
      "source": [
        "# Получим ответы для обучающей выборки \n",
        "train_answers = tree_vote(my_forest_1, train_data)\n",
        "\n",
        "# И получим ответы для тестовой выборки\n",
        "test_answers = tree_vote(my_forest_1, test_data)"
      ],
      "execution_count": 901,
      "outputs": []
    },
    {
      "cell_type": "code",
      "metadata": {
        "colab": {
          "base_uri": "https://localhost:8080/"
        },
        "id": "5DNuPpFYwOL7",
        "outputId": "307df5bf-b0b4-40a9-90c2-1e57029e0385"
      },
      "source": [
        "# Точность на обучающей выборке\n",
        "train_accuracy = accuracy_metric(train_labels, train_answers)\n",
        "print(f'Точность случайного леса из {n_trees_e} деревьев на обучающей выборке: {train_accuracy:.3f}')"
      ],
      "execution_count": 902,
      "outputs": [
        {
          "output_type": "stream",
          "name": "stdout",
          "text": [
            "Точность случайного леса из 1 деревьев на обучающей выборке: 95.714\n"
          ]
        }
      ]
    },
    {
      "cell_type": "code",
      "metadata": {
        "colab": {
          "base_uri": "https://localhost:8080/"
        },
        "id": "GGY_H1qZwOL7",
        "outputId": "2fd4b82a-b044-4d20-9a19-6e107742fbd7"
      },
      "source": [
        "# Точность на тестовой выборке\n",
        "test_accuracy = accuracy_metric(test_labels, test_answers)\n",
        "print(f'Точность случайного леса из {n_trees_e} деревьев на тестовой выборке: {test_accuracy:.3f}')"
      ],
      "execution_count": 903,
      "outputs": [
        {
          "output_type": "stream",
          "name": "stdout",
          "text": [
            "Точность случайного леса из 1 деревьев на тестовой выборке: 86.667\n"
          ]
        }
      ]
    },
    {
      "cell_type": "code",
      "metadata": {
        "colab": {
          "base_uri": "https://localhost:8080/"
        },
        "id": "n-CoEPzOwOL7",
        "outputId": "4796905f-cd3e-4382-b53f-23fa84b17334"
      },
      "source": [
        "from sklearn.ensemble import RandomForestClassifier \n",
        "forest = RandomForestClassifier(n_estimators = 1, oob_score = True)\n",
        "forest.fit(train_data, train_labels)\n",
        "print('Score: ', forest.score(train_data, train_labels))\n",
        "print(forest.oob_score_)"
      ],
      "execution_count": 904,
      "outputs": [
        {
          "output_type": "stream",
          "name": "stdout",
          "text": [
            "Score:  0.9428571428571428\n",
            "0.5571428571428572\n"
          ]
        }
      ]
    },
    {
      "cell_type": "code",
      "metadata": {
        "colab": {
          "base_uri": "https://localhost:8080/",
          "height": 443
        },
        "id": "4eKcmlIuwOL7",
        "outputId": "aaecca05-c7ef-403b-ee92-15775d526fbf"
      },
      "source": [
        "plot_forest(my_forest_1, train_data, test_data)"
      ],
      "execution_count": 905,
      "outputs": [
        {
          "output_type": "display_data",
          "data": {
            "image/png": "[encoded data removed]",
            "text/plain": [
              "<Figure size 1152x504 with 2 Axes>"
            ]
          },
          "metadata": {
            "needs_background": "light"
          }
        }
      ]
    },
    {
      "cell_type": "markdown",
      "metadata": {
        "id": "BRn0gwTcwOL7"
      },
      "source": [
        "**Лес из 3-х деревьев**"
      ]
    },
    {
      "cell_type": "code",
      "metadata": {
        "id": "5N_TTS_jwOL7"
      },
      "source": [
        "n_trees_e = 3\n",
        "my_forest_3 = random_forest(train_data, train_labels, n_trees_e)"
      ],
      "execution_count": 906,
      "outputs": []
    },
    {
      "cell_type": "code",
      "metadata": {
        "id": "nBgFOHWUwOL7"
      },
      "source": [
        "# Получим ответы для обучающей выборки \n",
        "train_answers = tree_vote(my_forest_3, train_data)\n",
        "\n",
        "# И получим ответы для тестовой выборки\n",
        "test_answers = tree_vote(my_forest_3, test_data)"
      ],
      "execution_count": 907,
      "outputs": []
    },
    {
      "cell_type": "code",
      "metadata": {
        "colab": {
          "base_uri": "https://localhost:8080/"
        },
        "id": "lFXNu56BwOL7",
        "outputId": "53bbf421-30e6-4b5b-ffa2-1642cd4f5fd9"
      },
      "source": [
        "# Точность на обучающей выборке\n",
        "train_accuracy = accuracy_metric(train_labels, train_answers)\n",
        "print(f'Точность случайного леса из {n_trees_e} деревьев на обучающей выборке: {train_accuracy:.3f}')"
      ],
      "execution_count": 908,
      "outputs": [
        {
          "output_type": "stream",
          "name": "stdout",
          "text": [
            "Точность случайного леса из 3 деревьев на обучающей выборке: 98.571\n"
          ]
        }
      ]
    },
    {
      "cell_type": "code",
      "metadata": {
        "colab": {
          "base_uri": "https://localhost:8080/"
        },
        "id": "HidWOpxOwOL8",
        "outputId": "61b3c5cd-feac-41e0-8e72-dcd3fb2f0e8a"
      },
      "source": [
        "# Точность на тестовой выборке\n",
        "test_accuracy = accuracy_metric(test_labels, test_answers)\n",
        "print(f'Точность случайного леса из {n_trees_e} деревьев на тестовой выборке: {test_accuracy:.3f}')"
      ],
      "execution_count": 909,
      "outputs": [
        {
          "output_type": "stream",
          "name": "stdout",
          "text": [
            "Точность случайного леса из 3 деревьев на тестовой выборке: 86.667\n"
          ]
        }
      ]
    },
    {
      "cell_type": "code",
      "metadata": {
        "colab": {
          "base_uri": "https://localhost:8080/"
        },
        "id": "LHPkG4fMwOL8",
        "outputId": "ff1d064f-6a95-40ff-8599-d3f91b4df685"
      },
      "source": [
        "from sklearn.ensemble import RandomForestClassifier \n",
        "forest = RandomForestClassifier(n_estimators = 3, oob_score = True)\n",
        "forest.fit(train_data, train_labels)\n",
        "print('Score: ', forest.score(train_data, train_labels))\n",
        "print('oob_score_', forest.oob_score_)"
      ],
      "execution_count": 910,
      "outputs": [
        {
          "output_type": "stream",
          "name": "stdout",
          "text": [
            "Score:  1.0\n",
            "oob_score_ 0.8142857142857143\n"
          ]
        }
      ]
    },
    {
      "cell_type": "code",
      "metadata": {
        "colab": {
          "base_uri": "https://localhost:8080/",
          "height": 443
        },
        "id": "ts_-cQE4wOL8",
        "outputId": "c8cebde3-dd64-4779-d5da-6e76954eb825"
      },
      "source": [
        "plot_forest(my_forest_3, train_data, test_data)"
      ],
      "execution_count": 911,
      "outputs": [
        {
          "output_type": "display_data",
          "data": {
            "image/png": "[encoded data removed]",
            "text/plain": [
              "<Figure size 1152x504 with 2 Axes>"
            ]
          },
          "metadata": {
            "needs_background": "light"
          }
        }
      ]
    },
    {
      "cell_type": "markdown",
      "metadata": {
        "id": "yGgaYFpYwOL8"
      },
      "source": [
        "**Лес из 50 деревьев**"
      ]
    },
    {
      "cell_type": "code",
      "metadata": {
        "id": "va58ZJRMwOL8"
      },
      "source": [
        "n_trees_e= 50\n",
        "my_forest_50 = random_forest(train_data, train_labels, n_trees_e)"
      ],
      "execution_count": 912,
      "outputs": []
    },
    {
      "cell_type": "code",
      "metadata": {
        "id": "SNE98Bg5wOL8"
      },
      "source": [
        "# Получим ответы для обучающей выборки \n",
        "train_answers = tree_vote(my_forest_50, train_data)\n",
        "\n",
        "# И получим ответы для тестовой выборки\n",
        "test_answers = tree_vote(my_forest_50, test_data)"
      ],
      "execution_count": 913,
      "outputs": []
    },
    {
      "cell_type": "code",
      "metadata": {
        "colab": {
          "base_uri": "https://localhost:8080/"
        },
        "id": "Qhg1gQ2EwOL8",
        "outputId": "83693349-69cb-404f-c2b9-aef28e669656"
      },
      "source": [
        "# Точность на обучающей выборке\n",
        "train_accuracy = accuracy_metric(train_labels, train_answers)\n",
        "print(f'Точность случайного леса из {n_trees_e} деревьев на обучающей выборке: {train_accuracy:.3f}')"
      ],
      "execution_count": 914,
      "outputs": [
        {
          "output_type": "stream",
          "name": "stdout",
          "text": [
            "Точность случайного леса из 50 деревьев на обучающей выборке: 100.000\n"
          ]
        }
      ]
    },
    {
      "cell_type": "code",
      "metadata": {
        "colab": {
          "base_uri": "https://localhost:8080/"
        },
        "id": "Ab50U3rowOL8",
        "outputId": "3a71ffe1-f6c3-420b-a6a3-5b227de173ca"
      },
      "source": [
        "# Точность на тестовой выборке\n",
        "test_accuracy = accuracy_metric(test_labels, test_answers)\n",
        "print(f'Точность случайного леса из {n_trees_e} деревьев на тестовой выборке: {test_accuracy:.3f}')"
      ],
      "execution_count": 915,
      "outputs": [
        {
          "output_type": "stream",
          "name": "stdout",
          "text": [
            "Точность случайного леса из 50 деревьев на тестовой выборке: 86.667\n"
          ]
        }
      ]
    },
    {
      "cell_type": "code",
      "metadata": {
        "colab": {
          "base_uri": "https://localhost:8080/"
        },
        "id": "dRRAjyJTwOL8",
        "outputId": "210369d0-d12c-424c-fe37-ccd4f9caa01b"
      },
      "source": [
        "from sklearn.ensemble import RandomForestClassifier \n",
        "forest = RandomForestClassifier(n_estimators = 50, oob_score = True)\n",
        "forest.fit(train_data, train_labels)\n",
        "print('Score: ', forest.score(train_data, train_labels))\n",
        "print('oob_score_', forest.oob_score_)"
      ],
      "execution_count": 916,
      "outputs": [
        {
          "output_type": "stream",
          "name": "stdout",
          "text": [
            "Score:  1.0\n",
            "oob_score_ 0.9285714285714286\n"
          ]
        }
      ]
    },
    {
      "cell_type": "code",
      "metadata": {
        "colab": {
          "base_uri": "https://localhost:8080/",
          "height": 443
        },
        "id": "8L-m2bCcwOL8",
        "outputId": "10739eaf-bfe7-4a72-c081-0dca2704311d"
      },
      "source": [
        "plot_forest(my_forest_50, train_data, test_data)"
      ],
      "execution_count": 917,
      "outputs": [
        {
          "output_type": "display_data",
          "data": {
            "image/png": "[encoded data removed]",
            "text/plain": [
              "<Figure size 1152x504 with 2 Axes>"
            ]
          },
          "metadata": {
            "needs_background": "light"
          }
        }
      ]
    },
    {
      "cell_type": "markdown",
      "metadata": {
        "id": "XLV7B9YKwOL8"
      },
      "source": [
        "**Лес из 10 деревьев**"
      ]
    },
    {
      "cell_type": "code",
      "metadata": {
        "id": "SUdhYbrgwOL9"
      },
      "source": [
        "n_trees_e = 10\n",
        "my_forest_10 = random_forest(train_data, train_labels, n_trees)"
      ],
      "execution_count": 918,
      "outputs": []
    },
    {
      "cell_type": "code",
      "metadata": {
        "id": "ZZX00yJTwOL9"
      },
      "source": [
        "# Получим ответы для обучающей выборки \n",
        "train_answers = tree_vote(my_forest_10, train_data)\n",
        "\n",
        "# И получим ответы для тестовой выборки\n",
        "test_answers = tree_vote(my_forest_10, test_data)"
      ],
      "execution_count": 919,
      "outputs": []
    },
    {
      "cell_type": "code",
      "metadata": {
        "colab": {
          "base_uri": "https://localhost:8080/"
        },
        "id": "QksqiRpawOL9",
        "outputId": "1d5a0018-0a1a-4beb-f797-d8d439c5fa40"
      },
      "source": [
        "# Точность на обучающей выборке\n",
        "train_accuracy = accuracy_metric(train_labels, train_answers)\n",
        "print(f'Точность случайного леса из {n_trees_e} деревьев на обучающей выборке: {train_accuracy:.3f}')"
      ],
      "execution_count": 920,
      "outputs": [
        {
          "output_type": "stream",
          "name": "stdout",
          "text": [
            "Точность случайного леса из 10 деревьев на обучающей выборке: 98.571\n"
          ]
        }
      ]
    },
    {
      "cell_type": "code",
      "metadata": {
        "colab": {
          "base_uri": "https://localhost:8080/"
        },
        "id": "wLhP3t99wOL9",
        "outputId": "87f14753-7e7a-4d34-b568-51114f3ca9cf"
      },
      "source": [
        "# Точность на тестовой выборке\n",
        "test_accuracy = accuracy_metric(test_labels, test_answers)\n",
        "print(f'Точность случайного леса из {n_trees_e} деревьев на тестовой выборке: {test_accuracy:.3f}')"
      ],
      "execution_count": 921,
      "outputs": [
        {
          "output_type": "stream",
          "name": "stdout",
          "text": [
            "Точность случайного леса из 10 деревьев на тестовой выборке: 83.333\n"
          ]
        }
      ]
    },
    {
      "cell_type": "code",
      "metadata": {
        "colab": {
          "base_uri": "https://localhost:8080/"
        },
        "id": "8nuNI7wlwOL9",
        "outputId": "be495525-1eb7-4f65-8a9a-c93a57e53b2f"
      },
      "source": [
        "from sklearn.ensemble import RandomForestClassifier \n",
        "forest = RandomForestClassifier(n_estimators = 10, oob_score = True)\n",
        "forest.fit(train_data, train_labels)\n",
        "print('Score: ', forest.score(train_data, train_labels))\n",
        "print('oob_score_', forest.oob_score_)"
      ],
      "execution_count": 922,
      "outputs": [
        {
          "output_type": "stream",
          "name": "stdout",
          "text": [
            "Score:  1.0\n",
            "oob_score_ 0.9285714285714286\n"
          ]
        }
      ]
    },
    {
      "cell_type": "code",
      "metadata": {
        "colab": {
          "base_uri": "https://localhost:8080/",
          "height": 443
        },
        "id": "Al_wkjr2wOL9",
        "outputId": "1e0760c0-5d89-4b38-950c-9e8f0c11d552"
      },
      "source": [
        "plot_forest(my_forest_10, train_data, test_data)"
      ],
      "execution_count": 923,
      "outputs": [
        {
          "output_type": "display_data",
          "data": {
            "image/png": "[encoded data removed]",
            "text/plain": [
              "<Figure size 1152x504 with 2 Axes>"
            ]
          },
          "metadata": {
            "needs_background": "light"
          }
        }
      ]
    },
    {
      "cell_type": "code",
      "metadata": {
        "colab": {
          "base_uri": "https://localhost:8080/",
          "height": 1000
        },
        "id": "en9f1Er2ugQV",
        "outputId": "f82eddb6-70df-4f78-80ed-fe7d6cb1adf8"
      },
      "source": [
        "trx = [i for i in range(1, 41)]\n",
        "tra = []\n",
        "tea = []\n",
        "for n_trees in trx:\n",
        "    my_forest = random_forest(train_data, train_labels, n_trees)\n",
        "    train_answers = tree_vote(my_forest, train_data)\n",
        "    test_answers = tree_vote(my_forest, test_data)\n",
        "    train_accuracy = accuracy_metric(train_labels, train_answers)\n",
        "    print(f'Точность RFR из {n_trees} деревьев на трейне: {train_accuracy:.3f}')\n",
        "    test_accuracy = accuracy_metric(test_labels, test_answers)\n",
        "    print(f'Точность RFR из {n_trees} деревьев на тестe: {test_accuracy:.3f}')\n",
        "    tra.append(train_accuracy)\n",
        "    tea.append(test_accuracy)\n",
        "    \n",
        "plt.plot(trx, tra) \n",
        "plt.plot(trx, tea) \n",
        "\n",
        "\n",
        "trx = [i for i in range(1, 41)]\n",
        "tra = []\n",
        "tea = []\n",
        "for n_trees in trx:\n",
        "    my_forest = random_forest(train_data, train_labels, n_trees_e)\n",
        "    train_answers = tree_vote(my_forest, train_data)\n",
        "    test_answers = tree_vote(my_forest, test_data)\n",
        "    train_accuracy = accuracy_metric(train_labels, train_answers)\n",
        "    print(f'Точность RFR из {n_trees_e} деревьев на трейне: {train_accuracy:.3f}')\n",
        "    test_accuracy = accuracy_metric(test_labels, test_answers)\n",
        "    print(f'Точность RFR из {n_trees} деревьев на тестe: {test_accuracy:.3f}')\n",
        "    tra.append(train_accuracy)\n",
        "    tea.append(test_accuracy)\n",
        "    \n",
        "plt.plot(trx, tra) \n",
        "plt.plot(trx, tea) "
      ],
      "execution_count": 924,
      "outputs": [
        {
          "output_type": "stream",
          "name": "stdout",
          "text": [
            "Точность RFR из 1 деревьев на трейне: 97.143\n",
            "Точность RFR из 1 деревьев на тестe: 83.333\n",
            "Точность RFR из 2 деревьев на трейне: 95.714\n",
            "Точность RFR из 2 деревьев на тестe: 86.667\n",
            "Точность RFR из 3 деревьев на трейне: 98.571\n",
            "Точность RFR из 3 деревьев на тестe: 90.000\n",
            "Точность RFR из 4 деревьев на трейне: 95.714\n",
            "Точность RFR из 4 деревьев на тестe: 83.333\n",
            "Точность RFR из 5 деревьев на трейне: 100.000\n",
            "Точность RFR из 5 деревьев на тестe: 86.667\n",
            "Точность RFR из 6 деревьев на трейне: 97.143\n",
            "Точность RFR из 6 деревьев на тестe: 86.667\n",
            "Точность RFR из 7 деревьев на трейне: 100.000\n",
            "Точность RFR из 7 деревьев на тестe: 86.667\n",
            "Точность RFR из 8 деревьев на трейне: 98.571\n",
            "Точность RFR из 8 деревьев на тестe: 86.667\n",
            "Точность RFR из 9 деревьев на трейне: 100.000\n",
            "Точность RFR из 9 деревьев на тестe: 83.333\n",
            "Точность RFR из 10 деревьев на трейне: 98.571\n",
            "Точность RFR из 10 деревьев на тестe: 86.667\n",
            "Точность RFR из 11 деревьев на трейне: 98.571\n",
            "Точность RFR из 11 деревьев на тестe: 86.667\n",
            "Точность RFR из 12 деревьев на трейне: 98.571\n",
            "Точность RFR из 12 деревьев на тестe: 86.667\n",
            "Точность RFR из 13 деревьев на трейне: 100.000\n",
            "Точность RFR из 13 деревьев на тестe: 86.667\n",
            "Точность RFR из 14 деревьев на трейне: 100.000\n",
            "Точность RFR из 14 деревьев на тестe: 86.667\n",
            "Точность RFR из 15 деревьев на трейне: 100.000\n",
            "Точность RFR из 15 деревьев на тестe: 83.333\n",
            "Точность RFR из 16 деревьев на трейне: 100.000\n",
            "Точность RFR из 16 деревьев на тестe: 83.333\n",
            "Точность RFR из 17 деревьев на трейне: 100.000\n",
            "Точность RFR из 17 деревьев на тестe: 83.333\n",
            "Точность RFR из 18 деревьев на трейне: 100.000\n",
            "Точность RFR из 18 деревьев на тестe: 83.333\n",
            "Точность RFR из 19 деревьев на трейне: 100.000\n",
            "Точность RFR из 19 деревьев на тестe: 86.667\n",
            "Точность RFR из 20 деревьев на трейне: 100.000\n",
            "Точность RFR из 20 деревьев на тестe: 83.333\n",
            "Точность RFR из 21 деревьев на трейне: 100.000\n",
            "Точность RFR из 21 деревьев на тестe: 83.333\n",
            "Точность RFR из 22 деревьев на трейне: 100.000\n",
            "Точность RFR из 22 деревьев на тестe: 83.333\n",
            "Точность RFR из 23 деревьев на трейне: 100.000\n",
            "Точность RFR из 23 деревьев на тестe: 86.667\n",
            "Точность RFR из 24 деревьев на трейне: 100.000\n",
            "Точность RFR из 24 деревьев на тестe: 86.667\n",
            "Точность RFR из 25 деревьев на трейне: 100.000\n",
            "Точность RFR из 25 деревьев на тестe: 86.667\n",
            "Точность RFR из 26 деревьев на трейне: 98.571\n",
            "Точность RFR из 26 деревьев на тестe: 83.333\n",
            "Точность RFR из 27 деревьев на трейне: 100.000\n",
            "Точность RFR из 27 деревьев на тестe: 86.667\n",
            "Точность RFR из 28 деревьев на трейне: 100.000\n",
            "Точность RFR из 28 деревьев на тестe: 86.667\n",
            "Точность RFR из 29 деревьев на трейне: 100.000\n",
            "Точность RFR из 29 деревьев на тестe: 86.667\n",
            "Точность RFR из 30 деревьев на трейне: 100.000\n",
            "Точность RFR из 30 деревьев на тестe: 83.333\n",
            "Точность RFR из 31 деревьев на трейне: 100.000\n",
            "Точность RFR из 31 деревьев на тестe: 86.667\n",
            "Точность RFR из 32 деревьев на трейне: 100.000\n",
            "Точность RFR из 32 деревьев на тестe: 86.667\n",
            "Точность RFR из 33 деревьев на трейне: 98.571\n",
            "Точность RFR из 33 деревьев на тестe: 86.667\n",
            "Точность RFR из 34 деревьев на трейне: 100.000\n",
            "Точность RFR из 34 деревьев на тестe: 90.000\n",
            "Точность RFR из 35 деревьев на трейне: 100.000\n",
            "Точность RFR из 35 деревьев на тестe: 86.667\n",
            "Точность RFR из 36 деревьев на трейне: 100.000\n",
            "Точность RFR из 36 деревьев на тестe: 86.667\n",
            "Точность RFR из 37 деревьев на трейне: 100.000\n",
            "Точность RFR из 37 деревьев на тестe: 86.667\n",
            "Точность RFR из 38 деревьев на трейне: 100.000\n",
            "Точность RFR из 38 деревьев на тестe: 86.667\n",
            "Точность RFR из 39 деревьев на трейне: 100.000\n",
            "Точность RFR из 39 деревьев на тестe: 86.667\n",
            "Точность RFR из 40 деревьев на трейне: 100.000\n",
            "Точность RFR из 40 деревьев на тестe: 86.667\n",
            "Точность RFR из 10 деревьев на трейне: 100.000\n",
            "Точность RFR из 1 деревьев на тестe: 86.667\n",
            "Точность RFR из 10 деревьев на трейне: 100.000\n",
            "Точность RFR из 2 деревьев на тестe: 90.000\n",
            "Точность RFR из 10 деревьев на трейне: 100.000\n",
            "Точность RFR из 3 деревьев на тестe: 83.333\n",
            "Точность RFR из 10 деревьев на трейне: 100.000\n",
            "Точность RFR из 4 деревьев на тестe: 86.667\n",
            "Точность RFR из 10 деревьев на трейне: 97.143\n",
            "Точность RFR из 5 деревьев на тестe: 86.667\n",
            "Точность RFR из 10 деревьев на трейне: 98.571\n",
            "Точность RFR из 6 деревьев на тестe: 86.667\n",
            "Точность RFR из 10 деревьев на трейне: 98.571\n",
            "Точность RFR из 7 деревьев на тестe: 86.667\n",
            "Точность RFR из 10 деревьев на трейне: 97.143\n",
            "Точность RFR из 8 деревьев на тестe: 83.333\n",
            "Точность RFR из 10 деревьев на трейне: 100.000\n",
            "Точность RFR из 9 деревьев на тестe: 90.000\n",
            "Точность RFR из 10 деревьев на трейне: 98.571\n",
            "Точность RFR из 10 деревьев на тестe: 86.667\n",
            "Точность RFR из 10 деревьев на трейне: 98.571\n",
            "Точность RFR из 11 деревьев на тестe: 86.667\n",
            "Точность RFR из 10 деревьев на трейне: 97.143\n",
            "Точность RFR из 12 деревьев на тестe: 86.667\n",
            "Точность RFR из 10 деревьев на трейне: 100.000\n",
            "Точность RFR из 13 деревьев на тестe: 80.000\n",
            "Точность RFR из 10 деревьев на трейне: 100.000\n",
            "Точность RFR из 14 деревьев на тестe: 80.000\n",
            "Точность RFR из 10 деревьев на трейне: 98.571\n",
            "Точность RFR из 15 деревьев на тестe: 86.667\n",
            "Точность RFR из 10 деревьев на трейне: 98.571\n",
            "Точность RFR из 16 деревьев на тестe: 86.667\n",
            "Точность RFR из 10 деревьев на трейне: 100.000\n",
            "Точность RFR из 17 деревьев на тестe: 86.667\n",
            "Точность RFR из 10 деревьев на трейне: 98.571\n",
            "Точность RFR из 18 деревьев на тестe: 86.667\n",
            "Точность RFR из 10 деревьев на трейне: 98.571\n",
            "Точность RFR из 19 деревьев на тестe: 83.333\n",
            "Точность RFR из 10 деревьев на трейне: 97.143\n",
            "Точность RFR из 20 деревьев на тестe: 90.000\n",
            "Точность RFR из 10 деревьев на трейне: 98.571\n",
            "Точность RFR из 21 деревьев на тестe: 86.667\n",
            "Точность RFR из 10 деревьев на трейне: 100.000\n",
            "Точность RFR из 22 деревьев на тестe: 86.667\n",
            "Точность RFR из 10 деревьев на трейне: 98.571\n",
            "Точность RFR из 23 деревьев на тестe: 86.667\n",
            "Точность RFR из 10 деревьев на трейне: 97.143\n",
            "Точность RFR из 24 деревьев на тестe: 90.000\n",
            "Точность RFR из 10 деревьев на трейне: 100.000\n",
            "Точность RFR из 25 деревьев на тестe: 80.000\n",
            "Точность RFR из 10 деревьев на трейне: 100.000\n",
            "Точность RFR из 26 деревьев на тестe: 80.000\n",
            "Точность RFR из 10 деревьев на трейне: 100.000\n",
            "Точность RFR из 27 деревьев на тестe: 83.333\n",
            "Точность RFR из 10 деревьев на трейне: 100.000\n",
            "Точность RFR из 28 деревьев на тестe: 90.000\n",
            "Точность RFR из 10 деревьев на трейне: 98.571\n",
            "Точность RFR из 29 деревьев на тестe: 83.333\n",
            "Точность RFR из 10 деревьев на трейне: 98.571\n",
            "Точность RFR из 30 деревьев на тестe: 80.000\n",
            "Точность RFR из 10 деревьев на трейне: 100.000\n",
            "Точность RFR из 31 деревьев на тестe: 86.667\n",
            "Точность RFR из 10 деревьев на трейне: 98.571\n",
            "Точность RFR из 32 деревьев на тестe: 90.000\n",
            "Точность RFR из 10 деревьев на трейне: 100.000\n",
            "Точность RFR из 33 деревьев на тестe: 86.667\n",
            "Точность RFR из 10 деревьев на трейне: 97.143\n",
            "Точность RFR из 34 деревьев на тестe: 86.667\n",
            "Точность RFR из 10 деревьев на трейне: 98.571\n",
            "Точность RFR из 35 деревьев на тестe: 83.333\n",
            "Точность RFR из 10 деревьев на трейне: 100.000\n",
            "Точность RFR из 36 деревьев на тестe: 80.000\n",
            "Точность RFR из 10 деревьев на трейне: 98.571\n",
            "Точность RFR из 37 деревьев на тестe: 83.333\n",
            "Точность RFR из 10 деревьев на трейне: 98.571\n",
            "Точность RFR из 38 деревьев на тестe: 83.333\n",
            "Точность RFR из 10 деревьев на трейне: 100.000\n",
            "Точность RFR из 39 деревьев на тестe: 80.000\n",
            "Точность RFR из 10 деревьев на трейне: 98.571\n",
            "Точность RFR из 40 деревьев на тестe: 86.667\n"
          ]
        },
        {
          "output_type": "execute_result",
          "data": {
            "text/plain": [
              "[<matplotlib.lines.Line2D at 0x7f3590a0cbd0>]"
            ]
          },
          "metadata": {},
          "execution_count": 924
        },
        {
          "output_type": "display_data",
          "data": {
            "image/png": "[encoded data removed]",
            "text/plain": [
              "<Figure size 432x288 with 1 Axes>"
            ]
          },
          "metadata": {
            "needs_background": "light"
          }
        }
      ]
    },
    {
      "cell_type": "markdown",
      "metadata": {
        "id": "LHE7A8y2utI6"
      },
      "source": [
        "**Вывод:** Расчеты слишком приближаются к данным при увеличении количества деревьев,что приводит к переобучению модели, но и слишком мало деревьев не самый лучший вариант, так как это может привести к недообучению модели. Необходимо найти разумный баланс деревьев чтобы можно было говорить о точности и целосности модели  Случайный лес менее чувствителен к гиперпараметрам.\n",
        "Метод Джини оказался более эффективен, чем энтропия, с точки зрения вычислительной мощности. Джини ювелирнее для выбора лучших характеристик."
      ]
    },
    {
      "cell_type": "code",
      "metadata": {
        "colab": {
          "base_uri": "https://localhost:8080/",
          "height": 333
        },
        "id": "6NwHNj25-mmF",
        "outputId": "6d16600a-fcf9-488e-8dd3-4847e6b623db"
      },
      "source": [
        "plt.rcParams['figure.figsize'] = (6,5)\n",
        "xx = np.linspace(0,1,50)\n",
        "plt.plot(xx, [2 * x * (1-x) for x in xx], label='gini')\n",
        "plt.plot(xx, [-x * np.log2(x) - (1-x) * np.log2(1 - x)  for x in xx], label='entropy')\n",
        "plt.xlabel('p')\n",
        "plt.ylabel('criterion')\n",
        "plt.legend();"
      ],
      "execution_count": 925,
      "outputs": [
        {
          "output_type": "display_data",
          "data": {
            "image/png": "[encoded data removed]",
            "text/plain": [
              "<Figure size 432x360 with 1 Axes>"
            ]
          },
          "metadata": {
            "needs_background": "light"
          }
        }
      ]
    },
    {
      "cell_type": "markdown",
      "metadata": {
        "id": "jxlLyrRsf9YT"
      },
      "source": [
        "На графике энтропии, она сначала увеличивается до 1, а затем начинает уменьшаться, но в случае  Джини она увеличивается только до 0,5, а затем начинает уменьшаться, поэтому требуется меньше вычислительной мощности. Диапазон энтропии составляет от 0 до 1, а диапазон  Джини - от 0 до 0,5. "
      ]
    }
  ]
}