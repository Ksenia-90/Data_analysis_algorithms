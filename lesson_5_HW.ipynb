{
  "nbformat": 4,
  "nbformat_minor": 0,
  "metadata": {
    "colab": {
      "name": "lesson_5_HW.ipynb",
      "provenance": [],
      "collapsed_sections": [],
      "authorship_tag": "ABX9TyOsVZYm5T71rLj1P0ISyWHg",
      "include_colab_link": true
    },
    "kernelspec": {
      "name": "python3",
      "display_name": "Python 3"
    },
    "language_info": {
      "name": "python"
    }
  },
  "cells": [
    {
      "cell_type": "markdown",
      "metadata": {
        "id": "view-in-github",
        "colab_type": "text"
      },
      "source": [
        "<a href=\"https://colab.research.google.com/github/Ksenia-90/Data_analysis_algorithms/blob/main/lesson_5_HW.ipynb\" target=\"_parent\"><img src=\"https://colab.research.google.com/assets/colab-badge.svg\" alt=\"Open In Colab\"/></a>"
      ]
    },
    {
      "cell_type": "markdown",
      "metadata": {
        "id": "O7cIBgOLhkoM"
      },
      "source": [
        "##**Урок 5. Случайный лес**"
      ]
    },
    {
      "cell_type": "markdown",
      "metadata": {
        "id": "3arzwKOvh5nQ"
      },
      "source": [
        "1.Сформировать с помощью sklearn.make_classification датасет из 100 объектов с двумя признаками, обучить случайный лес из 1, 3, 10 и 50 деревьев и визуализировать их разделяющие гиперплоскости на графиках (по подобию визуализации деревьев из предыдущего урока, необходимо только заменить вызов функции predict на tree_vote)."
      ]
    },
    {
      "cell_type": "markdown",
      "metadata": {
        "id": "ZU6aeUDqh_8-"
      },
      "source": [
        "2.Сделать выводы о получаемой сложности гиперплоскости и недообучении или переобучении случайного леса в зависимости от количества деревьев в нем"
      ]
    },
    {
      "cell_type": "markdown",
      "metadata": {
        "id": "yUTtHYT3iDvU"
      },
      "source": [
        "3.Заменить в реализованном алгоритме проверку с помощью отложенной выборки на Out-of-Bag."
      ]
    },
    {
      "cell_type": "markdown",
      "metadata": {
        "id": "_x1rNByXiIFP"
      },
      "source": [
        "4.(На повторение) Переписать функцию gini из урока про решающие деревья так, чтобы в качестве критерия использовалась энтропия Шэннона. Переименовать функцию в entropy и сравнить результаты построения леса по Шеннону и Gini."
      ]
    },
    {
      "cell_type": "code",
      "metadata": {
        "id": "5obFJJi-5VRx"
      },
      "source": [
        "import numpy as np\n",
        "import random\n",
        "from sklearn import datasets\n",
        "import matplotlib.pyplot as plt\n",
        "from matplotlib.colors import ListedColormap\n",
        "from sklearn import datasets\n",
        "import math\n",
        "\n",
        "%matplotlib inline"
      ],
      "execution_count": 482,
      "outputs": []
    },
    {
      "cell_type": "code",
      "metadata": {
        "id": "CCdLJh6K5J9v"
      },
      "source": [
        "# сгенерируем данные, представляющие собой 100 объектов с 2мя признаками\n",
        "classification_data, classification_labels = datasets.make_classification(n_samples=100,\n",
        "                                                      n_features = 2, n_informative = 2, \n",
        "                                                      n_classes = 2, n_redundant=0, \n",
        "                                                      n_clusters_per_class=1, random_state=23)"
      ],
      "execution_count": 483,
      "outputs": []
    },
    {
      "cell_type": "code",
      "metadata": {
        "colab": {
          "base_uri": "https://localhost:8080/",
          "height": 500
        },
        "id": "7-qJLh7Y5NMJ",
        "outputId": "66e729f1-597e-4774-b3ea-4c2a6722b6a6"
      },
      "source": [
        "# визуализируем сгенерированные данные\n",
        "\n",
        "colors = ListedColormap(['red', 'blue'])\n",
        "light_colors = ListedColormap(['lightcoral', 'lightblue'])\n",
        "\n",
        "plt.figure(figsize=(8,8))\n",
        "plt.scatter(list(map(lambda x: x[0], classification_data)), list(map(lambda x: x[1], classification_data)), \n",
        "              c=classification_labels, cmap=colors)"
      ],
      "execution_count": 484,
      "outputs": [
        {
          "output_type": "execute_result",
          "data": {
            "text/plain": [
              "<matplotlib.collections.PathCollection at 0x7fe5bbca3410>"
            ]
          },
          "metadata": {},
          "execution_count": 484
        },
        {
          "output_type": "display_data",
          "data": {
            "image/png": "[encoded data removed]",
            "text/plain": [
              "<Figure size 576x576 with 1 Axes>"
            ]
          },
          "metadata": {
            "needs_background": "light"
          }
        }
      ]
    },
    {
      "cell_type": "code",
      "metadata": {
        "id": "HofjJv_nEvpy"
      },
      "source": [
        "random.seed(42)\n",
        "\n",
        "def get_bootstrap(data, labels, N):\n",
        "    n_samples = data.shape[0]\n",
        "    bootstrap = []\n",
        "    \n",
        "    for i in range(N):\n",
        "        b_data = np.zeros(data.shape)\n",
        "        b_labels = np.zeros(labels.shape)\n",
        "        \n",
        "        for j in range(n_samples):\n",
        "            sample_index = random.randint(0, n_samples-1)\n",
        "            b_data[j] = data[sample_index]\n",
        "            b_labels[j] = labels[sample_index]\n",
        "        bootstrap.append((b_data, b_labels))\n",
        "        \n",
        "    return bootstrap"
      ],
      "execution_count": 485,
      "outputs": []
    },
    {
      "cell_type": "code",
      "metadata": {
        "id": "C8RaQ0dyEyvE"
      },
      "source": [
        "def get_subsample(len_sample):\n",
        "    # будем сохранять не сами признаки, а их индексы\n",
        "    sample_indexes = [i for i in range(len_sample)]\n",
        "    \n",
        "    len_subsample = int(np.sqrt(len_sample))\n",
        "    subsample = []\n",
        "    \n",
        "    random.shuffle(sample_indexes)\n",
        "    for _ in range(len_subsample):\n",
        "        subsample.append(sample_indexes.pop())\n",
        "        \n",
        "    return subsample"
      ],
      "execution_count": 486,
      "outputs": []
    },
    {
      "cell_type": "code",
      "metadata": {
        "id": "Ic-c9uy5E23G"
      },
      "source": [
        "# Реализуем класс узла\n",
        "\n",
        "class Node:\n",
        "    \n",
        "    def __init__(self, index, t, true_branch, false_branch):\n",
        "        self.index = index  # индекс признака, по которому ведется сравнение с порогом в этом узле\n",
        "        self.t = t  # значение порога\n",
        "        self.true_branch = true_branch  # поддерево, удовлетворяющее условию в узле\n",
        "        self.false_branch = false_branch  # поддерево, не удовлетворяющее условию в узле"
      ],
      "execution_count": 487,
      "outputs": []
    },
    {
      "cell_type": "code",
      "metadata": {
        "id": "P5igxv6zE3kp"
      },
      "source": [
        "class Leaf:\n",
        "    \n",
        "    def __init__(self, data, labels):\n",
        "        self.data = data\n",
        "        self.labels = labels\n",
        "        self.prediction = self.predict()\n",
        "        \n",
        "    def predict(self):\n",
        "        # подсчет количества объектов разных классов\n",
        "        classes = {}  # сформируем словарь \"класс: количество объектов\"\n",
        "        for label in self.labels:\n",
        "            if label not in classes:\n",
        "                classes[label] = 0\n",
        "            classes[label] += 1\n",
        "        #  найдем класс, количество объектов которого будет максимальным в этом листе и вернем его    \n",
        "        prediction = max(classes, key=classes.get)\n",
        "        return prediction       "
      ],
      "execution_count": 488,
      "outputs": []
    },
    {
      "cell_type": "code",
      "metadata": {
        "id": "XTdJoVYBE6gB"
      },
      "source": [
        "def gini(labels):\n",
        "    #  подсчет количества объектов разных классов\n",
        "    classes = {}\n",
        "    for label in labels:\n",
        "        if label not in classes:\n",
        "            classes[label] = 0\n",
        "        classes[label] += 1\n",
        "    \n",
        "    #  расчет критерия\n",
        "    impurity = 1\n",
        "    for label in classes:\n",
        "        p = classes[label] / len(labels)\n",
        "        impurity -= p **2\n",
        "        \n",
        "    return impurity"
      ],
      "execution_count": 489,
      "outputs": []
    },
    {
      "cell_type": "code",
      "metadata": {
        "id": "piopeAtYE91n"
      },
      "source": [
        "# Расчет качества\n",
        "\n",
        "def quality(left_labels, right_labels, current_gini):\n",
        "\n",
        "    # доля выбоки, ушедшая в левое поддерево\n",
        "    p = float(left_labels.shape[0]) / (left_labels.shape[0] + right_labels.shape[0])\n",
        "    \n",
        "    return current_gini - p * gini(left_labels) - (1 - p) * gini(right_labels)"
      ],
      "execution_count": 490,
      "outputs": []
    },
    {
      "cell_type": "code",
      "metadata": {
        "id": "-KbuZlBhFAXD"
      },
      "source": [
        "# Разбиение датасета в узле\n",
        "\n",
        "def split(data, labels, index, t):\n",
        "    \n",
        "    left = np.where(data[:, index] <= t)\n",
        "    right = np.where(data[:, index] > t)\n",
        "        \n",
        "    true_data = data[left]\n",
        "    false_data = data[right]\n",
        "    true_labels = labels[left]\n",
        "    false_labels = labels[right]\n",
        "        \n",
        "    return true_data, false_data, true_labels, false_labels"
      ],
      "execution_count": 491,
      "outputs": []
    },
    {
      "cell_type": "code",
      "metadata": {
        "id": "34FlpxWpFD4X"
      },
      "source": [
        "# Нахождение наилучшего разбиения\n",
        "\n",
        "def find_best_split(data, labels):\n",
        "    \n",
        "    #  обозначим минимальное количество объектов в узле\n",
        "    min_leaf = 1\n",
        "\n",
        "    current_gini = gini(labels)\n",
        "\n",
        "    best_quality = 0\n",
        "    best_t = None\n",
        "    best_index = None\n",
        "    \n",
        "    n_features = data.shape[1]\n",
        "    \n",
        "    # выбор индекса из подвыборки длиной sqrt(n_features)\n",
        "    subsample = get_subsample(n_features)\n",
        "    \n",
        "    for index in subsample:\n",
        "        t_values = [row[index] for row in data]\n",
        "        \n",
        "        for t in t_values:\n",
        "            true_data, false_data, true_labels, false_labels = split(data, labels, index, t)\n",
        "            #  пропускаем разбиения, в которых в узле остается менее 5 объектов\n",
        "            if len(true_data) < min_leaf or len(false_data) < min_leaf:\n",
        "                continue\n",
        "            \n",
        "            current_quality = quality(true_labels, false_labels, current_gini)\n",
        "            \n",
        "            #  выбираем порог, на котором получается максимальный прирост качества\n",
        "            if current_quality > best_quality:\n",
        "                best_quality, best_t, best_index = current_quality, t, index\n",
        "\n",
        "    return best_quality, best_t, best_index"
      ],
      "execution_count": 492,
      "outputs": []
    },
    {
      "cell_type": "code",
      "metadata": {
        "id": "KNWxxGyMFMsb"
      },
      "source": [
        "# Построение дерева с помощью рекурсивной функции\n",
        "\n",
        "def build_tree(data, labels):\n",
        "\n",
        "    quality, t, index = find_best_split(data, labels)\n",
        "\n",
        "    #  Базовый случай - прекращаем рекурсию, когда нет прироста в качества\n",
        "    if quality == 0:\n",
        "        return Leaf(data, labels)\n",
        "\n",
        "    true_data, false_data, true_labels, false_labels = split(data, labels, index, t)\n",
        "\n",
        "    # Рекурсивно строим два поддерева\n",
        "    true_branch = build_tree(true_data, true_labels)\n",
        "    false_branch = build_tree(false_data, false_labels)\n",
        "\n",
        "    # Возвращаем класс узла со всеми поддеревьями, то есть целого дерева\n",
        "    return Node(index, t, true_branch, false_branch)"
      ],
      "execution_count": 493,
      "outputs": []
    },
    {
      "cell_type": "code",
      "metadata": {
        "id": "VbicSO3NFoxR"
      },
      "source": [
        "def random_forest(data, labels, n_trees):\n",
        "    forest = []\n",
        "    bootstrap = get_bootstrap(data, labels, n_trees)\n",
        "    \n",
        "    for b_data, b_labels in bootstrap:\n",
        "        forest.append(build_tree(b_data, b_labels))\n",
        "        \n",
        "    return forest"
      ],
      "execution_count": 494,
      "outputs": []
    },
    {
      "cell_type": "code",
      "metadata": {
        "id": "cnoqEi3iFW2V"
      },
      "source": [
        "#Добавим фукцию случайного формирования леса\n",
        "def random_forest(data, labels, n_trees):\n",
        "    forest = []\n",
        "    bootstrap = get_bootstrap(data, labels, n_trees)\n",
        "    \n",
        "    for b_data, b_labels in bootstrap:\n",
        "        forest.append(build_tree(b_data, b_labels))\n",
        "        \n",
        "    return forest"
      ],
      "execution_count": 495,
      "outputs": []
    },
    {
      "cell_type": "code",
      "metadata": {
        "id": "lFa2QChFHKn5"
      },
      "source": [
        " #Функция классификации отдельного объекта\n",
        "\n",
        "def classify_object(obj, node):\n",
        "\n",
        "    #  Останавливаем рекурсию, если достигли листа\n",
        "    if isinstance(node, Leaf):\n",
        "        answer = node.prediction\n",
        "        return answer\n",
        "\n",
        "    if obj[node.index] <= node.t:\n",
        "        return classify_object(obj, node.true_branch)\n",
        "    else:\n",
        "        return classify_object(obj, node.false_branch)"
      ],
      "execution_count": 496,
      "outputs": []
    },
    {
      "cell_type": "code",
      "metadata": {
        "id": "xC1DL2aEFzT6"
      },
      "source": [
        "# функция формирования предсказания по выборке на одном дереве\n",
        "\n",
        "def predict(data, tree):\n",
        "    \n",
        "    classes = []\n",
        "    for obj in data:\n",
        "        prediction = classify_object(obj, tree)\n",
        "        classes.append(prediction)\n",
        "    return classes\n"
      ],
      "execution_count": 497,
      "outputs": []
    },
    {
      "cell_type": "code",
      "metadata": {
        "id": "k6CSVPpeF33I"
      },
      "source": [
        "# предсказание голосованием деревьев\n",
        "\n",
        "def tree_vote(forest, data):\n",
        "\n",
        "    # добавим предсказания всех деревьев в список\n",
        "    predictions = []\n",
        "    for tree in forest:\n",
        "        predictions.append(predict(data, tree))\n",
        "    \n",
        "    # сформируем список с предсказаниями для каждого объекта\n",
        "    predictions_per_object = list(zip(*predictions))\n",
        "    \n",
        "    # выберем в качестве итогового предсказания для каждого объекта то,\n",
        "    # за которое проголосовало большинство деревьев\n",
        "    voted_predictions = []\n",
        "    for obj in predictions_per_object:\n",
        "        voted_predictions.append(max(set(obj), key=obj.count))\n",
        "        \n",
        "    return voted_predictions"
      ],
      "execution_count": 498,
      "outputs": []
    },
    {
      "cell_type": "code",
      "metadata": {
        "id": "8o_4i-iNF-Y-"
      },
      "source": [
        "def get_meshgrid(data, step=.05, border=1.2):\n",
        "    x_min, x_max = data[:, 0].min() - border, data[:, 0].max() + border\n",
        "    y_min, y_max = data[:, 1].min() - border, data[:, 1].max() + border\n",
        "    return np.meshgrid(np.arange(x_min, x_max, step), np.arange(y_min, y_max, step))\n"
      ],
      "execution_count": 499,
      "outputs": []
    },
    {
      "cell_type": "code",
      "metadata": {
        "id": "wea7y5DTGIzr"
      },
      "source": [
        "# Визуализируем дерево на графике\n",
        "\n",
        "def plot_forest(forest, train_data, test_data):\n",
        "    \n",
        "    plt.figure(figsize = (16, 7))\n",
        "\n",
        "    # график обучающей выборки\n",
        "    plt.subplot(1,2,1)\n",
        "    xx, yy = get_meshgrid(train_data)\n",
        "    mesh_predictions = np.array(tree_vote(forest, np.c_[xx.ravel(), yy.ravel()])).reshape(xx.shape)\n",
        "    plt.pcolormesh(xx, yy, mesh_predictions, cmap = light_colors)\n",
        "    plt.scatter(train_data[:, 0], train_data[:, 1], c = train_labels, cmap = colors)\n",
        "    plt.title(f'Train accuracy={train_accuracy:.2f}')\n",
        "\n",
        "    # график тестовой выборки\n",
        "    plt.subplot(1,2,2)\n",
        "    plt.pcolormesh(xx, yy, mesh_predictions, cmap = light_colors)\n",
        "    plt.scatter(test_data[:, 0], test_data[:, 1], c = test_labels, cmap = colors)\n",
        "    plt.title(f'Test accuracy={test_accuracy:.2f}')"
      ],
      "execution_count": 500,
      "outputs": []
    },
    {
      "cell_type": "code",
      "metadata": {
        "id": "iMYhvgFPGOMG"
      },
      "source": [
        "# Разобьем выборку на обучающую и тестовую\n",
        "\n",
        "from sklearn import model_selection\n",
        "\n",
        "train_data, test_data, train_labels, test_labels = model_selection.train_test_split(classification_data, \n",
        "                                                                                     classification_labels, \n",
        "                                                                                     test_size = 0.3,\n",
        "                                                                                     random_state = 1)"
      ],
      "execution_count": 501,
      "outputs": []
    },
    {
      "cell_type": "code",
      "metadata": {
        "id": "YsPEK-heGO8C"
      },
      "source": [
        "# Введем функцию подсчета точности как доли правильных ответов\n",
        "\n",
        "def accuracy_metric(actual, predicted):\n",
        "    correct = 0\n",
        "    for i in range(len(actual)):\n",
        "        if actual[i] == predicted[i]:\n",
        "            correct += 1\n",
        "    return correct / float(len(actual)) * 100.0"
      ],
      "execution_count": 502,
      "outputs": []
    },
    {
      "cell_type": "markdown",
      "metadata": {
        "id": "3p01O5MkGUia"
      },
      "source": [
        "**Лес из одного дерева**"
      ]
    },
    {
      "cell_type": "code",
      "metadata": {
        "id": "xwH69dQZGnBv"
      },
      "source": [
        "n_trees = 1\n",
        "my_forest_1 = random_forest(train_data, train_labels, n_trees)"
      ],
      "execution_count": 503,
      "outputs": []
    },
    {
      "cell_type": "code",
      "metadata": {
        "id": "Wr_jVZo_GrYa"
      },
      "source": [
        "# Получим ответы для обучающей выборки \n",
        "train_answers = tree_vote(my_forest_1, train_data)\n",
        "\n",
        "# И получим ответы для тестовой выборки\n",
        "test_answers = tree_vote(my_forest_1, test_data)"
      ],
      "execution_count": 504,
      "outputs": []
    },
    {
      "cell_type": "code",
      "metadata": {
        "colab": {
          "base_uri": "https://localhost:8080/"
        },
        "id": "sSmtLJCfGwpJ",
        "outputId": "7dfddb23-45f4-400e-bf29-d560577aad06"
      },
      "source": [
        "# Точность на обучающей выборке\n",
        "train_accuracy = accuracy_metric(train_labels, train_answers)\n",
        "print(f'Точность случайного леса из {n_trees} деревьев на обучающей выборке: {train_accuracy:.3f}')"
      ],
      "execution_count": 505,
      "outputs": [
        {
          "output_type": "stream",
          "name": "stdout",
          "text": [
            "Точность случайного леса из 1 деревьев на обучающей выборке: 97.143\n"
          ]
        }
      ]
    },
    {
      "cell_type": "code",
      "metadata": {
        "colab": {
          "base_uri": "https://localhost:8080/"
        },
        "id": "5zczIRpuGy_9",
        "outputId": "e7899911-4b07-4f44-9bd0-b2cd1fda264f"
      },
      "source": [
        "# Точность на тестовой выборке\n",
        "test_accuracy = accuracy_metric(test_labels, test_answers)\n",
        "print(f'Точность случайного леса из {n_trees} деревьев на тестовой выборке: {test_accuracy:.3f}')"
      ],
      "execution_count": 506,
      "outputs": [
        {
          "output_type": "stream",
          "name": "stdout",
          "text": [
            "Точность случайного леса из 1 деревьев на тестовой выборке: 80.000\n"
          ]
        }
      ]
    },
    {
      "cell_type": "code",
      "metadata": {
        "colab": {
          "base_uri": "https://localhost:8080/",
          "height": 444
        },
        "id": "a2YQIpT2G1K1",
        "outputId": "d0cfdb31-e1cc-4047-e543-a655c662e147"
      },
      "source": [
        "plot_forest(my_forest_1, train_data, test_data)"
      ],
      "execution_count": 507,
      "outputs": [
        {
          "output_type": "display_data",
          "data": {
            "image/png": "[encoded data removed]",
            "text/plain": [
              "<Figure size 1152x504 with 2 Axes>"
            ]
          },
          "metadata": {
            "needs_background": "light"
          }
        }
      ]
    },
    {
      "cell_type": "markdown",
      "metadata": {
        "id": "biRt_gr8Hb1K"
      },
      "source": [
        "**Лес из 3-х деревьев**"
      ]
    },
    {
      "cell_type": "code",
      "metadata": {
        "id": "zyk9Jb4bH00D"
      },
      "source": [
        "n_trees = 3\n",
        "my_forest_3 = random_forest(train_data, train_labels, n_trees)"
      ],
      "execution_count": 508,
      "outputs": []
    },
    {
      "cell_type": "code",
      "metadata": {
        "id": "_zbkErB8IA2l"
      },
      "source": [
        "# Получим ответы для обучающей выборки \n",
        "train_answers = tree_vote(my_forest_3, train_data)\n",
        "\n",
        "# И получим ответы для тестовой выборки\n",
        "test_answers = tree_vote(my_forest_3, test_data)"
      ],
      "execution_count": 509,
      "outputs": []
    },
    {
      "cell_type": "code",
      "metadata": {
        "colab": {
          "base_uri": "https://localhost:8080/"
        },
        "id": "AJ5zsNIYIMFP",
        "outputId": "9d24ad3c-8ddb-4bd2-c38d-2804fb5b3d5b"
      },
      "source": [
        "# Точность на обучающей выборке\n",
        "train_accuracy = accuracy_metric(train_labels, train_answers)\n",
        "print(f'Точность случайного леса из {n_trees} деревьев на обучающей выборке: {train_accuracy:.3f}')"
      ],
      "execution_count": 510,
      "outputs": [
        {
          "output_type": "stream",
          "name": "stdout",
          "text": [
            "Точность случайного леса из 3 деревьев на обучающей выборке: 97.143\n"
          ]
        }
      ]
    },
    {
      "cell_type": "code",
      "metadata": {
        "colab": {
          "base_uri": "https://localhost:8080/"
        },
        "id": "whpK9l6PIW24",
        "outputId": "18d9646c-d9e1-4643-feb6-792e1fe21155"
      },
      "source": [
        "# Точность на тестовой выборке\n",
        "test_accuracy = accuracy_metric(test_labels, test_answers)\n",
        "print(f'Точность случайного леса из {n_trees} деревьев на тестовой выборке: {test_accuracy:.3f}')"
      ],
      "execution_count": 511,
      "outputs": [
        {
          "output_type": "stream",
          "name": "stdout",
          "text": [
            "Точность случайного леса из 3 деревьев на тестовой выборке: 80.000\n"
          ]
        }
      ]
    },
    {
      "cell_type": "code",
      "metadata": {
        "colab": {
          "base_uri": "https://localhost:8080/",
          "height": 444
        },
        "id": "AWb57tafIeyy",
        "outputId": "339646b2-7df9-4d7a-b933-9ee056401565"
      },
      "source": [
        "plot_forest(my_forest_3, train_data, test_data)"
      ],
      "execution_count": 512,
      "outputs": [
        {
          "output_type": "display_data",
          "data": {
            "image/png": "[encoded data removed]",
            "text/plain": [
              "<Figure size 1152x504 with 2 Axes>"
            ]
          },
          "metadata": {
            "needs_background": "light"
          }
        }
      ]
    },
    {
      "cell_type": "markdown",
      "metadata": {
        "id": "CgcTgefPHnct"
      },
      "source": [
        "**Лес из 50 деревьев**"
      ]
    },
    {
      "cell_type": "code",
      "metadata": {
        "id": "a66-J0TLrFH5"
      },
      "source": [
        "n_trees = 50\n",
        "my_forest_50 = random_forest(train_data, train_labels, n_trees)"
      ],
      "execution_count": 513,
      "outputs": []
    },
    {
      "cell_type": "code",
      "metadata": {
        "id": "W7Y_RvycrPqt"
      },
      "source": [
        "# Получим ответы для обучающей выборки \n",
        "train_answers = tree_vote(my_forest_50, train_data)\n",
        "\n",
        "# И получим ответы для тестовой выборки\n",
        "test_answers = tree_vote(my_forest_50, test_data)"
      ],
      "execution_count": 514,
      "outputs": []
    },
    {
      "cell_type": "code",
      "metadata": {
        "colab": {
          "base_uri": "https://localhost:8080/"
        },
        "id": "3THjUsdDrU3g",
        "outputId": "cd44cca0-1344-4717-dd77-74bff89b0ebd"
      },
      "source": [
        "# Точность на обучающей выборке\n",
        "train_accuracy = accuracy_metric(train_labels, train_answers)\n",
        "print(f'Точность случайного леса из {n_trees} деревьев на обучающей выборке: {train_accuracy:.3f}')"
      ],
      "execution_count": 515,
      "outputs": [
        {
          "output_type": "stream",
          "name": "stdout",
          "text": [
            "Точность случайного леса из 50 деревьев на обучающей выборке: 100.000\n"
          ]
        }
      ]
    },
    {
      "cell_type": "code",
      "metadata": {
        "colab": {
          "base_uri": "https://localhost:8080/"
        },
        "id": "c3410PvGrZlx",
        "outputId": "e70188d4-3dcc-4fc1-c807-a5fc72d1df8a"
      },
      "source": [
        "# Точность на тестовой выборке\n",
        "test_accuracy = accuracy_metric(test_labels, test_answers)\n",
        "print(f'Точность случайного леса из {n_trees} деревьев на тестовой выборке: {test_accuracy:.3f}')"
      ],
      "execution_count": 516,
      "outputs": [
        {
          "output_type": "stream",
          "name": "stdout",
          "text": [
            "Точность случайного леса из 50 деревьев на тестовой выборке: 86.667\n"
          ]
        }
      ]
    },
    {
      "cell_type": "code",
      "metadata": {
        "colab": {
          "base_uri": "https://localhost:8080/",
          "height": 444
        },
        "id": "FlYrzDZxreSL",
        "outputId": "78e33aba-ac35-434d-9e99-2976c8f319d4"
      },
      "source": [
        "plot_forest(my_forest, train_data, test_data)"
      ],
      "execution_count": 517,
      "outputs": [
        {
          "output_type": "display_data",
          "data": {
            "image/png": "[encoded data removed]",
            "text/plain": [
              "<Figure size 1152x504 with 2 Axes>"
            ]
          },
          "metadata": {
            "needs_background": "light"
          }
        }
      ]
    },
    {
      "cell_type": "markdown",
      "metadata": {
        "id": "bngN3HFiHnq-"
      },
      "source": [
        "**Лес из 10 деревьев**"
      ]
    },
    {
      "cell_type": "code",
      "metadata": {
        "id": "KvBIIZaQsNsB"
      },
      "source": [
        "n_trees = 10\n",
        "my_forest_10 = random_forest(train_data, train_labels, n_trees)"
      ],
      "execution_count": 518,
      "outputs": []
    },
    {
      "cell_type": "code",
      "metadata": {
        "id": "NtGE1iE_sXGK"
      },
      "source": [
        "# Получим ответы для обучающей выборки \n",
        "train_answers = tree_vote(my_forest, train_data)\n",
        "\n",
        "# И получим ответы для тестовой выборки\n",
        "test_answers = tree_vote(my_forest, test_data)"
      ],
      "execution_count": 519,
      "outputs": []
    },
    {
      "cell_type": "code",
      "metadata": {
        "colab": {
          "base_uri": "https://localhost:8080/"
        },
        "id": "WS6IDR5MscyQ",
        "outputId": "3520c6a8-ddf1-4078-da64-e3edc3ce1990"
      },
      "source": [
        "# Точность на обучающей выборке\n",
        "train_accuracy = accuracy_metric(train_labels, train_answers)\n",
        "print(f'Точность случайного леса из {n_trees} деревьев на обучающей выборке: {train_accuracy:.3f}')"
      ],
      "execution_count": 520,
      "outputs": [
        {
          "output_type": "stream",
          "name": "stdout",
          "text": [
            "Точность случайного леса из 10 деревьев на обучающей выборке: 98.571\n"
          ]
        }
      ]
    },
    {
      "cell_type": "code",
      "metadata": {
        "colab": {
          "base_uri": "https://localhost:8080/"
        },
        "id": "QrTfeX7ssjEx",
        "outputId": "e5fa0ed0-d3b8-4a31-f358-fe02ef78054e"
      },
      "source": [
        "# Точность на тестовой выборке\n",
        "test_accuracy = accuracy_metric(test_labels, test_answers)\n",
        "print(f'Точность случайного леса из {n_trees} деревьев на тестовой выборке: {test_accuracy:.3f}')"
      ],
      "execution_count": 521,
      "outputs": [
        {
          "output_type": "stream",
          "name": "stdout",
          "text": [
            "Точность случайного леса из 10 деревьев на тестовой выборке: 83.333\n"
          ]
        }
      ]
    },
    {
      "cell_type": "code",
      "metadata": {
        "colab": {
          "base_uri": "https://localhost:8080/",
          "height": 444
        },
        "id": "pzKMM229sols",
        "outputId": "9cbdc25a-c2c5-495a-d9cd-67e068495727"
      },
      "source": [
        "plot_forest(my_forest, train_data, test_data)"
      ],
      "execution_count": 522,
      "outputs": [
        {
          "output_type": "display_data",
          "data": {
            "image/png": "[encoded data removed]",
            "text/plain": [
              "<Figure size 1152x504 with 2 Axes>"
            ]
          },
          "metadata": {
            "needs_background": "light"
          }
        }
      ]
    },
    {
      "cell_type": "markdown",
      "metadata": {
        "id": "eC-FI9CWzvvI"
      },
      "source": [
        "**Вывод:** Произошло переобучение. Чем больше деревьев в лесу тем сложнее гиперплоскость."
      ]
    },
    {
      "cell_type": "code",
      "metadata": {
        "colab": {
          "base_uri": "https://localhost:8080/",
          "height": 1000
        },
        "id": "en9f1Er2ugQV",
        "outputId": "4c198d44-597e-4e79-e82c-b988112e0663"
      },
      "source": [
        "trx = [i for i in range(1, 41)]\n",
        "tra = []\n",
        "tea = []\n",
        "for n_trees in trx:\n",
        "    my_forest = random_forest(train_data, train_labels, n_trees)\n",
        "    train_answers = tree_vote(my_forest, train_data)\n",
        "    test_answers = tree_vote(my_forest, test_data)\n",
        "    train_accuracy = accuracy_metric(train_labels, train_answers)\n",
        "    print(f'Точность RFR из {n_trees} деревьев на трейне: {train_accuracy:.3f}')\n",
        "    test_accuracy = accuracy_metric(test_labels, test_answers)\n",
        "    print(f'Точность RFR из {n_trees} деревьев на тестe: {test_accuracy:.3f}')\n",
        "    tra.append(train_accuracy)\n",
        "    tea.append(test_accuracy)\n",
        "    \n",
        "plt.plot(trx, tra)\n",
        "plt.plot(trx, tea)"
      ],
      "execution_count": 523,
      "outputs": [
        {
          "output_type": "stream",
          "name": "stdout",
          "text": [
            "Точность RFR из 1 деревьев на трейне: 95.714\n",
            "Точность RFR из 1 деревьев на тестe: 86.667\n",
            "Точность RFR из 2 деревьев на трейне: 95.714\n",
            "Точность RFR из 2 деревьев на тестe: 86.667\n",
            "Точность RFR из 3 деревьев на трейне: 95.714\n",
            "Точность RFR из 3 деревьев на тестe: 76.667\n",
            "Точность RFR из 4 деревьев на трейне: 100.000\n",
            "Точность RFR из 4 деревьев на тестe: 86.667\n",
            "Точность RFR из 5 деревьев на трейне: 97.143\n",
            "Точность RFR из 5 деревьев на тестe: 80.000\n",
            "Точность RFR из 6 деревьев на трейне: 98.571\n",
            "Точность RFR из 6 деревьев на тестe: 86.667\n",
            "Точность RFR из 7 деревьев на трейне: 98.571\n",
            "Точность RFR из 7 деревьев на тестe: 83.333\n",
            "Точность RFR из 8 деревьев на трейне: 100.000\n",
            "Точность RFR из 8 деревьев на тестe: 86.667\n",
            "Точность RFR из 9 деревьев на трейне: 98.571\n",
            "Точность RFR из 9 деревьев на тестe: 86.667\n",
            "Точность RFR из 10 деревьев на трейне: 98.571\n",
            "Точность RFR из 10 деревьев на тестe: 90.000\n",
            "Точность RFR из 11 деревьев на трейне: 100.000\n",
            "Точность RFR из 11 деревьев на тестe: 86.667\n",
            "Точность RFR из 12 деревьев на трейне: 98.571\n",
            "Точность RFR из 12 деревьев на тестe: 83.333\n",
            "Точность RFR из 13 деревьев на трейне: 98.571\n",
            "Точность RFR из 13 деревьев на тестe: 83.333\n",
            "Точность RFR из 14 деревьев на трейне: 100.000\n",
            "Точность RFR из 14 деревьев на тестe: 86.667\n",
            "Точность RFR из 15 деревьев на трейне: 100.000\n",
            "Точность RFR из 15 деревьев на тестe: 86.667\n",
            "Точность RFR из 16 деревьев на трейне: 100.000\n",
            "Точность RFR из 16 деревьев на тестe: 80.000\n",
            "Точность RFR из 17 деревьев на трейне: 98.571\n",
            "Точность RFR из 17 деревьев на тестe: 83.333\n",
            "Точность RFR из 18 деревьев на трейне: 100.000\n",
            "Точность RFR из 18 деревьев на тестe: 86.667\n",
            "Точность RFR из 19 деревьев на трейне: 100.000\n",
            "Точность RFR из 19 деревьев на тестe: 86.667\n",
            "Точность RFR из 20 деревьев на трейне: 100.000\n",
            "Точность RFR из 20 деревьев на тестe: 86.667\n",
            "Точность RFR из 21 деревьев на трейне: 100.000\n",
            "Точность RFR из 21 деревьев на тестe: 86.667\n",
            "Точность RFR из 22 деревьев на трейне: 100.000\n",
            "Точность RFR из 22 деревьев на тестe: 83.333\n",
            "Точность RFR из 23 деревьев на трейне: 100.000\n",
            "Точность RFR из 23 деревьев на тестe: 83.333\n",
            "Точность RFR из 24 деревьев на трейне: 100.000\n",
            "Точность RFR из 24 деревьев на тестe: 86.667\n",
            "Точность RFR из 25 деревьев на трейне: 100.000\n",
            "Точность RFR из 25 деревьев на тестe: 86.667\n",
            "Точность RFR из 26 деревьев на трейне: 100.000\n",
            "Точность RFR из 26 деревьев на тестe: 80.000\n",
            "Точность RFR из 27 деревьев на трейне: 100.000\n",
            "Точность RFR из 27 деревьев на тестe: 86.667\n",
            "Точность RFR из 28 деревьев на трейне: 98.571\n",
            "Точность RFR из 28 деревьев на тестe: 86.667\n",
            "Точность RFR из 29 деревьев на трейне: 100.000\n",
            "Точность RFR из 29 деревьев на тестe: 86.667\n",
            "Точность RFR из 30 деревьев на трейне: 100.000\n",
            "Точность RFR из 30 деревьев на тестe: 83.333\n",
            "Точность RFR из 31 деревьев на трейне: 100.000\n",
            "Точность RFR из 31 деревьев на тестe: 90.000\n",
            "Точность RFR из 32 деревьев на трейне: 100.000\n",
            "Точность RFR из 32 деревьев на тестe: 86.667\n",
            "Точность RFR из 33 деревьев на трейне: 100.000\n",
            "Точность RFR из 33 деревьев на тестe: 86.667\n",
            "Точность RFR из 34 деревьев на трейне: 100.000\n",
            "Точность RFR из 34 деревьев на тестe: 86.667\n",
            "Точность RFR из 35 деревьев на трейне: 100.000\n",
            "Точность RFR из 35 деревьев на тестe: 83.333\n",
            "Точность RFR из 36 деревьев на трейне: 100.000\n",
            "Точность RFR из 36 деревьев на тестe: 86.667\n",
            "Точность RFR из 37 деревьев на трейне: 100.000\n",
            "Точность RFR из 37 деревьев на тестe: 86.667\n",
            "Точность RFR из 38 деревьев на трейне: 100.000\n",
            "Точность RFR из 38 деревьев на тестe: 86.667\n",
            "Точность RFR из 39 деревьев на трейне: 100.000\n",
            "Точность RFR из 39 деревьев на тестe: 90.000\n",
            "Точность RFR из 40 деревьев на трейне: 100.000\n",
            "Точность RFR из 40 деревьев на тестe: 90.000\n"
          ]
        },
        {
          "output_type": "execute_result",
          "data": {
            "text/plain": [
              "[<matplotlib.lines.Line2D at 0x7fe5bb36f650>]"
            ]
          },
          "metadata": {},
          "execution_count": 523
        },
        {
          "output_type": "display_data",
          "data": {
            "image/png": "[encoded data removed]",
            "text/plain": [
              "<Figure size 432x288 with 1 Axes>"
            ]
          },
          "metadata": {
            "needs_background": "light"
          }
        }
      ]
    },
    {
      "cell_type": "markdown",
      "metadata": {
        "id": "LHE7A8y2utI6"
      },
      "source": [
        "**Вывод:** Расчеты слишком приближаются к данным при увеличении количества деревьев,что приводит к переобучению модели, но и слишком мало деревьев не самый лучший вариант, так как это может привести к недообучению модели. Необходимо найти разумный баланс деревьев чтобы можно было говорить о точности и целосности модели  "
      ]
    },
    {
      "cell_type": "code",
      "metadata": {
        "id": "xhdxwbkn-Xzh"
      },
      "source": [
        "import warnings\n",
        "warnings.filterwarnings('ignore')\n",
        "import numpy as np\n",
        "import pandas as pd\n",
        "%matplotlib inline\n",
        "import seaborn as sns\n",
        "from matplotlib import pyplot as plt"
      ],
      "execution_count": 524,
      "outputs": []
    },
    {
      "cell_type": "code",
      "metadata": {
        "id": "uBdli3WDabXn"
      },
      "source": [
        "def entropy (labels):\n",
        "    #  подсчет количества объектов разных классов\n",
        "    classes = {}\n",
        "    for label in labels:\n",
        "        if label not in classes:\n",
        "            classes[label] = 0\n",
        "        classes[label] += 1\n",
        "    \n",
        "    #  расчет критерия\n",
        "    impurity = 1\n",
        "    for label in classes:\n",
        "        p = classes[label] / len(labels)\n",
        "        impurity -= p * math.log(p, 2)\n",
        "        \n",
        "    return impurity"
      ],
      "execution_count": 525,
      "outputs": []
    },
    {
      "cell_type": "code",
      "metadata": {
        "colab": {
          "base_uri": "https://localhost:8080/",
          "height": 295
        },
        "id": "6NwHNj25-mmF",
        "outputId": "54421c4f-9001-4eff-df96-03f1c3f554dc"
      },
      "source": [
        "plt.rcParams['figure.figsize'] = (6,4)\n",
        "xx = np.linspace(0,1,50)\n",
        "plt.plot(xx, [2 * x * (1-x) for x in xx], label='gini')\n",
        "plt.plot(xx, [-x * np.log2(x) - (1-x) * np.log2(1 - x)  for x in xx], label='entropy')\n",
        "plt.xlabel('p')\n",
        "plt.ylabel('criterion')\n",
        "plt.title('Критерии качества от p')\n",
        "plt.legend();"
      ],
      "execution_count": 526,
      "outputs": [
        {
          "output_type": "display_data",
          "data": {
            "image/png": "[encoded data removed]",
            "text/plain": [
              "<Figure size 432x288 with 1 Axes>"
            ]
          },
          "metadata": {
            "needs_background": "light"
          }
        }
      ]
    }
  ]
}