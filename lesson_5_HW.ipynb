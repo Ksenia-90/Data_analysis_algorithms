{
  "nbformat": 4,
  "nbformat_minor": 0,
  "metadata": {
    "colab": {
      "name": "lesson_5_HW.ipynb",
      "provenance": [],
      "authorship_tag": "ABX9TyP9elLKYouRc77lX1r0WnYx",
      "include_colab_link": true
    },
    "kernelspec": {
      "name": "python3",
      "display_name": "Python 3"
    },
    "language_info": {
      "name": "python"
    }
  },
  "cells": [
    {
      "cell_type": "markdown",
      "metadata": {
        "id": "view-in-github",
        "colab_type": "text"
      },
      "source": [
        "<a href=\"https://colab.research.google.com/github/Ksenia-90/Data_analysis_algorithms/blob/lesson_5/lesson_5_HW.ipynb\" target=\"_parent\"><img src=\"https://colab.research.google.com/assets/colab-badge.svg\" alt=\"Open In Colab\"/></a>"
      ]
    },
    {
      "cell_type": "markdown",
      "metadata": {
        "id": "O7cIBgOLhkoM"
      },
      "source": [
        "##**Урок 5. Случайный лес**"
      ]
    },
    {
      "cell_type": "markdown",
      "metadata": {
        "id": "3arzwKOvh5nQ"
      },
      "source": [
        "1.Сформировать с помощью sklearn.make_classification датасет из 100 объектов с двумя признаками, обучить случайный лес из 1, 3, 10 и 50 деревьев и визуализировать их разделяющие гиперплоскости на графиках (по подобию визуализации деревьев из предыдущего урока, необходимо только заменить вызов функции predict на tree_vote)."
      ]
    },
    {
      "cell_type": "markdown",
      "metadata": {
        "id": "ZU6aeUDqh_8-"
      },
      "source": [
        "2.Сделать выводы о получаемой сложности гиперплоскости и недообучении или переобучении случайного леса в зависимости от количества деревьев в нем"
      ]
    },
    {
      "cell_type": "markdown",
      "metadata": {
        "id": "yUTtHYT3iDvU"
      },
      "source": [
        "3.Заменить в реализованном алгоритме проверку с помощью отложенной выборки на Out-of-Bag."
      ]
    },
    {
      "cell_type": "markdown",
      "metadata": {
        "id": "_x1rNByXiIFP"
      },
      "source": [
        "4.(На повторение) Переписать функцию gini из урока про решающие деревья так, чтобы в качестве критерия использовалась энтропия Шэннона. Переименовать функцию в entropy и сравнить результаты построения леса по Шеннону и Gini."
      ]
    },
    {
      "cell_type": "code",
      "metadata": {
        "id": "5obFJJi-5VRx"
      },
      "source": [
        "import numpy as np\n",
        "import random\n",
        "from sklearn import datasets\n",
        "import matplotlib.pyplot as plt\n",
        "from matplotlib.colors import ListedColormap\n",
        "from sklearn import datasets\n",
        "\n",
        "%matplotlib inline"
      ],
      "execution_count": 95,
      "outputs": []
    },
    {
      "cell_type": "code",
      "metadata": {
        "id": "CCdLJh6K5J9v"
      },
      "source": [
        "# сгенерируем данные, представляющие собой 100 объектов с 2мя признаками\n",
        "classification_data, classification_labels = datasets.make_classification(n_samples=100,\n",
        "                                                      n_features = 2, n_informative = 2, \n",
        "                                                      n_classes = 2, n_redundant=0, \n",
        "                                                      n_clusters_per_class=1, random_state=23)"
      ],
      "execution_count": 96,
      "outputs": []
    },
    {
      "cell_type": "code",
      "metadata": {
        "colab": {
          "base_uri": "https://localhost:8080/",
          "height": 500
        },
        "id": "7-qJLh7Y5NMJ",
        "outputId": "2e8d43ae-4c4e-457e-f37f-1686c702e984"
      },
      "source": [
        "# визуализируем сгенерированные данные\n",
        "\n",
        "colors = ListedColormap(['red', 'blue'])\n",
        "light_colors = ListedColormap(['lightcoral', 'lightblue'])\n",
        "\n",
        "plt.figure(figsize=(8,8))\n",
        "plt.scatter(list(map(lambda x: x[0], classification_data)), list(map(lambda x: x[1], classification_data)), \n",
        "              c=classification_labels, cmap=colors)"
      ],
      "execution_count": 97,
      "outputs": [
        {
          "output_type": "execute_result",
          "data": {
            "text/plain": [
              "<matplotlib.collections.PathCollection at 0x7ff577b33c10>"
            ]
          },
          "metadata": {},
          "execution_count": 97
        },
        {
          "output_type": "display_data",
          "data": {
            "image/png": "[encoded data removed]",
            "text/plain": [
              "<Figure size 576x576 with 1 Axes>"
            ]
          },
          "metadata": {
            "needs_background": "light"
          }
        }
      ]
    },
    {
      "cell_type": "code",
      "metadata": {
        "id": "HofjJv_nEvpy"
      },
      "source": [
        "random.seed(42)\n",
        "\n",
        "def get_bootstrap(data, labels, N):\n",
        "    n_samples = data.shape[0]\n",
        "    bootstrap = []\n",
        "    \n",
        "    for i in range(N):\n",
        "        b_data = np.zeros(data.shape)\n",
        "        b_labels = np.zeros(labels.shape)\n",
        "        \n",
        "        for j in range(n_samples):\n",
        "            sample_index = random.randint(0, n_samples-1)\n",
        "            b_data[j] = data[sample_index]\n",
        "            b_labels[j] = labels[sample_index]\n",
        "        bootstrap.append((b_data, b_labels))\n",
        "        \n",
        "    return bootstrap"
      ],
      "execution_count": 98,
      "outputs": []
    },
    {
      "cell_type": "code",
      "metadata": {
        "id": "C8RaQ0dyEyvE"
      },
      "source": [
        "def get_subsample(len_sample):\n",
        "    # будем сохранять не сами признаки, а их индексы\n",
        "    sample_indexes = [i for i in range(len_sample)]\n",
        "    \n",
        "    len_subsample = int(np.sqrt(len_sample))\n",
        "    subsample = []\n",
        "    \n",
        "    random.shuffle(sample_indexes)\n",
        "    for _ in range(len_subsample):\n",
        "        subsample.append(sample_indexes.pop())\n",
        "        \n",
        "    return subsample"
      ],
      "execution_count": 99,
      "outputs": []
    },
    {
      "cell_type": "code",
      "metadata": {
        "id": "Ic-c9uy5E23G"
      },
      "source": [
        "# Реализуем класс узла\n",
        "\n",
        "class Node:\n",
        "    \n",
        "    def __init__(self, index, t, true_branch, false_branch):\n",
        "        self.index = index  # индекс признака, по которому ведется сравнение с порогом в этом узле\n",
        "        self.t = t  # значение порога\n",
        "        self.true_branch = true_branch  # поддерево, удовлетворяющее условию в узле\n",
        "        self.false_branch = false_branch  # поддерево, не удовлетворяющее условию в узле"
      ],
      "execution_count": 100,
      "outputs": []
    },
    {
      "cell_type": "code",
      "metadata": {
        "id": "P5igxv6zE3kp"
      },
      "source": [
        "class Leaf:\n",
        "    \n",
        "    def __init__(self, data, labels):\n",
        "        self.data = data\n",
        "        self.labels = labels\n",
        "        self.prediction = self.predict()\n",
        "        \n",
        "    def predict(self):\n",
        "        # подсчет количества объектов разных классов\n",
        "        classes = {}  # сформируем словарь \"класс: количество объектов\"\n",
        "        for label in self.labels:\n",
        "            if label not in classes:\n",
        "                classes[label] = 0\n",
        "            classes[label] += 1\n",
        "        #  найдем класс, количество объектов которого будет максимальным в этом листе и вернем его    \n",
        "        prediction = max(classes, key=classes.get)\n",
        "        return prediction       "
      ],
      "execution_count": 101,
      "outputs": []
    },
    {
      "cell_type": "code",
      "metadata": {
        "id": "XTdJoVYBE6gB"
      },
      "source": [
        "# Расчет критерия Джини\n",
        "\n",
        "def gini(labels):\n",
        "    #  подсчет количества объектов разных классов\n",
        "    classes = {}\n",
        "    for label in labels:\n",
        "        if label not in classes:\n",
        "            classes[label] = 0\n",
        "        classes[label] += 1\n",
        "    \n",
        "    #  расчет критерия\n",
        "    impurity = 1\n",
        "    for label in classes:\n",
        "        p = classes[label] / len(labels)\n",
        "        impurity -= p ** 2\n",
        "        \n",
        "    return impurity"
      ],
      "execution_count": 102,
      "outputs": []
    },
    {
      "cell_type": "code",
      "metadata": {
        "id": "piopeAtYE91n"
      },
      "source": [
        "# Расчет качества\n",
        "\n",
        "def quality(left_labels, right_labels, current_gini):\n",
        "\n",
        "    # доля выбоки, ушедшая в левое поддерево\n",
        "    p = float(left_labels.shape[0]) / (left_labels.shape[0] + right_labels.shape[0])\n",
        "    \n",
        "    return current_gini - p * gini(left_labels) - (1 - p) * gini(right_labels)"
      ],
      "execution_count": 103,
      "outputs": []
    },
    {
      "cell_type": "code",
      "metadata": {
        "id": "-KbuZlBhFAXD"
      },
      "source": [
        "# Разбиение датасета в узле\n",
        "\n",
        "def split(data, labels, index, t):\n",
        "    \n",
        "    left = np.where(data[:, index] <= t)\n",
        "    right = np.where(data[:, index] > t)\n",
        "        \n",
        "    true_data = data[left]\n",
        "    false_data = data[right]\n",
        "    true_labels = labels[left]\n",
        "    false_labels = labels[right]\n",
        "        \n",
        "    return true_data, false_data, true_labels, false_labels"
      ],
      "execution_count": 104,
      "outputs": []
    },
    {
      "cell_type": "code",
      "metadata": {
        "id": "34FlpxWpFD4X"
      },
      "source": [
        "# Нахождение наилучшего разбиения\n",
        "\n",
        "def find_best_split(data, labels):\n",
        "    \n",
        "    #  обозначим минимальное количество объектов в узле\n",
        "    min_leaf = 1\n",
        "\n",
        "    current_gini = gini(labels)\n",
        "\n",
        "    best_quality = 0\n",
        "    best_t = None\n",
        "    best_index = None\n",
        "    \n",
        "    n_features = data.shape[1]\n",
        "    \n",
        "    # выбор индекса из подвыборки длиной sqrt(n_features)\n",
        "    subsample = get_subsample(n_features)\n",
        "    \n",
        "    for index in subsample:\n",
        "        t_values = [row[index] for row in data]\n",
        "        \n",
        "        for t in t_values:\n",
        "            true_data, false_data, true_labels, false_labels = split(data, labels, index, t)\n",
        "            #  пропускаем разбиения, в которых в узле остается менее 5 объектов\n",
        "            if len(true_data) < min_leaf or len(false_data) < min_leaf:\n",
        "                continue\n",
        "            \n",
        "            current_quality = quality(true_labels, false_labels, current_gini)\n",
        "            \n",
        "            #  выбираем порог, на котором получается максимальный прирост качества\n",
        "            if current_quality > best_quality:\n",
        "                best_quality, best_t, best_index = current_quality, t, index\n",
        "\n",
        "    return best_quality, best_t, best_index"
      ],
      "execution_count": 105,
      "outputs": []
    },
    {
      "cell_type": "code",
      "metadata": {
        "id": "KNWxxGyMFMsb"
      },
      "source": [
        "# Построение дерева с помощью рекурсивной функции\n",
        "\n",
        "def build_tree(data, labels):\n",
        "\n",
        "    quality, t, index = find_best_split(data, labels)\n",
        "\n",
        "    #  Базовый случай - прекращаем рекурсию, когда нет прироста в качества\n",
        "    if quality == 0:\n",
        "        return Leaf(data, labels)\n",
        "\n",
        "    true_data, false_data, true_labels, false_labels = split(data, labels, index, t)\n",
        "\n",
        "    # Рекурсивно строим два поддерева\n",
        "    true_branch = build_tree(true_data, true_labels)\n",
        "    false_branch = build_tree(false_data, false_labels)\n",
        "\n",
        "    # Возвращаем класс узла со всеми поддеревьями, то есть целого дерева\n",
        "    return Node(index, t, true_branch, false_branch)"
      ],
      "execution_count": 106,
      "outputs": []
    },
    {
      "cell_type": "markdown",
      "metadata": {
        "id": "3PN8T5tkFp6I"
      },
      "source": [
        "Функция формирования случайного леса"
      ]
    },
    {
      "cell_type": "code",
      "metadata": {
        "id": "VbicSO3NFoxR"
      },
      "source": [
        "def random_forest(data, labels, n_trees):\n",
        "    forest = []\n",
        "    bootstrap = get_bootstrap(data, labels, n_trees)\n",
        "    \n",
        "    for b_data, b_labels in bootstrap:\n",
        "        forest.append(build_tree(b_data, b_labels))\n",
        "        \n",
        "    return forest"
      ],
      "execution_count": 107,
      "outputs": []
    },
    {
      "cell_type": "code",
      "metadata": {
        "id": "cnoqEi3iFW2V"
      },
      "source": [
        "#Добавим фукцию случайного формирования леса\n",
        "def random_forest(data, labels, n_trees):\n",
        "    forest = []\n",
        "    bootstrap = get_bootstrap(data, labels, n_trees)\n",
        "    \n",
        "    for b_data, b_labels in bootstrap:\n",
        "        forest.append(build_tree(b_data, b_labels))\n",
        "        \n",
        "    return forest"
      ],
      "execution_count": 108,
      "outputs": []
    },
    {
      "cell_type": "code",
      "metadata": {
        "id": "lFa2QChFHKn5"
      },
      "source": [
        " #Функция классификации отдельного объекта\n",
        "\n",
        "def classify_object(obj, node):\n",
        "\n",
        "    #  Останавливаем рекурсию, если достигли листа\n",
        "    if isinstance(node, Leaf):\n",
        "        answer = node.prediction\n",
        "        return answer\n",
        "\n",
        "    if obj[node.index] <= node.t:\n",
        "        return classify_object(obj, node.true_branch)\n",
        "    else:\n",
        "        return classify_object(obj, node.false_branch)"
      ],
      "execution_count": 109,
      "outputs": []
    },
    {
      "cell_type": "code",
      "metadata": {
        "id": "xC1DL2aEFzT6"
      },
      "source": [
        "# функция формирования предсказания по выборке на одном дереве\n",
        "\n",
        "def predict(data, tree):\n",
        "    \n",
        "    classes = []\n",
        "    for obj in data:\n",
        "        prediction = classify_object(obj, tree)\n",
        "        classes.append(prediction)\n",
        "    return classes\n"
      ],
      "execution_count": 110,
      "outputs": []
    },
    {
      "cell_type": "code",
      "metadata": {
        "id": "k6CSVPpeF33I"
      },
      "source": [
        "# предсказание голосованием деревьев\n",
        "\n",
        "def tree_vote(forest, data):\n",
        "\n",
        "    # добавим предсказания всех деревьев в список\n",
        "    predictions = []\n",
        "    for tree in forest:\n",
        "        predictions.append(predict(data, tree))\n",
        "    \n",
        "    # сформируем список с предсказаниями для каждого объекта\n",
        "    predictions_per_object = list(zip(*predictions))\n",
        "    \n",
        "    # выберем в качестве итогового предсказания для каждого объекта то,\n",
        "    # за которое проголосовало большинство деревьев\n",
        "    voted_predictions = []\n",
        "    for obj in predictions_per_object:\n",
        "        voted_predictions.append(max(set(obj), key=obj.count))\n",
        "        \n",
        "    return voted_predictions"
      ],
      "execution_count": 111,
      "outputs": []
    },
    {
      "cell_type": "code",
      "metadata": {
        "id": "8o_4i-iNF-Y-"
      },
      "source": [
        "def get_meshgrid(data, step=.05, border=1.2):\n",
        "    x_min, x_max = data[:, 0].min() - border, data[:, 0].max() + border\n",
        "    y_min, y_max = data[:, 1].min() - border, data[:, 1].max() + border\n",
        "    return np.meshgrid(np.arange(x_min, x_max, step), np.arange(y_min, y_max, step))\n"
      ],
      "execution_count": 112,
      "outputs": []
    },
    {
      "cell_type": "code",
      "metadata": {
        "id": "wea7y5DTGIzr"
      },
      "source": [
        "# Визуализируем дерево на графике\n",
        "\n",
        "def plot_forest(forest, train_data, test_data):\n",
        "    \n",
        "    plt.figure(figsize = (16, 7))\n",
        "\n",
        "    # график обучающей выборки\n",
        "    plt.subplot(1,2,1)\n",
        "    xx, yy = get_meshgrid(train_data)\n",
        "    mesh_predictions = np.array(tree_vote(forest, np.c_[xx.ravel(), yy.ravel()])).reshape(xx.shape)\n",
        "    plt.pcolormesh(xx, yy, mesh_predictions, cmap = light_colors)\n",
        "    plt.scatter(train_data[:, 0], train_data[:, 1], c = train_labels, cmap = colors)\n",
        "    plt.title(f'Train accuracy={train_accuracy:.2f}')\n",
        "\n",
        "    # график тестовой выборки\n",
        "    plt.subplot(1,2,2)\n",
        "    plt.pcolormesh(xx, yy, mesh_predictions, cmap = light_colors)\n",
        "    plt.scatter(test_data[:, 0], test_data[:, 1], c = test_labels, cmap = colors)\n",
        "    plt.title(f'Test accuracy={test_accuracy:.2f}')"
      ],
      "execution_count": 113,
      "outputs": []
    },
    {
      "cell_type": "code",
      "metadata": {
        "id": "iMYhvgFPGOMG"
      },
      "source": [
        "# Разобьем выборку на обучающую и тестовую\n",
        "\n",
        "from sklearn import model_selection\n",
        "\n",
        "train_data, test_data, train_labels, test_labels = model_selection.train_test_split(classification_data, \n",
        "                                                                                     classification_labels, \n",
        "                                                                                     test_size = 0.3,\n",
        "                                                                                     random_state = 1)"
      ],
      "execution_count": 114,
      "outputs": []
    },
    {
      "cell_type": "code",
      "metadata": {
        "id": "YsPEK-heGO8C"
      },
      "source": [
        "# Введем функцию подсчета точности как доли правильных ответов\n",
        "\n",
        "def accuracy_metric(actual, predicted):\n",
        "    correct = 0\n",
        "    for i in range(len(actual)):\n",
        "        if actual[i] == predicted[i]:\n",
        "            correct += 1\n",
        "    return correct / float(len(actual)) * 100.0"
      ],
      "execution_count": 115,
      "outputs": []
    },
    {
      "cell_type": "markdown",
      "metadata": {
        "id": "3p01O5MkGUia"
      },
      "source": [
        "**Лес из одного дерева**"
      ]
    },
    {
      "cell_type": "code",
      "metadata": {
        "id": "xwH69dQZGnBv"
      },
      "source": [
        "n_trees = 1\n",
        "my_forest_1 = random_forest(train_data, train_labels, n_trees)"
      ],
      "execution_count": 116,
      "outputs": []
    },
    {
      "cell_type": "code",
      "metadata": {
        "id": "Wr_jVZo_GrYa"
      },
      "source": [
        "# Получим ответы для обучающей выборки \n",
        "train_answers = tree_vote(my_forest_1, train_data)\n",
        "\n",
        "# И получим ответы для тестовой выборки\n",
        "test_answers = tree_vote(my_forest_1, test_data)"
      ],
      "execution_count": 117,
      "outputs": []
    },
    {
      "cell_type": "code",
      "metadata": {
        "colab": {
          "base_uri": "https://localhost:8080/"
        },
        "id": "sSmtLJCfGwpJ",
        "outputId": "8c9b6640-9a7b-4e42-e831-3cd57dc0f0ce"
      },
      "source": [
        "# Точность на обучающей выборке\n",
        "train_accuracy = accuracy_metric(train_labels, train_answers)\n",
        "print(f'Точность случайного леса из {n_trees} деревьев на обучающей выборке: {train_accuracy:.3f}')"
      ],
      "execution_count": 118,
      "outputs": [
        {
          "output_type": "stream",
          "name": "stdout",
          "text": [
            "Точность случайного леса из 1 деревьев на обучающей выборке: 97.143\n"
          ]
        }
      ]
    },
    {
      "cell_type": "code",
      "metadata": {
        "colab": {
          "base_uri": "https://localhost:8080/"
        },
        "id": "5zczIRpuGy_9",
        "outputId": "e020fdcb-57a1-4894-e7d8-1675c52fb681"
      },
      "source": [
        "# Точность на тестовой выборке\n",
        "test_accuracy = accuracy_metric(test_labels, test_answers)\n",
        "print(f'Точность случайного леса из {n_trees} деревьев на тестовой выборке: {test_accuracy:.3f}')"
      ],
      "execution_count": 119,
      "outputs": [
        {
          "output_type": "stream",
          "name": "stdout",
          "text": [
            "Точность случайного леса из 1 деревьев на тестовой выборке: 80.000\n"
          ]
        }
      ]
    },
    {
      "cell_type": "code",
      "metadata": {
        "colab": {
          "base_uri": "https://localhost:8080/",
          "height": 444
        },
        "id": "a2YQIpT2G1K1",
        "outputId": "3d245d55-e487-4ed2-a8a4-480e15abb0c9"
      },
      "source": [
        "plot_forest(my_forest_1, train_data, test_data)"
      ],
      "execution_count": 120,
      "outputs": [
        {
          "output_type": "display_data",
          "data": {
            "image/png": "[encoded data removed]",
            "text/plain": [
              "<Figure size 1152x504 with 2 Axes>"
            ]
          },
          "metadata": {
            "needs_background": "light"
          }
        }
      ]
    },
    {
      "cell_type": "markdown",
      "metadata": {
        "id": "biRt_gr8Hb1K"
      },
      "source": [
        "**Лес из 3-х деревьев**"
      ]
    },
    {
      "cell_type": "code",
      "metadata": {
        "id": "zyk9Jb4bH00D"
      },
      "source": [
        "n_trees_3 = 3\n",
        "my_forest_3 = random_forest(train_data, train_labels, n_trees_3)"
      ],
      "execution_count": 121,
      "outputs": []
    },
    {
      "cell_type": "code",
      "metadata": {
        "id": "_zbkErB8IA2l"
      },
      "source": [
        "# Получим ответы для обучающей выборки \n",
        "train_answers = tree_vote(my_forest_3, train_data)\n",
        "\n",
        "# И получим ответы для тестовой выборки\n",
        "test_answers = tree_vote(my_forest_3, test_data)"
      ],
      "execution_count": 122,
      "outputs": []
    },
    {
      "cell_type": "code",
      "metadata": {
        "colab": {
          "base_uri": "https://localhost:8080/"
        },
        "id": "AJ5zsNIYIMFP",
        "outputId": "c1c409fa-23ad-49b6-f5bb-05de1f09c318"
      },
      "source": [
        "# Точность на обучающей выборке\n",
        "train_accuracy = accuracy_metric(train_labels, train_answers)\n",
        "print(f'Точность случайного леса из {n_trees_3} деревьев на обучающей выборке: {train_accuracy:.3f}')"
      ],
      "execution_count": 123,
      "outputs": [
        {
          "output_type": "stream",
          "name": "stdout",
          "text": [
            "Точность случайного леса из 3 деревьев на обучающей выборке: 97.143\n"
          ]
        }
      ]
    },
    {
      "cell_type": "code",
      "metadata": {
        "colab": {
          "base_uri": "https://localhost:8080/"
        },
        "id": "whpK9l6PIW24",
        "outputId": "99d854a3-6354-45e6-ac55-c05ce6ec7f2f"
      },
      "source": [
        "# Точность на тестовой выборке\n",
        "test_accuracy = accuracy_metric(test_labels, test_answers)\n",
        "print(f'Точность случайного леса из {n_trees_3} деревьев на тестовой выборке: {test_accuracy:.3f}')"
      ],
      "execution_count": 124,
      "outputs": [
        {
          "output_type": "stream",
          "name": "stdout",
          "text": [
            "Точность случайного леса из 3 деревьев на тестовой выборке: 80.000\n"
          ]
        }
      ]
    },
    {
      "cell_type": "code",
      "metadata": {
        "colab": {
          "base_uri": "https://localhost:8080/",
          "height": 444
        },
        "id": "AWb57tafIeyy",
        "outputId": "c0998639-5bb2-4019-f592-9cfd34fff932"
      },
      "source": [
        "plot_forest(my_forest_3, train_data, test_data)"
      ],
      "execution_count": 125,
      "outputs": [
        {
          "output_type": "display_data",
          "data": {
            "image/png": "[encoded data removed]",
            "text/plain": [
              "<Figure size 1152x504 with 2 Axes>"
            ]
          },
          "metadata": {
            "needs_background": "light"
          }
        }
      ]
    },
    {
      "cell_type": "markdown",
      "metadata": {
        "id": "CgcTgefPHnct"
      },
      "source": [
        "**Лес из 5 деревьев**"
      ]
    },
    {
      "cell_type": "markdown",
      "metadata": {
        "id": "bngN3HFiHnq-"
      },
      "source": [
        "**Лес из 10 деревьев**"
      ]
    },
    {
      "cell_type": "code",
      "metadata": {
        "id": "fn8bmAGkGRlA"
      },
      "source": [
        ""
      ],
      "execution_count": 125,
      "outputs": []
    }
  ]
}